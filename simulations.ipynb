{
 "cells": [
  {
   "cell_type": "markdown",
   "metadata": {},
   "source": [
    "# Simulations\n",
    "\n",
    "This model simulates the calibrated model in response to aggregate-demand shocks and aggregate-supply shocks.\n",
    "\n",
    "The simulations are based on Section 5 in Michaillat and Saez ([2019](https://www.pascalmichaillat.org/6.html))"
   ]
  },
  {
   "cell_type": "code",
   "execution_count": 1,
   "metadata": {},
   "outputs": [],
   "source": [
    "# %load setup.py\n",
    "import numpy as np\n",
    "import matplotlib.pyplot as plt\n",
    "import pandas as pd"
   ]
  },
  {
   "cell_type": "markdown",
   "metadata": {},
   "source": [
    "## Calibration\n",
    "\n",
    "We want to use the following parameters in our simulations:\n",
    "1. $\\epsilon$ : elasticity of substitution between public and private consumption\n",
    "1. $\\eta$ : matching elasticity\n",
    "1. $s$ : job-separation rate\n",
    "1. $\\omega$ : matching efficiency\n",
    "1. $\\bar{u}$ : average unemployment rate\n",
    "1. $\\bar{x}$ : average labor market tightness\n",
    "1. $\\bar{M}$ : average output multiplier (same as unemployment multiplier)\n",
    "1. $\\bar{G/C}$ : average ratio between public and private employment\n",
    "1. $\\rho$ : the cost of posting a vacancy\n",
    "1. $\\bar{Y}$ : average output\n",
    "1. $\\gamma$ : preference parameter\n",
    "1. $k$ : productive capacity, which can also be endogenized by adding a labor market where firms hire workers\n",
    "\n",
    "Under the `Calibration` section of `optimal-stimulus.ipynb`, we already calibrated parameters $1-9$. We can run `optimal-stimulus.ipynb`  to get all calibrated values based on US data between 2001-01-01 and 2019-12-31:"
   ]
  },
  {
   "cell_type": "code",
   "execution_count": 2,
   "metadata": {},
   "outputs": [],
   "source": [
    "%%capture\n",
    "%run optimal-stimulus.ipynb"
   ]
  },
  {
   "cell_type": "markdown",
   "metadata": {},
   "source": [
    "Alternatively, one can uncomment the following code block and set the parameters manually. "
   ]
  },
  {
   "cell_type": "code",
   "execution_count": 3,
   "metadata": {},
   "outputs": [],
   "source": [
    "# epsilon = 1 \n",
    "# eta = 0.6\n",
    "# s = 0.028 \n",
    "# omega = 0.60 \n",
    "# u_bar = 0.061\n",
    "# x_bar = 0.43\n",
    "# M_bar = 0.5 \n",
    "# GC_bar = 0.197 \n",
    "# rho = 1.08"
   ]
  },
  {
   "cell_type": "markdown",
   "metadata": {},
   "source": [
    "We now calibrate the remaining parameters as follow:"
   ]
  },
  {
   "cell_type": "code",
   "execution_count": 4,
   "metadata": {},
   "outputs": [],
   "source": [
    "k = 1 # normalization\n",
    "Y_bar = k*(1 - u_bar)\n",
    "gamma = 1/(1 + 1/GC_bar) "
   ]
  },
  {
   "cell_type": "markdown",
   "metadata": {},
   "source": [
    "For convenience, we define the functions to calculate key macroeconomic variables  $G/Y, C/Y$, and $G/C$. The expressions for them simply follow from accounting identity.    "
   ]
  },
  {
   "cell_type": "code",
   "execution_count": 5,
   "metadata": {},
   "outputs": [],
   "source": [
    "GY = lambda gc:gc/(1 + gc) # G/Y\n",
    "CY = lambda gc:1 - GY(gc)  # C/Y\n",
    "GC = lambda GY:GY/(1 - GY) # G/C"
   ]
  },
  {
   "cell_type": "markdown",
   "metadata": {},
   "source": [
    "We then use these functions to calculate target macroeconomic variables."
   ]
  },
  {
   "cell_type": "code",
   "execution_count": 6,
   "metadata": {},
   "outputs": [],
   "source": [
    "GY_bar = GY(GC_bar)\n",
    "CY_bar = CY(GC_bar)\n",
    "G_bar = GY_bar*Y_bar\n",
    "C_bar = CY_bar*Y_bar"
   ]
  },
  {
   "cell_type": "markdown",
   "metadata": {},
   "source": [
    "We can also calculate the price rigidity $r$. At the efficient level, we have that\n",
    "\n",
    "                $M = \\frac{r}{\\gamma r + (1-\\gamma)\\epsilon},$              [![Generic badge](https://img.shields.io/badge/MS19-Eq%20A4-purple?logo=read-the-docs)](https://www.pascalmichaillat.org/6.html)  \n",
    "\n",
    "which implies that:\n",
    "\n",
    "                $r = \\frac{(1-\\gamma)\\epsilon M}{1 - \\gamma M} = \\frac{\\overline{C/Y}\\epsilon M}{1 - \\overline{G/Y} M}.$"
   ]
  },
  {
   "cell_type": "code",
   "execution_count": 7,
   "metadata": {},
   "outputs": [],
   "source": [
    "r = (M_bar*epsilon*CY_bar)/(1 - M_bar*GY_bar)"
   ]
  },
  {
   "cell_type": "markdown",
   "metadata": {},
   "source": [
    "We also set up functions for the following labor market parameters. \n",
    "\n",
    "The buying rate $q$, as a function of labor market tightness $x$, is:\n",
    "\n",
    "                $q(x(t)) = \\frac{h(t)}{v(t)}=\\omega x(t)^{-\\eta}.$        [![Generic badge](https://img.shields.io/badge/MS19-p.%201305-purple?logo=read-the-docs)](https://www.pascalmichaillat.org/6.html)  \n",
    "                \n",
    "The selling rate $f$, as a function of labor market tightness $x$, is:\n",
    "\n",
    "                $f(x) = \\omega x^{1-\\eta}.$             [![Generic badge](https://img.shields.io/badge/MS19-p.%201305-purple?logo=read-the-docs)](https://www.pascalmichaillat.org/6.html) \n",
    "                \n",
    "The matching wedge $\\tau$ is:\n",
    "\n",
    "                $\\tau(x) = \\frac{\\rho s}{q(x) - \\rho s}, $             [![Generic badge](https://img.shields.io/badge/MS19-Eq%203-purple?logo=read-the-docs)](https://www.pascalmichaillat.org/6.html) "
   ]
  },
  {
   "cell_type": "code",
   "execution_count": 8,
   "metadata": {},
   "outputs": [],
   "source": [
    "q = lambda x:omega*x**(-eta) #buying rate\n",
    "f = lambda x:omega*x**(1 - eta) #selling rate\n",
    "tau = lambda x:s*rho/(q(x) - s*rho) #matching wedge"
   ]
  },
  {
   "cell_type": "markdown",
   "metadata": {},
   "source": [
    "We can also calculate the elasticity of output to tightness. \n",
    "\n",
    "First, we have that unemployment rate is: \n",
    "\n",
    "                $u(x) = \\frac{s}{s+f(x)}.$              [![Generic badge](https://img.shields.io/badge/MS19-Eq%202-purple?logo=read-the-docs)](https://www.pascalmichaillat.org/6.html)  \n",
    "                \n",
    "\n",
    "Also, output is given by:\n",
    "\n",
    "                $Y(x, k) = \\frac{f(x)}{s+f(x)}k = (1-u(x))\\cdot k.$    [![Generic badge](https://img.shields.io/badge/MS19-Eq%201-purple?logo=read-the-docs)](https://www.pascalmichaillat.org/6.html) \n",
    "\n",
    "Thus, the elasticity of output to tightness is:\n",
    "\n",
    "                $\\frac{d\\ln{y}}{d\\ln{x}} = (1-\\eta) * u(x) - \\eta * \\tau(x).$"
   ]
  },
  {
   "cell_type": "code",
   "execution_count": 9,
   "metadata": {},
   "outputs": [],
   "source": [
    "u = lambda x:s/(s + f(x))  # unemployment rate\n",
    "Y = lambda x:(1 - u(x))*k  # output\n",
    "dlnydlnx = lambda x:(1-eta)*u(x) - eta*tau(x) #elasticity of output to tightness"
   ]
  },
  {
   "cell_type": "markdown",
   "metadata": {},
   "source": [
    "## Utility Function   [![Generic badge](https://img.shields.io/badge/MS19-p.%20A1~A2-purple?logo=read-the-docs)](https://www.pascalmichaillat.org/6.html)\n",
    "\n",
    "Given the elasticity of substitution between private and public consumption $\\epsilon$, we have the following CES utility function:\n",
    "\n",
    "\n",
    "                $\\mathcal{U}(c, g) = \\left((1-\\gamma)^{1/\\epsilon}c^{(\\epsilon-1)/\\epsilon} + \\gamma ^{1/\\epsilon}g^{(\\epsilon - 1)/\\epsilon}\\right)^{\\epsilon/(\\epsilon - 1)}.$            [![Generic badge](https://img.shields.io/badge/MS19-Eq%208-purple?logo=read-the-docs)](https://www.pascalmichaillat.org/6.html)  \n",
    "\n",
    "When $\\epsilon = 1$, the utility function is Cobb-Douglas:\n",
    "\n",
    "                $\\mathcal{U}(c,g) = \\frac{c^{1-\\gamma} g^{\\gamma}}{(1-\\gamma)^{1-\\gamma}\\gamma^\\gamma}.$\n"
   ]
  },
  {
   "cell_type": "code",
   "execution_count": 10,
   "metadata": {},
   "outputs": [],
   "source": [
    "if epsilon == 1:\n",
    "    scalar = (1 - gamma)**(1 - gamma)*gamma**gamma\n",
    "    U = lambda c, g:c**(1 - gamma)*g**(gamma)/scalar\n",
    "else:\n",
    "    U = lambda c, g:((1 - gamma)**(1/epsilon)*c**((epsilon - 1)/epsilon) + \n",
    "                     gamma**(1/epsilon)*g**((epsilon - 1)/epsilon))**(epsilon/(epsilon - 1))"
   ]
  },
  {
   "cell_type": "markdown",
   "metadata": {},
   "source": [
    "With the given utility function, we have the following first derivatives:\n",
    "\n",
    "                $\\frac{\\delta \\ln{\\mathcal{U}}}{\\delta \\ln{c}} = (1-\\gamma)^{{1/\\epsilon}} \\left(\\frac{c}{\\mathcal{U}}\\right)^{\\frac{\\epsilon-1}{\\epsilon}},\\quad \\mathcal{U}_c \\equiv \\frac{\\delta \\mathcal{U}}{\\delta c} = \\left((1-\\gamma) \\frac{\\mathcal{U}}{c}\\right)^{1/\\epsilon},$\n",
    "\n",
    "                $\\frac{\\delta \\ln{\\mathcal{U}}}{\\delta \\ln{g}} = \\gamma^{{1/\\epsilon}} \\left(\\frac{g}{\\mathcal{U}}\\right)^{\\frac{\\epsilon-1}{\\epsilon}},\\quad \\mathcal{U}_g \\equiv \\frac{\\delta \\mathcal{U}}{\\delta g} = \\left(\\gamma \\frac{\\mathcal{U}}{g}\\right)^{1/\\epsilon}.$           [![Generic badge](https://img.shields.io/badge/MS19-p.%20A1-purple?logo=read-the-docs)](https://www.pascalmichaillat.org/6.html)\n",
    "\n",
    "which gives the marginal rate of substitution:\n",
    "\n",
    "                $MRS_{gc} = \\frac{\\mathcal{U}_g}{\\mathcal{U}_c}  = \\frac{\\gamma^{1/\\epsilon}}{(1-\\gamma)^{1/\\epsilon}}*(gc)^{1/\\epsilon}.$\n",
    "\n",
    "We also have the following second derivatives:\n",
    "\n",
    "                $\\frac{\\delta \\ln{\\mathcal{U}_c}}{\\delta \\ln{c}} = \\frac{1}{\\epsilon}\\left(\\frac{\\delta \\mathcal{U}}{\\delta c} -1 \\right),$                      \n",
    "\n",
    "                $\\frac{\\delta \\ln{\\mathcal{U}_c}}{\\delta \\ln{g}} = \\frac{1}{\\epsilon}\\left(\\frac{\\delta \\mathcal{U}}{\\delta g} \\right).$                        [![Generic badge](https://img.shields.io/badge/MS19-p.%20A2-purple?logo=read-the-docs)](https://www.pascalmichaillat.org/6.html)\n",
    "                \n",
    "These derivatives are useful for calculating unemployment multipliers."
   ]
  },
  {
   "cell_type": "code",
   "execution_count": 11,
   "metadata": {},
   "outputs": [],
   "source": [
    "dUdc = lambda gc:((1-gamma)*U(1,gc))**(1/epsilon)\n",
    "dUdc_bar = dUdc(GC_bar)\n",
    "dUdg = lambda gc:(gamma*U(1/gc, 1))**(1/epsilon)\n",
    "MRS = lambda gc:gamma**(1/epsilon)/(1-gamma)**(1/epsilon)*gc**(1/epsilon)\n",
    "dlnUdlnc = lambda gc:(1 - gamma)**(1/epsilon)*(U(1, gc))**((1 - epsilon)/epsilon)\n",
    "dlnUdlng = lambda gc:gamma**(1/epsilon)*(U(1/gc, 1))**((1 - epsilon)/epsilon)\n",
    "dlnUcdlnc = lambda gc:(dlnUdlnc(gc) - 1)/epsilon\n",
    "dlnUcdlng = lambda gc:dlnUdlng(gc)/epsilon"
   ]
  },
  {
   "cell_type": "markdown",
   "metadata": {},
   "source": [
    "## Unemployment Multipliers   [![Generic badge](https://img.shields.io/badge/MS19-p.%20A2~A3-purple?logo=read-the-docs)](https://www.pascalmichaillat.org/6.html)\n",
    "\n",
    "We now move on to compute the theoretical unemployment multiplier and the output multiplier.\n",
    "\n",
    "First, we want to compute the effect of public consumption on the price of services, which requires us to look at the price mechanism. It is rigid since it does not respond to demand shocks, and is an expression of the multiplier:\n",
    "\n",
    "                $p(G) = p_0 \\left\\{ (1-\\gamma) + \\gamma ^{\\frac{1}{\\epsilon}}\\left[(1-\\gamma)\\frac{g}{y^*-g}\\right]^{\\frac{\\epsilon-1}{\\epsilon}}\\right \\}^\\frac{1-r}{\\epsilon - 1}.$                    [![Generic badge](https://img.shields.io/badge/MS19-Eq%2015-purple?logo=read-the-docs)](https://www.pascalmichaillat.org/6.html)\n",
    "\n",
    "which gives us:\n",
    "\n",
    "                $\\frac{d\\ln{p}}{d\\ln{g}} = (1-r) \\left[ \\frac{\\delta\\ln{\\mathcal{U}_c}}{\\delta \\ln{g}} - \\frac{G}{y^* - G} \\frac{\\delta\\ln{\\mathcal{U}_c}}{\\delta \\ln{c}}  \\right].$                        [![Generic badge](https://img.shields.io/badge/MS19-Eq%20A4-purple?logo=read-the-docs)](https://www.pascalmichaillat.org/6.html)"
   ]
  },
  {
   "cell_type": "code",
   "execution_count": 12,
   "metadata": {},
   "outputs": [],
   "source": [
    "# initial price level\n",
    "p0 = dUdc_bar**r/(1 + tau_bar) \n",
    "p = lambda G:p0*dUdc(G/(Y_bar-G))**(1 - r)\n",
    "dlnpdlng = lambda G:(1 - r)*(dlnUcdlng(G/(Y_bar - G)) - dlnUcdlnc(G/(Y_bar - G))*(G/(Y_bar - G)))"
   ]
  },
  {
   "cell_type": "markdown",
   "metadata": {},
   "source": [
    "Then we want to compute the effects of public consumption and tightness on private demand, which are:\n",
    "\n",
    "                $\\frac{\\delta\\ln{c}}{\\delta \\ln{x}} = \\frac{\\eta \\tau(x)}{\\delta \\ln{\\mathcal{U}_c}/\\delta\\ln(c)},$                        [![Generic badge](https://img.shields.io/badge/MS19-Eq%20A6-purple?logo=read-the-docs)](https://www.pascalmichaillat.org/6.html)\n",
    "\n",
    "and\n",
    "\n",
    "                $\\frac{\\delta\\ln{c}}{\\delta \\ln{g}} = \\frac{d \\ln{p}/d\\ln(g) - \\delta \\ln{\\mathcal{U}_c}/\\delta\\ln(g)}{\\delta \\ln{\\mathcal{U}_c}/\\delta\\ln(c)}.$                   [![Generic badge](https://img.shields.io/badge/MS19-Eq%20A7-purple?logo=read-the-docs)](https://www.pascalmichaillat.org/6.html)\n",
    "\n"
   ]
  },
  {
   "cell_type": "code",
   "execution_count": 13,
   "metadata": {},
   "outputs": [],
   "source": [
    "dlncdlnx = lambda G, x:eta*tau(x)/dlnUcdlnc(G/(Y(x)-G))\n",
    "dlncdlng = lambda G, x:(dlnpdlng(G)-dlnUcdlng(G/(Y(x)-G)))/dlnUcdlnc(G/(Y(x)-G))"
   ]
  },
  {
   "cell_type": "markdown",
   "metadata": {},
   "source": [
    "We can also determine the effect of public consumption on equilibrium tightness, which is:\n",
    "\n",
    "                $\\frac{\\delta\\ln{x}}{\\delta \\ln{g}} = \\frac{(g/y) + (c/y)\\delta\\ln{c}/\\delta\\ln{g}}{\\delta\\ln{y}/\\delta\\ln{x} - (c/y)\\delta\\ln{c}/\\delta\\ln{x}}.$                   [![Generic badge](https://img.shields.io/badge/MS19-Eq%20A9-purple?logo=read-the-docs)](https://www.pascalmichaillat.org/6.html)"
   ]
  },
  {
   "cell_type": "code",
   "execution_count": 14,
   "metadata": {
    "scrolled": true
   },
   "outputs": [],
   "source": [
    "dlnxdlng = lambda G, x:(G/Y(x) + (1 - G/Y(x))*dlncdlng(G, x))/(dlnydlnx(x) - (1-G/Y(x))*dlncdlnx(G, x))"
   ]
  },
  {
   "cell_type": "markdown",
   "metadata": {},
   "source": [
    "Thus, we can compute the theoretical unemployment multiplier\n",
    "\n",
    "                $m = (1-\\eta) (1-u) u \\frac{y}{g}\\frac{d\\ln{x}}{d\\ln{g}},$\n",
    "\n",
    "and the empirical unemployment multiplier\n",
    "\n",
    "                $M = \\frac{m}{1- u + \\frac{g}{y}\\frac{\\eta}{1-\\eta}\\frac{\\tau}{u}m}.$                         [![Generic badge](https://img.shields.io/badge/MS19-Eq%20A11-purple?logo=read-the-docs)](https://www.pascalmichaillat.org/6.html)\n"
   ]
  },
  {
   "cell_type": "code",
   "execution_count": 15,
   "metadata": {},
   "outputs": [],
   "source": [
    "m = lambda G, x:(1 - eta)*u(x)*(1 - u(x))*dlnxdlng(G, x)*Y(x)/G \n",
    "M = lambda G, x:m(G, x)/(1 - u(x) + G/Y(x)*eta*tau(x)/(1 - eta)/u(x)*m(G, x))"
   ]
  },
  {
   "cell_type": "markdown",
   "metadata": {},
   "source": [
    "### Simulations\n",
    "\n",
    "We will now run simulations under different shocks. To determine equilibrium under different aggregate demand/government spending, we need to find where aggreagte demand is equal to aggregate supply, which happens when \n",
    "\n",
    "                $\\frac{dU}{dc} - G = (1+\\tau)\\frac{p(G)}{\\alpha}$                       [![Generic badge](https://img.shields.io/badge/MS19-Eq%2013-purple?logo=read-the-docs)](https://www.pascalmichaillat.org/6.html)"
   ]
  },
  {
   "cell_type": "code",
   "execution_count": 27,
   "metadata": {},
   "outputs": [],
   "source": [
    "findeq = lambda G, x, alpha:abs(dUdc(G/(Y(x) - G)) - ((1 + tau(x))*p(G)/alpha))"
   ]
  },
  {
   "cell_type": "markdown",
   "metadata": {},
   "source": [
    "We will now run business cycle simulations under aggregate demand shocks, fixing the public expenditure policy at $G/Y = 16.5\\%$. For each magnitude of aggregate demand, we find the equilibrium labor market tightness using grid search. "
   ]
  },
  {
   "cell_type": "code",
   "execution_count": 17,
   "metadata": {},
   "outputs": [],
   "source": [
    "# Range of aggregate demand\n",
    "ALPHA = np.arange(start=0.97, step=0.0025, stop=1.03) \n",
    "# Grid to search for equilibrium tightness x\n",
    "x0 = np.arange(start=0.001, step=0.0002, stop=2) \n",
    "xad, Gad = np.empty(len(ALPHA)), np.empty(len(ALPHA))\n",
    "G0 = GY_bar*Y(x0)\t# G such that G/Y=16.5%\n",
    "for i, alpha in enumerate(ALPHA):\n",
    "    eva = findeq(G0, x0, alpha)\n",
    "    # Finding where AS = AD\n",
    "    ind = np.argmin(eva)\n",
    "    # Record equlibrium tightness and public expenditure\n",
    "    xad[i] = x0[ind]\n",
    "    Gad[i] = G0[ind]"
   ]
  },
  {
   "cell_type": "markdown",
   "metadata": {},
   "source": [
    "We then compute all other equilibrium variables with $G/Y = 16.5\\%$ under the aggregate demand shocks. "
   ]
  },
  {
   "cell_type": "code",
   "execution_count": 18,
   "metadata": {},
   "outputs": [],
   "source": [
    "Yad = Y(xad) # output\n",
    "GYad = Gad/Yad # G/Y\n",
    "uad = u(xad) # unemployment rate\n",
    "Mad = M(Gad, xad) # output multiplier"
   ]
  },
  {
   "cell_type": "markdown",
   "metadata": {},
   "source": [
    "We then run business-cycle simulations under public spending shocks. We compute equilibrium variables for a range of public spending to output ratios $G/Y$."
   ]
  },
  {
   "cell_type": "code",
   "execution_count": 19,
   "metadata": {},
   "outputs": [],
   "source": [
    "# Range of public expenditure G/Y\n",
    "GY0 = np.arange(start=0.1, step=0.00005, stop=0.25) \n",
    "xgy, Ggy = np.empty(len(GY0)), np.empty(len(GY0))\n",
    "for i, gy in enumerate(GY0):\n",
    "    # Find G such that G/Y=gy\n",
    "    G0 = gy*Y(x0)\n",
    "    eva = findeq(G0, x0, 1)\n",
    "    ind = np.argmin(eva)\n",
    "    # Record equlibrium tightness and public expenditure\n",
    "    xgy[i]=x0[ind]\n",
    "    Ggy[i]=G0[ind]"
   ]
  },
  {
   "cell_type": "markdown",
   "metadata": {},
   "source": [
    "And we compute all other macro variables of interest:"
   ]
  },
  {
   "cell_type": "code",
   "execution_count": 20,
   "metadata": {},
   "outputs": [],
   "source": [
    "Ygy = Y(xgy)      # output\n",
    "GYgy = Ggy/Ygy    # G/Y\n",
    "ugy = u(xgy)      # unemployment rate\n",
    "Mgy = M(Ggy, xgy) # output multiplier"
   ]
  },
  {
   "cell_type": "markdown",
   "metadata": {},
   "source": [
    "Let's first look at equilibria under aggregate demand shocks:"
   ]
  },
  {
   "cell_type": "code",
   "execution_count": 21,
   "metadata": {
    "tags": [
     "hide-input"
    ]
   },
   "outputs": [
    {
     "data": {
      "image/png": "[encoded data removed]",
      "text/plain": [
       "<Figure size 432x288 with 1 Axes>"
      ]
     },
     "metadata": {
      "needs_background": "light"
     },
     "output_type": "display_data"
    }
   ],
   "source": [
    "# Unemployment\n",
    "fig, ax = plt.subplots()\n",
    "ax.plot(ALPHA, uad*100)\n",
    "ax.set(xlabel=r'$\\alpha$', ylabel='Unemployment/idleness rate')\n",
    "ax.grid()\n",
    "plt.show()"
   ]
  },
  {
   "cell_type": "code",
   "execution_count": 22,
   "metadata": {
    "tags": [
     "hide-input"
    ]
   },
   "outputs": [
    {
     "data": {
      "image/png": "[encoded data removed]",
      "text/plain": [
       "<Figure size 432x288 with 1 Axes>"
      ]
     },
     "metadata": {
      "needs_background": "light"
     },
     "output_type": "display_data"
    }
   ],
   "source": [
    "# Output multiplier\n",
    "fig, ax = plt.subplots()\n",
    "ax.plot(ALPHA, Mad)\n",
    "ax.set(xlabel=r'$\\alpha$', ylabel='Output multiplier (dY/dG)')\n",
    "ax.grid()\n",
    "plt.show()"
   ]
  },
  {
   "cell_type": "code",
   "execution_count": 23,
   "metadata": {
    "tags": [
     "hide-input"
    ]
   },
   "outputs": [
    {
     "data": {
      "image/png": "[encoded data removed]",
      "text/plain": [
       "<Figure size 432x288 with 1 Axes>"
      ]
     },
     "metadata": {
      "needs_background": "light"
     },
     "output_type": "display_data"
    }
   ],
   "source": [
    "# Output \n",
    "fig, ax = plt.subplots()\n",
    "ax.plot(ALPHA, Yad)\n",
    "ax.set(xlabel=r'$\\alpha$', ylabel='Output = measured productivity')\n",
    "ax.grid()\n",
    "plt.show()"
   ]
  },
  {
   "cell_type": "markdown",
   "metadata": {},
   "source": [
    "We will then examine equilibria under different government spending:"
   ]
  },
  {
   "cell_type": "code",
   "execution_count": 24,
   "metadata": {
    "tags": [
     "hide-input"
    ]
   },
   "outputs": [
    {
     "data": {
      "image/png": "[encoded data removed]",
      "text/plain": [
       "<Figure size 432x288 with 1 Axes>"
      ]
     },
     "metadata": {
      "needs_background": "light"
     },
     "output_type": "display_data"
    }
   ],
   "source": [
    "# Unemployment Rate\n",
    "fig, ax = plt.subplots()\n",
    "ax.plot(GY0, ugy*100)\n",
    "ax.set(xlabel=r'Public Expenditure $G/Y$', ylabel='Unemployment/idleness rate')\n",
    "ax.grid()\n",
    "plt.show()"
   ]
  },
  {
   "cell_type": "code",
   "execution_count": 25,
   "metadata": {
    "tags": [
     "hide-input"
    ]
   },
   "outputs": [
    {
     "data": {
      "image/png": "[encoded data removed]",
      "text/plain": [
       "<Figure size 432x288 with 1 Axes>"
      ]
     },
     "metadata": {
      "needs_background": "light"
     },
     "output_type": "display_data"
    }
   ],
   "source": [
    "# Output Multiplier\n",
    "fig, ax = plt.subplots()\n",
    "ax.plot(GY0, Mgy)\n",
    "ax.set(xlabel=r'Public Expenditure $G/Y$', ylabel='Output multiplier (dY/dG)')\n",
    "ax.grid()\n",
    "plt.show()"
   ]
  },
  {
   "cell_type": "code",
   "execution_count": 26,
   "metadata": {
    "tags": [
     "hide-input"
    ]
   },
   "outputs": [
    {
     "data": {
      "image/png": "[encoded data removed]",
      "text/plain": [
       "<Figure size 432x288 with 1 Axes>"
      ]
     },
     "metadata": {
      "needs_background": "light"
     },
     "output_type": "display_data"
    }
   ],
   "source": [
    "# Output\n",
    "fig, ax = plt.subplots()\n",
    "ax.plot(GY0, Ygy)\n",
    "ax.set(xlabel=r'Public Expenditure $G/Y$', ylabel='Output = measured productivity')\n",
    "ax.grid()\n",
    "plt.show()"
   ]
  }
 ],
 "metadata": {
  "celltoolbar": "Tags",
  "kernelspec": {
   "display_name": "Python 3",
   "language": "python",
   "name": "python3"
  },
  "language_info": {
   "codemirror_mode": {
    "name": "ipython",
    "version": 3
   },
   "file_extension": ".py",
   "mimetype": "text/x-python",
   "name": "python",
   "nbconvert_exporter": "python",
   "pygments_lexer": "ipython3",
   "version": "3.9.5"
  },
  "metadata": {
   "interpreter": {
    "hash": "aee8b7b246df8f9039afb4144a1f6fd8d2ca17a180786b69acc140d282b71a49"
   }
  }
 },
 "nbformat": 4,
 "nbformat_minor": 4
}

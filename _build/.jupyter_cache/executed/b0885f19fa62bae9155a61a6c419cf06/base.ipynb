{
 "cells": [
  {
   "cell_type": "code",
   "execution_count": 1,
   "id": "06b4cb86",
   "metadata": {},
   "outputs": [],
   "source": [
    "def omega_func(eta, x_bar, u_bar, e=1):\n",
    "    return x_bar**(eta - 1)*s*(1 - u_bar)/(u_bar*e)"
   ]
  },
  {
   "cell_type": "code",
   "execution_count": 2,
   "id": "3dbe31f7",
   "metadata": {},
   "outputs": [],
   "source": [
    "def rho_func(eta, s, u, x, omega, tau):\n",
    "    return omega*x**(-1*eta)*tau/((1 + tau)*s)"
   ]
  },
  {
   "cell_type": "code",
   "execution_count": 3,
   "id": "8d25f718",
   "metadata": {},
   "outputs": [],
   "source": [
    "def tau_bar_func(eta, u_bar):\n",
    "    return (1 - eta)*u_bar/eta"
   ]
  },
  {
   "cell_type": "code",
   "execution_count": 4,
   "id": "c1f4b08f",
   "metadata": {},
   "outputs": [],
   "source": [
    "def q_func(x, **params):\n",
    "    omega, eta = params['omega'], params['eta']\n",
    "    return omega*x**(-eta)"
   ]
  },
  {
   "cell_type": "code",
   "execution_count": 5,
   "id": "b6b9b447",
   "metadata": {},
   "outputs": [],
   "source": [
    "def tau_func(x, **params):\n",
    "    s, rho = params['s'], params['rho']\n",
    "    return s*rho/(q_func(x=x, **params) - s*rho)"
   ]
  },
  {
   "cell_type": "code",
   "execution_count": 6,
   "id": "64374565",
   "metadata": {},
   "outputs": [],
   "source": [
    "def u_func(x, **params):\n",
    "    s, eta, omega = params['s'], params['eta'], params['omega']\n",
    "    f = omega*x**(1 - eta)\n",
    "    return s/(s + f)"
   ]
  },
  {
   "cell_type": "code",
   "execution_count": 7,
   "id": "71c59c75",
   "metadata": {},
   "outputs": [],
   "source": [
    "def Y_func(x, **params):\n",
    "    s, eta, omega, k = params['s'], params['eta'], params['omega'], params['k']\n",
    "    return (1 - u_func(x=x, **params))*k"
   ]
  },
  {
   "cell_type": "code",
   "execution_count": 8,
   "id": "311bbfa3-852d-4978-ae25-7b13a8c09e57",
   "metadata": {},
   "outputs": [],
   "source": [
    "def dlnydlnx_func(x, **params):\n",
    "    eta = params['eta']\n",
    "    return (1 - eta)*u_func(x=x, **params) - eta*tau_func(x=x, **params)"
   ]
  },
  {
   "cell_type": "code",
   "execution_count": 9,
   "id": "223e4e63-36f5-488f-b32d-96266c2e0f7f",
   "metadata": {},
   "outputs": [],
   "source": [
    "GY_func = lambda GC:GC/(1 + GC) # G/Y\n",
    "CY_func = lambda GC:1 - GY_func(GC)  # C/Y\n",
    "GC_func = lambda GY:GY/(1 - GY) # G/C"
   ]
  },
  {
   "cell_type": "code",
   "execution_count": 10,
   "id": "01c5f08b",
   "metadata": {},
   "outputs": [],
   "source": [
    "def U_func(c, g, **params):\n",
    "    epsilon, gamma = params['epsilon'], params['gamma']\n",
    "    if epsilon == 1:\n",
    "        scalar = (1 - gamma)**(1 - gamma)*gamma**gamma\n",
    "        return c**(1 - gamma)*g**(gamma)/scalar\n",
    "    else:\n",
    "        return ((1 - gamma)**(1/epsilon)*c**((epsilon - 1)/epsilon) + \n",
    "                gamma**(1/epsilon)*g**((epsilon - 1)/epsilon))**(epsilon/(epsilon - 1))"
   ]
  },
  {
   "cell_type": "code",
   "execution_count": 11,
   "id": "42563ea7",
   "metadata": {},
   "outputs": [],
   "source": [
    "def dUdc_func(gc, **params):\n",
    "    epsilon, gamma = params['epsilon'], params['gamma']\n",
    "    return ((1-gamma)*U_func(c=1, g=gc, **params))**(1/epsilon)\n",
    "def dlnUdlnc_func(gc, **params):\n",
    "    epsilon, gamma = params['epsilon'], params['gamma']\n",
    "    return (1 - gamma)**(1/epsilon)*(U_func(c=1, g=gc, **params))**((1 - epsilon)/epsilon)"
   ]
  },
  {
   "cell_type": "code",
   "execution_count": 12,
   "id": "11008856",
   "metadata": {},
   "outputs": [],
   "source": [
    "def dlnUdlng_func(gc, **params):\n",
    "    epsilon, gamma = params['epsilon'], params['gamma']\n",
    "    return gamma**(1/epsilon)*(U_func(1/gc, 1, **params))**((1 - epsilon)/epsilon)"
   ]
  },
  {
   "cell_type": "code",
   "execution_count": 13,
   "id": "a6af3a29",
   "metadata": {},
   "outputs": [],
   "source": [
    "def MRS_func(gc, **params):\n",
    "    epsilon, gamma = params['epsilon'], params['gamma']\n",
    "    return gamma**(1/epsilon)/(1-gamma)**(1/epsilon)*gc**(-1/epsilon)"
   ]
  },
  {
   "cell_type": "code",
   "execution_count": 14,
   "id": "5ba20d4a-931f-4506-932c-f627f4c9dfd2",
   "metadata": {},
   "outputs": [],
   "source": [
    "def dlnUcdlnc_func(gc, **params):\n",
    "    epsilon = params['epsilon']\n",
    "    return (dlnUdlnc_func(gc, **params) - 1)/epsilon\n",
    "def dlnUcdlng_func(gc, **params):\n",
    "    epsilon = params['epsilon']\n",
    "    return dlnUdlng_func(gc, **params)/epsilon"
   ]
  },
  {
   "cell_type": "code",
   "execution_count": 15,
   "id": "55dc65a1",
   "metadata": {},
   "outputs": [],
   "source": [
    "def p_func(G, **params):\n",
    "    r, p0, Y_bar = params['r'], params['p0'], params['Y_bar']\n",
    "    return p0*dUdc_func(gc=G/(Y_bar-G), **params)**(1 - r)"
   ]
  },
  {
   "cell_type": "code",
   "execution_count": 16,
   "id": "7f27b6a9-0363-486e-b5ef-058ab9496d20",
   "metadata": {},
   "outputs": [],
   "source": [
    "def dlnpdlng_func(G, **params):\n",
    "    r,  Y_bar = params['r'],  params['Y_bar']\n",
    "    return (1 - r)*(dlnUcdlng_func(gc=G/(Y_bar - G), **params) - dlnUcdlnc_func(gc=G/(Y_bar - G), **params)*(G/(Y_bar - G)))"
   ]
  },
  {
   "cell_type": "code",
   "execution_count": 17,
   "id": "cf867b1e-3db2-4c25-8c0c-77381527cc35",
   "metadata": {},
   "outputs": [],
   "source": [
    "def dlnxdlng_func(G, x, **params):\n",
    "    eta = params['eta']\n",
    "    tau = tau_func(x=x, **params)\n",
    "    Y = Y_func(x=x, **params)\n",
    "    dlncdlnx = eta*tau/dlnUcdlnc_func(gc=G/(Y-G), **params)\n",
    "    dlncdlng = (dlnpdlng_func(G=G, **params)-dlnUcdlng_func(gc=G/(Y - G), **params))/dlnUcdlnc_func(gc=G/(Y - G), **params)\n",
    "    return (G/Y + (1 - G/Y)*dlncdlng)/(dlnydlnx_func(x=x, **params) - (1-G/Y)*dlncdlnx)"
   ]
  },
  {
   "cell_type": "code",
   "execution_count": 18,
   "id": "0de71574",
   "metadata": {},
   "outputs": [],
   "source": [
    "def m_func(which, **params):\n",
    "    if which == 'M':\n",
    "        u, M, GY, eta, tau = params['u'], params['M'], params['GY'], params['eta'], params['tau']\n",
    "        return (1 - u)*M/(1 - GY*eta/(1 - eta)*tau/u*M)\n",
    "    elif which == 'dlnxdlng':\n",
    "        G, x, eta = params['G'], params['x'], params['eta']\n",
    "        q = q_func(**params)\n",
    "        u = u_func(**params)\n",
    "        tau = tau_func(**params)\n",
    "        Y = Y_func(**params)\n",
    "        dlnxdlng = dlnxdlng_func(**params)\n",
    "        return (1 - eta)*u*(1 - u)*dlnxdlng*Y/G "
   ]
  },
  {
   "cell_type": "code",
   "execution_count": 19,
   "id": "7b89f7c0",
   "metadata": {},
   "outputs": [],
   "source": [
    "def M_func(G, x, **params):\n",
    "    eta = params['eta']\n",
    "    q = q_func(x=x, **params)\n",
    "    u = u_func(x=x, **params)\n",
    "    tau = tau_func(x=x, **params)\n",
    "    m = m_func(which='dlnxdlng', G=G, x=x, **params)\n",
    "    return m/(1 - u + G/Y_func(x, **params)*eta*tau/(1 - eta)/u*m)"
   ]
  },
  {
   "cell_type": "code",
   "execution_count": 20,
   "id": "73617cb7",
   "metadata": {},
   "outputs": [],
   "source": [
    "def find_eq(G, x, alpha, **params):\n",
    "    s, rho, omega, eta = params['s'], params['rho'], params['omega'], params['eta']\n",
    "    return abs(dUdc_func(G/(Y_func(x, **params) - G), **params) - ((1 + tau_func(x=x, **params))*p_func(G, **params)/alpha))"
   ]
  },
  {
   "cell_type": "code",
   "execution_count": 21,
   "id": "33662b4e-8718-4bd6-90f5-cfb480439eb3",
   "metadata": {},
   "outputs": [],
   "source": [
    "def optimal_func(G, x, **params):\n",
    "    return abs(1 - MRS_func(gc=G/(Y_func(x, **params) - G), **params) - dlnydlnx_func(x=x, **params)*dlnxdlng_func(G=G, x=x, **params)*Y_func(x=x, **params)/G)"
   ]
  },
  {
   "cell_type": "code",
   "execution_count": 22,
   "id": "f143e7b8",
   "metadata": {},
   "outputs": [],
   "source": [
    "def suffstat_func(u0, m, **params):\n",
    "    u_bar, z0, z1, epsilon = params['u_bar'], params['z0'], params['z1'], params['epsilon']\n",
    "    du = (u0 - u_bar)/u_bar\n",
    "    return epsilon*z0*m/(1 + z1*z0*epsilon*m**2)*du"
   ]
  }
 ],
 "metadata": {
  "interpreter": {
   "hash": "93b1c24310634affd0d01f492f804b3051b097ca32d8a50f2e9cfb889b742a8f"
  },
  "kernelspec": {
   "display_name": "Python 3",
   "language": "python",
   "name": "python3"
  },
  "language_info": {
   "codemirror_mode": {
    "name": "ipython",
    "version": 3
   },
   "file_extension": ".py",
   "mimetype": "text/x-python",
   "name": "python",
   "nbconvert_exporter": "python",
   "pygments_lexer": "ipython3",
   "version": "3.9.5"
  }
 },
 "nbformat": 4,
 "nbformat_minor": 5
}
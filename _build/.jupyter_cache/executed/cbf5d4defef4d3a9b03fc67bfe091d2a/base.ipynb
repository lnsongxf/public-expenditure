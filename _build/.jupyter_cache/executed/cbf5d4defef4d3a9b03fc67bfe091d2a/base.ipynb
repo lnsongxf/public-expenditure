{
 "cells": [
  {
   "cell_type": "code",
   "execution_count": 1,
   "id": "b2c1a402-a1c9-4f36-a1b6-f5bf74d10965",
   "metadata": {},
   "outputs": [],
   "source": [
    "import pandas as pd\n",
    "%run helpers.ipynb"
   ]
  },
  {
   "cell_type": "code",
   "execution_count": 2,
   "id": "240f580b-e364-4cbc-b659-62c870eb5a5d",
   "metadata": {
    "tags": [
     "hide-output"
    ]
   },
   "outputs": [
    {
     "data": {
      "text/plain": [
       "{'s': 0.035578947368421,\n",
       " 'u_bar': 0.0597499999999999,\n",
       " 'x_bar': 0.557752047505985,\n",
       " 'GC_bar': 0.1919172928067347,\n",
       " 'M_bar': 0.5,\n",
       " 'M_bar_l': 0.0,\n",
       " 'M_bar_h': 2.0,\n",
       " 'epsilon': 1.0,\n",
       " 'epsilon_h': 1.5,\n",
       " 'epsilon_l': 0.5,\n",
       " 'eta': 0.6,\n",
       " 'eta_l': 0.5,\n",
       " 'eta_h': 0.7,\n",
       " 'omega': 0.7071671173494025,\n",
       " 'rho': 1.080804575426955,\n",
       " 'tau': 0.038731944011991,\n",
       " 'm_bar': 0.5100528390820994,\n",
       " 'z0': 2.827830175507158,\n",
       " 'z1': 2.2609135556386306,\n",
       " 'GY_bar': 0.1610156123792839}"
      ]
     },
     "execution_count": 2,
     "metadata": {},
     "output_type": "execute_result"
    }
   ],
   "source": [
    "params = pd.read_csv('output/params_suffstat.csv')\n",
    "params = dict(params.values)\n",
    "params"
   ]
  },
  {
   "cell_type": "code",
   "execution_count": 3,
   "id": "f46435b7-c588-4453-90fe-e68de121be6c",
   "metadata": {},
   "outputs": [],
   "source": [
    "k = 1\n",
    "Y_bar = k*(1 - params['u_bar'])"
   ]
  },
  {
   "cell_type": "code",
   "execution_count": 4,
   "id": "a24d7dbc-70a0-47c6-9136-13861f3afec9",
   "metadata": {},
   "outputs": [],
   "source": [
    "gamma = 1/(1 + 1/params['GC_bar']) "
   ]
  },
  {
   "cell_type": "code",
   "execution_count": 5,
   "id": "c3a89a39-c456-49a0-bd5e-5e0e50696452",
   "metadata": {},
   "outputs": [],
   "source": [
    "CY_bar = CY_func(GC=params['GC_bar'])\n",
    "r = (params['M_bar']*params['epsilon']*CY_bar)/(1 - params['M_bar']*params['GY_bar'])"
   ]
  },
  {
   "cell_type": "code",
   "execution_count": 6,
   "id": "98649f81-3860-406e-98f5-f6b855e9f561",
   "metadata": {},
   "outputs": [],
   "source": [
    "dUdc_bar = dUdc_func(gc=params['GC_bar'], gamma=gamma, **params)\n",
    "p0 = dUdc_bar**r/(1 + params['tau']) "
   ]
  },
  {
   "cell_type": "code",
   "execution_count": 7,
   "id": "b62e014b-dad4-4a16-af53-5ea638a567ff",
   "metadata": {},
   "outputs": [],
   "source": [
    "pd.DataFrame({'Name':['k', 'Y_bar', 'gamma', 'CY_bar', 'r', 'p0'],\n",
    "              'Value':[k, Y_bar, gamma, CY_bar, r, p0]}).to_csv('output/params_sim.csv', index=False)"
   ]
  }
 ],
 "metadata": {
  "kernelspec": {
   "display_name": "Python 3",
   "language": "python",
   "name": "python3"
  },
  "language_info": {
   "codemirror_mode": {
    "name": "ipython",
    "version": 3
   },
   "file_extension": ".py",
   "mimetype": "text/x-python",
   "name": "python",
   "nbconvert_exporter": "python",
   "pygments_lexer": "ipython3",
   "version": "3.9.5"
  }
 },
 "nbformat": 4,
 "nbformat_minor": 5
}
{
 "cells": [
  {
   "cell_type": "markdown",
   "id": "6b7aa5f3-2c86-4123-828c-7887c331e148",
   "metadata": {},
   "source": [
    "# Helper Functions\n",
    "\n",
    "This section contains all the functions used in our notebooks. "
   ]
  },
  {
   "cell_type": "markdown",
   "id": "eb634943",
   "metadata": {},
   "source": [
    "## Model Parameters"
   ]
  },
  {
   "cell_type": "markdown",
   "id": "06cc211c",
   "metadata": {},
   "source": [
    " ### $\\omega$   [![Generic badge](https://img.shields.io/badge/LMS18a-p.%20G28-purple?logo=read-the-docs)](https://www.pascalmichaillat.org/5.html) \n",
    "\n",
    " \n",
    "The parameter $\\omega$ denotes matching efficacy in the matching function. \n",
    "\n",
    "We calculate $\\omega$ by using the following equation: \n",
    "\n",
    "                $\\omega = \\bar{x}^{\\eta - 1}\\cdot \\frac{s\\cdot (1-\\bar{u})}{\\bar{u}\\cdot e}, $            [![Generic badge](https://img.shields.io/badge/MS19-Eq%203-purple?logo=read-the-docs)](https://www.pascalmichaillat.org/6.html)  \n",
    "     \n",
    "where $e$ is the average job-search effort, which is normalized to $1$. "
   ]
  },
  {
   "cell_type": "code",
   "execution_count": 2,
   "id": "06b4cb86",
   "metadata": {},
   "outputs": [],
   "source": [
    "def omega_func(eta, x_bar, u_bar, e=1):\n",
    "    return x_bar**(eta - 1)*s*(1 - u_bar)/(u_bar*e)"
   ]
  },
  {
   "cell_type": "markdown",
   "id": "bc1503e6",
   "metadata": {},
   "source": [
    "### $\\rho$\n",
    "\n",
    "To calculate $\\rho$, we use the following relationship between the recruiter-producer ratio ($\\tau$) and labor market tightness ($x$):\n",
    "\n",
    "                $\\tau(x) = \\frac{\\rho s}{q(x) - \\rho s}. $              [![Generic badge](https://img.shields.io/badge/MS19-Eq%203-purple?logo=read-the-docs)](https://www.pascalmichaillat.org/6.html)  \n",
    "                \n",
    "This gives us that:\n",
    "\n",
    "                $\\rho = \\frac{\\omega x^{-\\eta}\\tau}{(1+\\tau)s}.$\n",
    "                "
   ]
  },
  {
   "cell_type": "code",
   "execution_count": 3,
   "id": "3dbe31f7",
   "metadata": {},
   "outputs": [],
   "source": [
    "def rho_func(eta, s, u, x, omega, tau):\n",
    "    return omega*x**(-1*eta)*tau/((1 + tau)*s)"
   ]
  },
  {
   "cell_type": "markdown",
   "id": "df382e58",
   "metadata": {},
   "source": [
    "### $\\bar{\\tau}$\n",
    "When labor market tightness is efficient, we have:\n",
    "\n",
    "                $(1-\\eta)\\bar{u}-\\eta\\bar{\\tau} = 0, $            [![Generic badge](https://img.shields.io/badge/MS19-Eq%205-purple?logo=read-the-docs)](https://www.pascalmichaillat.org/6.html)  \n",
    "\n",
    "which can be re-arranged into:\n",
    "\n",
    "                $\\bar{\\tau} = \\frac{(1-\\eta)\\bar{u}}{\\eta}.$ "
   ]
  },
  {
   "cell_type": "code",
   "execution_count": 4,
   "id": "8d25f718",
   "metadata": {},
   "outputs": [],
   "source": [
    "def tau_bar_func(eta, u_bar):\n",
    "    return (1 - eta)*u_bar/eta"
   ]
  },
  {
   "cell_type": "markdown",
   "id": "4d1aaa59",
   "metadata": {},
   "source": [
    "### q\n",
    "\n",
    "The buying rate $q$, as a function of labor market tightness $x$, is:\n",
    "\n",
    "                $q(x(t)) = \\frac{h(t)}{v(t)}=\\omega x(t)^{-\\eta}.$        [![Generic badge](https://img.shields.io/badge/MS19-p.%201305-purple?logo=read-the-docs)](https://www.pascalmichaillat.org/6.html)  \n",
    "                "
   ]
  },
  {
   "cell_type": "code",
   "execution_count": 5,
   "id": "c1f4b08f",
   "metadata": {},
   "outputs": [],
   "source": [
    "def q_func(x, **params):\n",
    "    omega, eta = params['omega'], params['eta']\n",
    "    return omega*x**(-eta)"
   ]
  },
  {
   "cell_type": "markdown",
   "id": "93f6b19f",
   "metadata": {},
   "source": [
    "### $\\tau$\n",
    "$\\tau$ is the recruiter-producer ratio, where\n",
    "\n",
    "                $\\tau(x) = \\frac{\\rho s}{q(x) - \\rho s}. $              [![Generic badge](https://img.shields.io/badge/MS19-Eq%203-purple?logo=read-the-docs)](https://www.pascalmichaillat.org/6.html) "
   ]
  },
  {
   "cell_type": "code",
   "execution_count": 7,
   "id": "b6b9b447",
   "metadata": {},
   "outputs": [],
   "source": [
    "def tau_func(x, **params):\n",
    "    s, rho = params['s'], params['rho']\n",
    "    return s*rho/(q_func(x=x, **params) - s*rho)"
   ]
  },
  {
   "cell_type": "markdown",
   "id": "56025598",
   "metadata": {},
   "source": [
    "### u\n",
    "\n",
    "The rate of unemployment is:\n",
    "\n",
    "                $u(x) = \\frac{s}{s+f(x)},$              [![Generic badge](https://img.shields.io/badge/MS19-Eq%202-purple?logo=read-the-docs)](https://www.pascalmichaillat.org/6.html)  \n",
    "\n",
    "where\n",
    "\n",
    "                $f(x) = \\omega x^{1-\\eta}.$             [![Generic badge](https://img.shields.io/badge/MS19-p.%201305-purple?logo=read-the-docs)](https://www.pascalmichaillat.org/6.html) "
   ]
  },
  {
   "cell_type": "code",
   "execution_count": 6,
   "id": "64374565",
   "metadata": {},
   "outputs": [],
   "source": [
    "def u_func(x, **params):\n",
    "    s, eta, omega = params['s'], params['eta'], params['omega']\n",
    "    f = omega*x**(1 - eta)\n",
    "    return s/(s + f)"
   ]
  },
  {
   "cell_type": "markdown",
   "id": "2fddd12c",
   "metadata": {},
   "source": [
    "## Output Identity\n",
    "\n",
    "### $Y$\n"
   ]
  },
  {
   "cell_type": "markdown",
   "id": "6ac277f1-371f-4f66-a18b-938145d34980",
   "metadata": {},
   "source": [
    "Output $Y$ is given by:\n",
    "\n",
    "                $Y(x, k) = \\frac{f(x)}{s+f(x)}k = (1-u(x))\\cdot k.$    [![Generic badge](https://img.shields.io/badge/MS19-Eq%201-purple?logo=read-the-docs)](https://www.pascalmichaillat.org/6.html)    "
   ]
  },
  {
   "cell_type": "code",
   "execution_count": 9,
   "id": "71c59c75",
   "metadata": {},
   "outputs": [],
   "source": [
    "def Y_func(x, **params):\n",
    "    s, eta, omega, k = params['s'], params['eta'], params['omega'], params['k']\n",
    "    return (1 - u_func(x=x, **params))*k"
   ]
  },
  {
   "cell_type": "markdown",
   "id": "b0801d98-d83a-4cc9-b2f9-0a5eb664b4ea",
   "metadata": {},
   "source": [
    "### $\\frac{d\\ln{y}}{d\\ln{x}}$\n",
    "\n",
    "From the output equation, the effect of tightness on output $\\frac{d\\ln{y}}{d\\ln{x}}$ is:\n",
    "\n",
    "                $\\frac{d\\ln{y}}{d\\ln{x}} = (1-\\eta) * u(x) - \\eta * \\tau(x).$"
   ]
  },
  {
   "cell_type": "code",
   "execution_count": 10,
   "id": "311bbfa3-852d-4978-ae25-7b13a8c09e57",
   "metadata": {},
   "outputs": [],
   "source": [
    "def dlnydlnx_func(x, **params):\n",
    "    eta = params['eta']\n",
    "    return (1 - eta)*u_func(x=x, **params) - eta*tau_func(x=x, **params)"
   ]
  },
  {
   "cell_type": "markdown",
   "id": "0f1b36c7-d168-4195-bca2-d844493665f5",
   "metadata": {},
   "source": [
    "### $G/Y, C/Y$ and $G/C$\n",
    "Since output consists of government spending and consumption, we have the following identities for different consumption ratios:"
   ]
  },
  {
   "cell_type": "code",
   "execution_count": 11,
   "id": "223e4e63-36f5-488f-b32d-96266c2e0f7f",
   "metadata": {},
   "outputs": [],
   "source": [
    "GY_func = lambda GC:GC/(1 + GC) # G/Y\n",
    "CY_func = lambda GC:1 - GY_func(GC)  # C/Y\n",
    "GC_func = lambda GY:GY/(1 - GY) # G/C"
   ]
  },
  {
   "cell_type": "markdown",
   "id": "8c85c603",
   "metadata": {},
   "source": [
    "## Utility Function and its Derivatives"
   ]
  },
  {
   "cell_type": "markdown",
   "id": "7c10ed37",
   "metadata": {},
   "source": [
    "### $\\mathcal{U}(c, g)$    [![Generic badge](https://img.shields.io/badge/MS19-p.%20A1~A2-purple?logo=read-the-docs)](https://www.pascalmichaillat.org/6.html)\n",
    "\n",
    "Given the elasticity of substitution between private and public consumption $\\epsilon$, we have the following CES utility function:\n",
    "\n",
    "\n",
    "                $\\mathcal{U}(c, g) = \\left((1-\\gamma)^{1/\\epsilon}c^{(\\epsilon-1)/\\epsilon} + \\gamma ^{1/\\epsilon}g^{(\\epsilon - 1)/\\epsilon}\\right)^{\\epsilon/(\\epsilon - 1)}.$     [![Generic badge](https://img.shields.io/badge/MS19-Eq%208-purple?logo=read-the-docs)](https://www.pascalmichaillat.org/6.html)  \n",
    "\n",
    "When $\\epsilon = 1$, the utility function is Cobb-Douglas:\n",
    "\n",
    "                $\\mathcal{U}(c,g) = \\frac{c^{1-\\gamma} g^{\\gamma}}{(1-\\gamma)^{1-\\gamma}\\gamma^\\gamma}.$\n"
   ]
  },
  {
   "cell_type": "code",
   "execution_count": 12,
   "id": "01c5f08b",
   "metadata": {},
   "outputs": [],
   "source": [
    "def U_func(c, g, **params):\n",
    "    epsilon, gamma = params['epsilon'], params['gamma']\n",
    "    if epsilon == 1:\n",
    "        scalar = (1 - gamma)**(1 - gamma)*gamma**gamma\n",
    "        return c**(1 - gamma)*g**(gamma)/scalar\n",
    "    else:\n",
    "        return ((1 - gamma)**(1/epsilon)*c**((epsilon - 1)/epsilon) + \n",
    "                gamma**(1/epsilon)*g**((epsilon - 1)/epsilon))**(epsilon/(epsilon - 1))"
   ]
  },
  {
   "cell_type": "markdown",
   "id": "d82f7167",
   "metadata": {},
   "source": [
    "### $\\frac{\\delta \\ln{\\mathcal{U}}}{\\delta \\ln{c}}$ and $\\mathcal{U}_c$\n",
    "\n",
    "$\\frac{\\delta \\ln{\\mathcal{U}}}{\\delta \\ln{c}}$ and $\\mathcal{U}_c$ are the (linearized) marginal utility of private consumption. From our utility function, we have:\n",
    "\n",
    "                $\\frac{\\delta \\ln{\\mathcal{U}}}{\\delta \\ln{c}} = (1-\\gamma)^{{1/\\epsilon}} \\left(\\frac{c}{\\mathcal{U}}\\right)^{\\frac{\\epsilon-1}{\\epsilon}},\\quad \\mathcal{U}_c \\equiv \\frac{\\delta \\mathcal{U}}{\\delta c} = \\left((1-\\gamma) \\frac{\\mathcal{U}}{c}\\right)^{1/\\epsilon}.$     [![Generic badge](https://img.shields.io/badge/MS19-p.%20A1-purple?logo=read-the-docs)](https://www.pascalmichaillat.org/6.html)"
   ]
  },
  {
   "cell_type": "code",
   "execution_count": 13,
   "id": "42563ea7",
   "metadata": {},
   "outputs": [],
   "source": [
    "def dUdc_func(gc, **params):\n",
    "    epsilon, gamma = params['epsilon'], params['gamma']\n",
    "    return ((1-gamma)*U_func(c=1, g=gc, **params))**(1/epsilon)\n",
    "def dlnUdlnc_func(gc, **params):\n",
    "    epsilon, gamma = params['epsilon'], params['gamma']\n",
    "    return (1 - gamma)**(1/epsilon)*(U_func(c=1, g=gc, **params))**((1 - epsilon)/epsilon)"
   ]
  },
  {
   "cell_type": "markdown",
   "id": "bfee21ec",
   "metadata": {},
   "source": [
    "### $\\mathcal{U}_g$\n",
    "$\\mathcal{U}_g$ is the marginal utility of public consumption\n",
    "\n",
    "                $\\mathcal{U}_g \\equiv \\frac{\\delta \\mathcal{U}}{\\delta g} = \\left(\\gamma \\frac{\\mathcal{U}}{g}\\right)^{1/\\epsilon}.$           [![Generic badge](https://img.shields.io/badge/MS19-p.%20A1-purple?logo=read-the-docs)](https://www.pascalmichaillat.org/6.html)"
   ]
  },
  {
   "cell_type": "code",
   "execution_count": 14,
   "id": "11008856",
   "metadata": {},
   "outputs": [],
   "source": [
    "def dlnUdlng_func(gc, **params):\n",
    "    epsilon, gamma = params['epsilon'], params['gamma']\n",
    "    return gamma**(1/epsilon)*(U_func(1/gc, 1, **params))**((1 - epsilon)/epsilon)"
   ]
  },
  {
   "cell_type": "markdown",
   "id": "a067b190",
   "metadata": {},
   "source": [
    "### $MRS_{gc}$"
   ]
  },
  {
   "cell_type": "markdown",
   "id": "6c3fc6c1",
   "metadata": {},
   "source": [
    "From the first-order derivates above, we can calculate the marginal rate of subsitutition between private and public consumption:\n",
    "\n",
    "                $MRS_{gc} = \\frac{\\mathcal{U}_g}{\\mathcal{U}_c}  = \\frac{\\gamma^{1/\\epsilon}}{(1-\\gamma)^{1/\\epsilon}}*(gc)^{1/\\epsilon}.$\n",
    "               "
   ]
  },
  {
   "cell_type": "code",
   "execution_count": 15,
   "id": "a6af3a29",
   "metadata": {},
   "outputs": [],
   "source": [
    "def MRS_func(gc, **params):\n",
    "    epsilon, gamma = params['epsilon'], params['gamma']\n",
    "    return gamma**(1/epsilon)/(1-gamma)**(1/epsilon)*gc**(-1/epsilon)"
   ]
  },
  {
   "cell_type": "markdown",
   "id": "3fc53515-fd51-4d58-9e88-f00c465996cc",
   "metadata": {},
   "source": [
    "###  $\\frac{\\delta \\ln{\\mathcal{U}_c}}{\\delta \\ln{c}}$ and $\\frac{\\delta \\ln{\\mathcal{U}_c}}{\\delta \\ln{g}}$\n",
    "\n",
    "$\\frac{\\delta \\ln{\\mathcal{U}_c}}{\\delta \\ln{c}}$ and $\\frac{\\delta \\ln{\\mathcal{U}_c}}{\\delta \\ln{g}}$ are the effects of public and private consumption on the marginal utility of private consumption. We also have the following:\n",
    "\n",
    "                $\\frac{\\delta \\ln{\\mathcal{U}_c}}{\\delta \\ln{c}} = \\frac{1}{\\epsilon}\\left(\\frac{\\delta \\mathcal{U}}{\\delta c} -1 \\right),$                      \n",
    "\n",
    "                $\\frac{\\delta \\ln{\\mathcal{U}_c}}{\\delta \\ln{g}} = \\frac{1}{\\epsilon}\\left(\\frac{\\delta \\mathcal{U}}{\\delta g} \\right).$              [![Generic badge](https://img.shields.io/badge/MS19-p.%20A2-purple?logo=read-the-docs)](https://www.pascalmichaillat.org/6.html)"
   ]
  },
  {
   "cell_type": "code",
   "execution_count": 16,
   "id": "5ba20d4a-931f-4506-932c-f627f4c9dfd2",
   "metadata": {},
   "outputs": [],
   "source": [
    "def dlnUcdlnc_func(gc, **params):\n",
    "    epsilon = params['epsilon']\n",
    "    return (dlnUdlnc_func(gc, **params) - 1)/epsilon\n",
    "def dlnUcdlng_func(gc, **params):\n",
    "    epsilon = params['epsilon']\n",
    "    return dlnUdlng_func(gc, **params)/epsilon"
   ]
  },
  {
   "cell_type": "markdown",
   "id": "ec717c4b",
   "metadata": {},
   "source": [
    "## Prices  [![Generic badge](https://img.shields.io/badge/MS19-p.%20A2~A3-purple?logo=read-the-docs)](https://www.pascalmichaillat.org/6.html)\n",
    "\n",
    "### $p(G)$\n",
    "\n",
    "$p(G)$ is our price mechanism. It is rigid since it does not respond to demand shocks, and is an expression of the multiplier:\n",
    "\n",
    "                $p(G) = p_0 \\left\\{ (1-\\gamma) + \\gamma ^{\\frac{1}{\\epsilon}}\\left[(1-\\gamma)\\frac{g}{y^*-g}\\right]^{\\frac{\\epsilon-1}{\\epsilon}}\\right \\}^\\frac{1-r}{\\epsilon - 1}.$   [![Generic badge](https://img.shields.io/badge/MS19-Eq%2015-purple?logo=read-the-docs)](https://www.pascalmichaillat.org/6.html)"
   ]
  },
  {
   "cell_type": "code",
   "execution_count": 17,
   "id": "55dc65a1",
   "metadata": {},
   "outputs": [],
   "source": [
    "def p_func(G, **params):\n",
    "    r, p0, Y_bar = params['r'], params['p0'], params['Y_bar']\n",
    "    return p0*dUdc_func(gc=G/(Y_bar-G), **params)**(1 - r)"
   ]
  },
  {
   "cell_type": "markdown",
   "id": "0a05c79d-2ab4-473a-a8cd-a43744b47716",
   "metadata": {},
   "source": [
    "### $\\frac{d\\ln{p}}{d\\ln{g}}$\n",
    "\n",
    "$\\frac{d\\ln{p}}{d\\ln{g}}$ denotes the effects of public consumption on prices. From the price mechanism, we have:\n",
    "\n",
    "                $\\frac{d\\ln{p}}{d\\ln{g}} = (1-r) \\left[ \\frac{\\delta\\ln{\\mathcal{U}_c}}{\\delta \\ln{g}} - \\frac{G}{y^* - G} \\frac{\\delta\\ln{\\mathcal{U}_c}}{\\delta \\ln{c}}  \\right].$      [![Generic badge](https://img.shields.io/badge/MS19-Eq%20A4-purple?logo=read-the-docs)](https://www.pascalmichaillat.org/6.html)"
   ]
  },
  {
   "cell_type": "code",
   "execution_count": 19,
   "id": "7f27b6a9-0363-486e-b5ef-058ab9496d20",
   "metadata": {},
   "outputs": [],
   "source": [
    "def dlnpdlng_func(G, **params):\n",
    "    r,  Y_bar = params['r'],  params['Y_bar']\n",
    "    return (1 - r)*(dlnUcdlng_func(gc=G/(Y_bar - G), **params) - dlnUcdlnc_func(gc=G/(Y_bar - G), **params)*(G/(Y_bar - G)))"
   ]
  },
  {
   "cell_type": "markdown",
   "id": "a89e8bae-ffbe-4c35-86e7-c874434bf0ed",
   "metadata": {},
   "source": [
    "## Unemployment Multipliers\n",
    "\n",
    "### $\\frac{\\delta\\ln{x}}{\\delta \\ln{g}}$\n",
    "\n",
    "Before calculating $m$, we want to derive the effect of public consumption on equilibrium tightness is given by the following equation:\n",
    "\n",
    "                $\\frac{\\delta\\ln{x}}{\\delta \\ln{g}} = \\frac{(g/y) + (c/y)\\delta\\ln{c}/\\delta\\ln{g}}{\\delta\\ln{y}/\\delta\\ln{x} - (c/y)\\delta\\ln{c}/\\delta\\ln{x}},$    [![Generic badge](https://img.shields.io/badge/MS19-Eq%20A9-purple?logo=read-the-docs)](https://www.pascalmichaillat.org/6.html)\n",
    "\n",
    "where \n",
    "\n",
    "                $\\frac{\\delta\\ln{c}}{\\delta \\ln{x}} = \\frac{\\eta \\tau(x)}{\\delta \\ln{\\mathcal{U}_c}/\\delta\\ln(c)},$         [![Generic badge](https://img.shields.io/badge/MS19-Eq%20A6-purple?logo=read-the-docs)](https://www.pascalmichaillat.org/6.html)\n",
    "\n",
    "\n",
    "                $\\frac{\\delta\\ln{c}}{\\delta \\ln{g}} = \\frac{d \\ln{p}/d\\ln(g) - \\delta \\ln{\\mathcal{U}_c}/\\delta\\ln(g)}{\\delta \\ln{\\mathcal{U}_c}/\\delta\\ln(c)}.$    [![Generic badge](https://img.shields.io/badge/MS19-Eq%20A7-purple?logo=read-the-docs)](https://www.pascalmichaillat.org/6.html)"
   ]
  },
  {
   "cell_type": "code",
   "execution_count": null,
   "id": "cf867b1e-3db2-4c25-8c0c-77381527cc35",
   "metadata": {},
   "outputs": [],
   "source": [
    "def dlnxdlng_func(G, x, **params):\n",
    "    eta = params['eta']\n",
    "    tau = tau_func(x=x, **params)\n",
    "    Y = Y_func(x=x, **params)\n",
    "    dlncdlnx = eta*tau/dlnUcdlnc_func(gc=G/(Y-G), **params)\n",
    "    dlncdlng = (dlnpdlng_func(G=G, **params)-dlnUcdlng_func(gc=G/(Y - G), **params))/dlnUcdlnc_func(gc=G/(Y - G), **params)\n",
    "    return (G/Y + (1 - G/Y)*dlncdlng)/(dlnydlnx_func(x=x, **params) - (1-G/Y)*dlncdlnx)"
   ]
  },
  {
   "cell_type": "markdown",
   "id": "136ee8fb",
   "metadata": {},
   "source": [
    "### $m$\n",
    "\n",
    "$m$ is the theoretical unemployment multiplier, which measures the response of unemployment to changes in public consumption. $m$ can be calculated in two ways. For a given $M$, $m$ is:\n",
    "\n",
    "                $ m = \\frac{(1-u)\\cdot M}{1- \\frac{G}{Y}\\cdot \\frac{\\eta}{1-\\eta}\\cdot \\frac{\\tau}{u}\\cdot M},$          [![Generic badge](https://img.shields.io/badge/MS19-Eq%2026-purple?logo=read-the-docs)](https://www.pascalmichaillat.org/6.html)"
   ]
  },
  {
   "cell_type": "markdown",
   "id": "f427f31f-217a-4737-9114-de07664ece60",
   "metadata": {},
   "source": [
    "$m$ can also be calculated with the effect of public consumption on equilibrium tightness:\n",
    "\n",
    "                $m = (1-\\eta) (1-u) u \\frac{y}{g}\\frac{d\\ln{x}}{d\\ln{g}}.$     [![Generic badge](https://img.shields.io/badge/MS19-Eq%2021-purple?logo=read-the-docs)](https://www.pascalmichaillat.org/6.html)"
   ]
  },
  {
   "cell_type": "code",
   "execution_count": 20,
   "id": "0de71574",
   "metadata": {},
   "outputs": [],
   "source": [
    "def m_func(which, **params):\n",
    "    if which == 'M':\n",
    "        u, M, GY, eta, tau = params['u'], params['M'], params['GY'], params['eta'], params['tau']\n",
    "        return (1 - u)*M/(1 - GY*eta/(1 - eta)*tau/u*M)\n",
    "    elif which == 'dlnxdlng':\n",
    "        G, x, eta = params['G'], params['x'], params['eta']\n",
    "        q = q_func(**params)\n",
    "        u = u_func(**params)\n",
    "        tau = tau_func(**params)\n",
    "        Y = Y_func(**params)\n",
    "        dlnxdlng = dlnxdlng_func(**params)\n",
    "        return (1 - eta)*u*(1 - u)*dlnxdlng*Y/G "
   ]
  },
  {
   "cell_type": "markdown",
   "id": "d8b331d0",
   "metadata": {},
   "source": [
    "### $M$\n",
    "Then, we can compute the empirical unemployment multiplier\n",
    "\n",
    "                $M = \\frac{m}{1- u + \\frac{g}{y}\\frac{\\eta}{1-\\eta}\\frac{\\tau}{u}m}.$            [![Generic badge](https://img.shields.io/badge/MS19-Eq%20A11-purple?logo=read-the-docs)](https://www.pascalmichaillat.org/6.html)\n"
   ]
  },
  {
   "cell_type": "code",
   "execution_count": 21,
   "id": "7b89f7c0",
   "metadata": {},
   "outputs": [],
   "source": [
    "def M_func(G, x, **params):\n",
    "    eta = params['eta']\n",
    "    q = q_func(x=x, **params)\n",
    "    u = u_func(x=x, **params)\n",
    "    tau = tau_func(x=x, **params)\n",
    "    m = m_func(which='dlnxdlng', G=G, x=x, **params)\n",
    "    return m/(1 - u + G/Y_func(x, **params)*eta*tau/(1 - eta)/u*m)"
   ]
  },
  {
   "cell_type": "markdown",
   "id": "319c8e61",
   "metadata": {},
   "source": [
    "## Calculating Equilibrium Labor Market Tightness\n",
    "\n",
    "To determine equilibrium under different aggregate demand/government spending, we need to find where aggreagte demand is equal to aggregate supply, which happens when \n",
    "\n",
    "                $\\frac{dU}{dc} - G = (1+\\tau)\\frac{p(G)}{\\alpha}$          [![Generic badge](https://img.shields.io/badge/MS19-Eq%2013-purple?logo=read-the-docs)](https://www.pascalmichaillat.org/6.html)\n",
    "\n",
    "We now define the following function such that the function returns zero when the economy is at equilibrium."
   ]
  },
  {
   "cell_type": "code",
   "execution_count": 23,
   "id": "73617cb7",
   "metadata": {},
   "outputs": [],
   "source": [
    "def find_eq(G, x, alpha, **params):\n",
    "    s, rho, omega, eta = params['s'], params['rho'], params['omega'], params['eta']\n",
    "    return abs(dUdc_func(G/(Y_func(x, **params) - G), **params) - ((1 + tau_func(x=x, **params))*p_func(G, **params)/alpha))"
   ]
  },
  {
   "cell_type": "markdown",
   "id": "8a1268dd-2bfb-465b-bc2b-2cb0823f1d8e",
   "metadata": {},
   "source": [
    "## Optimal Stimulus\n",
    "\n",
    "### Exact Optimal Stimulus\n",
    "\n",
    "Optimal public expenditure satisfy the Samuelson rule pluse an correction term:\n",
    "\n",
    "                $1 = MRS_{gc} + \\frac{\\delta y}{\\delta x}\\frac{d x}{\\delta g}.$          [![Generic badge](https://img.shields.io/badge/MS19-Eq%2018-purple?logo=read-the-docs)](https://www.pascalmichaillat.org/6.html)  \n"
   ]
  },
  {
   "cell_type": "code",
   "execution_count": null,
   "id": "33662b4e-8718-4bd6-90f5-cfb480439eb3",
   "metadata": {},
   "outputs": [],
   "source": [
    "def optimal_func(G, x, **params):\n",
    "    return abs(1 - MRS_func(gc=G/(Y_func(x, **params) - G), **params) - dlnydlnx_func(x=x, **params)*dlnxdlng_func(G=G, x=x, **params)*Y_func(x=x, **params)/G)"
   ]
  },
  {
   "cell_type": "markdown",
   "id": "8b69f213",
   "metadata": {},
   "source": [
    "### The Sufficient Statistics Approach\n",
    "\n",
    "The sufficient-statistics formula is as follows:\n",
    "\n",
    "                $\\frac{g/c - (g/c)^*}{(g/c)^*} \\approx \\frac{z_0 \\epsilon m}{1 + z_1 z_0\\epsilon m^2}\\cdot \\frac{u_0 - \\bar{u}}{\\bar{u}}.$      [![Generic badge](https://img.shields.io/badge/MS19-Eq%2023-purple?logo=read-the-docs)](https://www.pascalmichaillat.org/6.html)  "
   ]
  },
  {
   "cell_type": "code",
   "execution_count": 24,
   "id": "f143e7b8",
   "metadata": {},
   "outputs": [],
   "source": [
    "def suffstat_func(u0, m, **params):\n",
    "    u_bar, z0, z1, epsilon = params['u_bar'], params['z0'], params['z1'], params['epsilon']\n",
    "    du = (u0 - u_bar)/u_bar\n",
    "    return epsilon*z0*m/(1 + z1*z0*epsilon*m**2)*du"
   ]
  }
 ],
 "metadata": {
  "interpreter": {
   "hash": "93b1c24310634affd0d01f492f804b3051b097ca32d8a50f2e9cfb889b742a8f"
  },
  "kernelspec": {
   "display_name": "Python 3",
   "language": "python",
   "name": "python3"
  },
  "language_info": {
   "codemirror_mode": {
    "name": "ipython",
    "version": 3
   },
   "file_extension": ".py",
   "mimetype": "text/x-python",
   "name": "python",
   "nbconvert_exporter": "python",
   "pygments_lexer": "ipython3",
   "version": "3.8.3"
  }
 },
 "nbformat": 4,
 "nbformat_minor": 5
}

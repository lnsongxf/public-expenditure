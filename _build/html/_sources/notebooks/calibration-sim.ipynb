{
 "cells": [
  {
   "cell_type": "markdown",
   "id": "f2a5b9f4-bb03-4b59-99c5-3e04da94f6b0",
   "metadata": {},
   "source": [
    "# Additional Calibration\n",
    "\n",
    "This section implements additional calibration of the supply and demand side of the matching model. The additional calibration calculates additional parameters such as target macroeconomic variables, price rigidities, and different elasticities on the supply and demand sides that are needed for the simulations. "
   ]
  },
  {
   "cell_type": "markdown",
   "id": "cdb8facd-01f1-4d78-bc0e-1b3b35ea9f8a",
   "metadata": {},
   "source": [
    "## Additional Parameters\n",
    "We want to first calculate the additional parameters needed for the simulations. \n",
    "1. $\\bar{Y}$ : average output\n",
    "1. $\\gamma$ : preference parameter\n",
    "1. $k$ : productive capacity, which can also be endogenized by adding a labor market where firms hire workers"
   ]
  },
  {
   "cell_type": "code",
   "execution_count": 9,
   "id": "f46435b7-c588-4453-90fe-e68de121be6c",
   "metadata": {},
   "outputs": [],
   "source": [
    "k = 1 # normalization\n",
    "Y_bar = k*(1 - u_bar)\n",
    "gamma = 1/(1 + 1/GC_bar) "
   ]
  },
  {
   "cell_type": "markdown",
   "id": "41b06964-d5d2-4338-8d6c-cdadc49f33bb",
   "metadata": {},
   "source": [
    "For convenience, we define the functions to calculate key macroeconomic variables  $G/Y, C/Y$, and $G/C$. The expressions for them simply follow from accounting identity.    "
   ]
  },
  {
   "cell_type": "code",
   "execution_count": 10,
   "id": "86cf1d31-5059-4a4d-9867-b0958aaebbdd",
   "metadata": {},
   "outputs": [],
   "source": [
    "GY = lambda gc:gc/(1 + gc) # G/Y\n",
    "CY = lambda gc:1 - GY(gc)  # C/Y\n",
    "GC = lambda GY:GY/(1 - GY) # G/C"
   ]
  },
  {
   "cell_type": "markdown",
   "id": "b1f883e1-88c4-4868-a2ab-716120151970",
   "metadata": {},
   "source": [
    "We then use these functions to calculate target macroeconomic variables."
   ]
  },
  {
   "cell_type": "code",
   "execution_count": 11,
   "id": "1d5bd618-07d2-4c67-87fa-f00a841c84d7",
   "metadata": {},
   "outputs": [],
   "source": [
    "GY_bar = GY(GC_bar)\n",
    "CY_bar = CY(GC_bar)\n",
    "G_bar = GY_bar*Y_bar\n",
    "C_bar = CY_bar*Y_bar"
   ]
  },
  {
   "cell_type": "markdown",
   "id": "0e2670c2-d9da-43ff-8078-1ab5dca49319",
   "metadata": {},
   "source": [
    "We can also calculate the price rigidity $r$. At the efficient level, we have that\n",
    "\n",
    "                $M = \\frac{r}{\\gamma r + (1-\\gamma)\\epsilon},$              [![Generic badge](https://img.shields.io/badge/MS19-Eq%20A4-purple?logo=read-the-docs)](https://www.pascalmichaillat.org/6.html)  \n",
    "\n",
    "which implies that:\n",
    "\n",
    "                $r = \\frac{(1-\\gamma)\\epsilon M}{1 - \\gamma M} = \\frac{\\overline{C/Y}\\epsilon M}{1 - \\overline{G/Y} M}.$"
   ]
  },
  {
   "cell_type": "code",
   "execution_count": 12,
   "id": "865b47c6-f061-4c3e-8141-7d36c1188194",
   "metadata": {},
   "outputs": [],
   "source": [
    "r = (M_bar*epsilon*CY_bar)/(1 - M_bar*GY_bar)"
   ]
  },
  {
   "cell_type": "markdown",
   "id": "6ea4fab6-d0aa-4987-83fb-ca2bc79e998d",
   "metadata": {},
   "source": [
    "We now move to derive functions that are useful for finding equilibrium labor market tightness and government spending. We do this by looking at both the supply side and the demand side of the economy.  "
   ]
  },
  {
   "cell_type": "markdown",
   "id": "bc58cce1-536e-40fc-98af-75f9572193a0",
   "metadata": {},
   "source": [
    "## Supply Side   [![Generic badge](https://img.shields.io/badge/MS19-Section%202.2-purple?logo=read-the-docs)](https://www.pascalmichaillat.org/6.html)\n",
    "\n",
    "We set up the following functions for the supply side of our model. \n",
    "\n",
    "The buying rate $q$, as a function of labor market tightness $x$, is:\n",
    "\n",
    "                $q(x(t)) = \\frac{h(t)}{v(t)}=\\omega x(t)^{-\\eta}.$        [![Generic badge](https://img.shields.io/badge/MS19-p.%201305-purple?logo=read-the-docs)](https://www.pascalmichaillat.org/6.html)  \n",
    "                \n",
    "The selling rate $f$, as a function of labor market tightness $x$, is:\n",
    "\n",
    "                $f(x) = \\omega x^{1-\\eta}.$             [![Generic badge](https://img.shields.io/badge/MS19-p.%201305-purple?logo=read-the-docs)](https://www.pascalmichaillat.org/6.html) \n",
    "                \n",
    "The matching wedge $\\tau$ is:\n",
    "\n",
    "                $\\tau(x) = \\frac{\\rho s}{q(x) - \\rho s}, $             [![Generic badge](https://img.shields.io/badge/MS19-Eq%203-purple?logo=read-the-docs)](https://www.pascalmichaillat.org/6.html) "
   ]
  },
  {
   "cell_type": "code",
   "execution_count": 13,
   "id": "953db9ea-e1a5-4705-9975-f38d13607ac5",
   "metadata": {},
   "outputs": [],
   "source": [
    "q = lambda x:omega*x**(-eta) #buying rate\n",
    "f = lambda x:omega*x**(1 - eta) #selling rate\n",
    "tau = lambda x:s*rho/(q(x) - s*rho) #matching wedge"
   ]
  },
  {
   "cell_type": "markdown",
   "id": "bf2ff36d-9918-4915-8efa-752e63969761",
   "metadata": {},
   "source": [
    "We can also calculate the elasticity of output to tightness. \n",
    "\n",
    "First, we have that unemployment rate is: \n",
    "\n",
    "                $u(x) = \\frac{s}{s+f(x)}.$              [![Generic badge](https://img.shields.io/badge/MS19-Eq%202-purple?logo=read-the-docs)](https://www.pascalmichaillat.org/6.html)  \n",
    "                \n",
    "\n",
    "Also, output is given by:\n",
    "\n",
    "                $Y(x, k) = \\frac{f(x)}{s+f(x)}k = (1-u(x))\\cdot k.$    [![Generic badge](https://img.shields.io/badge/MS19-Eq%201-purple?logo=read-the-docs)](https://www.pascalmichaillat.org/6.html) \n",
    "\n",
    "Thus, the elasticity of output to tightness is:\n",
    "\n",
    "                $\\frac{d\\ln{y}}{d\\ln{x}} = (1-\\eta) * u(x) - \\eta * \\tau(x).$"
   ]
  },
  {
   "cell_type": "code",
   "execution_count": 14,
   "id": "73de4baa-b0ff-4c49-a113-24bc2222056c",
   "metadata": {},
   "outputs": [],
   "source": [
    "u = lambda x:s/(s + f(x))  # unemployment rate\n",
    "Y = lambda x:(1 - u(x))*k  # output\n",
    "dlnydlnx = lambda x:(1-eta)*u(x) - eta*tau(x) #elasticity of output to tightness"
   ]
  },
  {
   "cell_type": "markdown",
   "id": "ecef48fc-703c-42a4-b9ca-d41f06d9508f",
   "metadata": {},
   "source": [
    "## Demand Side and Equilibrium   [![Generic badge](https://img.shields.io/badge/MS19-Appendix%20A-purple?logo=read-the-docs)](https://www.pascalmichaillat.org/6.html)\n",
    "\n",
    "### Utility Function   [![Generic badge](https://img.shields.io/badge/MS19-p.%20A1~A2-purple?logo=read-the-docs)](https://www.pascalmichaillat.org/6.html)\n",
    "\n",
    "Given the elasticity of substitution between private and public consumption $\\epsilon$, we have the following CES utility function:\n",
    "\n",
    "\n",
    "                $\\mathcal{U}(c, g) = \\left((1-\\gamma)^{1/\\epsilon}c^{(\\epsilon-1)/\\epsilon} + \\gamma ^{1/\\epsilon}g^{(\\epsilon - 1)/\\epsilon}\\right)^{\\epsilon/(\\epsilon - 1)}.$            [![Generic badge](https://img.shields.io/badge/MS19-Eq%208-purple?logo=read-the-docs)](https://www.pascalmichaillat.org/6.html)  \n",
    "\n",
    "When $\\epsilon = 1$, the utility function is Cobb-Douglas:\n",
    "\n",
    "                $\\mathcal{U}(c,g) = \\frac{c^{1-\\gamma} g^{\\gamma}}{(1-\\gamma)^{1-\\gamma}\\gamma^\\gamma}.$\n"
   ]
  },
  {
   "cell_type": "code",
   "execution_count": 15,
   "id": "2ccd6799-a920-4c0f-9f0f-8fa9687f08eb",
   "metadata": {},
   "outputs": [],
   "source": [
    "if epsilon == 1:\n",
    "    scalar = (1 - gamma)**(1 - gamma)*gamma**gamma\n",
    "    U = lambda c, g:c**(1 - gamma)*g**(gamma)/scalar\n",
    "else:\n",
    "    U = lambda c, g:((1 - gamma)**(1/epsilon)*c**((epsilon - 1)/epsilon) + \n",
    "                     gamma**(1/epsilon)*g**((epsilon - 1)/epsilon))**(epsilon/(epsilon - 1))"
   ]
  },
  {
   "cell_type": "markdown",
   "id": "9aceccbc-e0cc-4fd4-86f8-3160a84bae99",
   "metadata": {},
   "source": [
    "With the given utility function, we have the following first derivatives:\n",
    "\n",
    "                $\\frac{\\delta \\ln{\\mathcal{U}}}{\\delta \\ln{c}} = (1-\\gamma)^{{1/\\epsilon}} \\left(\\frac{c}{\\mathcal{U}}\\right)^{\\frac{\\epsilon-1}{\\epsilon}},\\quad \\mathcal{U}_c \\equiv \\frac{\\delta \\mathcal{U}}{\\delta c} = \\left((1-\\gamma) \\frac{\\mathcal{U}}{c}\\right)^{1/\\epsilon},$\n",
    "\n",
    "                $\\frac{\\delta \\ln{\\mathcal{U}}}{\\delta \\ln{g}} = \\gamma^{{1/\\epsilon}} \\left(\\frac{g}{\\mathcal{U}}\\right)^{\\frac{\\epsilon-1}{\\epsilon}},\\quad \\mathcal{U}_g \\equiv \\frac{\\delta \\mathcal{U}}{\\delta g} = \\left(\\gamma \\frac{\\mathcal{U}}{g}\\right)^{1/\\epsilon}.$           [![Generic badge](https://img.shields.io/badge/MS19-p.%20A1-purple?logo=read-the-docs)](https://www.pascalmichaillat.org/6.html)\n",
    "\n",
    "which gives the marginal rate of substitution:\n",
    "\n",
    "                $MRS_{gc} = \\frac{\\mathcal{U}_g}{\\mathcal{U}_c}  = \\frac{\\gamma^{1/\\epsilon}}{(1-\\gamma)^{1/\\epsilon}}*(gc)^{1/\\epsilon}.$\n",
    "\n",
    "We also have the following second derivatives:\n",
    "\n",
    "                $\\frac{\\delta \\ln{\\mathcal{U}_c}}{\\delta \\ln{c}} = \\frac{1}{\\epsilon}\\left(\\frac{\\delta \\mathcal{U}}{\\delta c} -1 \\right),$                      \n",
    "\n",
    "                $\\frac{\\delta \\ln{\\mathcal{U}_c}}{\\delta \\ln{g}} = \\frac{1}{\\epsilon}\\left(\\frac{\\delta \\mathcal{U}}{\\delta g} \\right).$                        [![Generic badge](https://img.shields.io/badge/MS19-p.%20A2-purple?logo=read-the-docs)](https://www.pascalmichaillat.org/6.html)\n",
    "                \n",
    "These derivatives are useful for calculating unemployment multipliers."
   ]
  },
  {
   "cell_type": "code",
   "execution_count": 16,
   "id": "e5c3926f-46f5-4965-abfa-5997168c052b",
   "metadata": {},
   "outputs": [],
   "source": [
    "dUdc = lambda gc:((1-gamma)*U(1,gc))**(1/epsilon)\n",
    "dUdc_bar = dUdc(GC_bar)\n",
    "dUdg = lambda gc:(gamma*U(1/gc, 1))**(1/epsilon)\n",
    "MRS = lambda gc:gamma**(1/epsilon)/(1-gamma)**(1/epsilon)*gc**(-1/epsilon)\n",
    "dlnUdlnc = lambda gc:(1 - gamma)**(1/epsilon)*(U(1, gc))**((1 - epsilon)/epsilon)\n",
    "dlnUdlng = lambda gc:gamma**(1/epsilon)*(U(1/gc, 1))**((1 - epsilon)/epsilon)\n",
    "dlnUcdlnc = lambda gc:(dlnUdlnc(gc) - 1)/epsilon\n",
    "dlnUcdlng = lambda gc:dlnUdlng(gc)/epsilon"
   ]
  },
  {
   "cell_type": "markdown",
   "id": "35ad0aa0-fe03-4496-84a3-740a8b0d7e97",
   "metadata": {},
   "source": [
    "### Unemployment Multipliers   [![Generic badge](https://img.shields.io/badge/MS19-p.%20A2~A3-purple?logo=read-the-docs)](https://www.pascalmichaillat.org/6.html)\n",
    "\n",
    "We now move on to compute the theoretical unemployment multiplier and the output multiplier.\n",
    "\n",
    "First, we want to compute the effect of public consumption on the price of services, which requires us to look at the price mechanism. It is rigid since it does not respond to demand shocks, and is an expression of the multiplier:\n",
    "\n",
    "                $p(G) = p_0 \\left\\{ (1-\\gamma) + \\gamma ^{\\frac{1}{\\epsilon}}\\left[(1-\\gamma)\\frac{g}{y^*-g}\\right]^{\\frac{\\epsilon-1}{\\epsilon}}\\right \\}^\\frac{1-r}{\\epsilon - 1}.$   [![Generic badge](https://img.shields.io/badge/MS19-Eq%2015-purple?logo=read-the-docs)](https://www.pascalmichaillat.org/6.html)\n",
    "\n",
    "which gives us:\n",
    "\n",
    "                $\\frac{d\\ln{p}}{d\\ln{g}} = (1-r) \\left[ \\frac{\\delta\\ln{\\mathcal{U}_c}}{\\delta \\ln{g}} - \\frac{G}{y^* - G} \\frac{\\delta\\ln{\\mathcal{U}_c}}{\\delta \\ln{c}}  \\right].$      [![Generic badge](https://img.shields.io/badge/MS19-Eq%20A4-purple?logo=read-the-docs)](https://www.pascalmichaillat.org/6.html)"
   ]
  },
  {
   "cell_type": "code",
   "execution_count": 17,
   "id": "c645bd55-398e-4575-8395-c85b72d0ad80",
   "metadata": {},
   "outputs": [],
   "source": [
    "# initial price level\n",
    "p0 = dUdc_bar**r/(1 + tau_bar) \n",
    "p = lambda G:p0*dUdc(G/(Y_bar-G))**(1 - r)\n",
    "dlnpdlng = lambda G:(1 - r)*(dlnUcdlng(G/(Y_bar - G)) - dlnUcdlnc(G/(Y_bar - G))*(G/(Y_bar - G)))"
   ]
  },
  {
   "cell_type": "markdown",
   "id": "f80ea219-54de-4c27-bc9b-581e5df88431",
   "metadata": {},
   "source": [
    "Then we want to compute the effects of public consumption and tightness on private demand, which are:\n",
    "\n",
    "                $\\frac{\\delta\\ln{c}}{\\delta \\ln{x}} = \\frac{\\eta \\tau(x)}{\\delta \\ln{\\mathcal{U}_c}/\\delta\\ln(c)},$                        [![Generic badge](https://img.shields.io/badge/MS19-Eq%20A6-purple?logo=read-the-docs)](https://www.pascalmichaillat.org/6.html)\n",
    "\n",
    "and\n",
    "\n",
    "                $\\frac{\\delta\\ln{c}}{\\delta \\ln{g}} = \\frac{d \\ln{p}/d\\ln(g) - \\delta \\ln{\\mathcal{U}_c}/\\delta\\ln(g)}{\\delta \\ln{\\mathcal{U}_c}/\\delta\\ln(c)}.$                   [![Generic badge](https://img.shields.io/badge/MS19-Eq%20A7-purple?logo=read-the-docs)](https://www.pascalmichaillat.org/6.html)\n",
    "\n"
   ]
  },
  {
   "cell_type": "code",
   "execution_count": 18,
   "id": "7305b8a0-7b7d-40d5-b2cf-30283fa7d8cc",
   "metadata": {},
   "outputs": [],
   "source": [
    "dlncdlnx = lambda G, x:eta*tau(x)/dlnUcdlnc(G/(Y(x)-G))\n",
    "dlncdlng = lambda G, x:(dlnpdlng(G)-dlnUcdlng(G/(Y(x)-G)))/dlnUcdlnc(G/(Y(x)-G))"
   ]
  },
  {
   "cell_type": "markdown",
   "id": "b325ae7e-4a15-42b6-a598-fda9626f9774",
   "metadata": {},
   "source": [
    "We can also determine the effect of public consumption on equilibrium tightness, which is:\n",
    "\n",
    "                $\\frac{\\delta\\ln{x}}{\\delta \\ln{g}} = \\frac{(g/y) + (c/y)\\delta\\ln{c}/\\delta\\ln{g}}{\\delta\\ln{y}/\\delta\\ln{x} - (c/y)\\delta\\ln{c}/\\delta\\ln{x}}.$                   [![Generic badge](https://img.shields.io/badge/MS19-Eq%20A9-purple?logo=read-the-docs)](https://www.pascalmichaillat.org/6.html)"
   ]
  },
  {
   "cell_type": "code",
   "execution_count": 19,
   "id": "b8467b4d-cdf0-4015-8bf0-e321f0b40d71",
   "metadata": {
    "scrolled": true
   },
   "outputs": [],
   "source": [
    "dlnxdlng = lambda G, x:(G/Y(x) + (1 - G/Y(x))*dlncdlng(G, x))/(dlnydlnx(x) - (1-G/Y(x))*dlncdlnx(G, x))"
   ]
  },
  {
   "cell_type": "markdown",
   "id": "9bb5d985-d068-492f-8f57-5b7ed3ceec87",
   "metadata": {},
   "source": [
    "Thus, we can compute the theoretical unemployment multiplier\n",
    "\n",
    "                $m = (1-\\eta) (1-u) u \\frac{y}{g}\\frac{d\\ln{x}}{d\\ln{g}},$\n",
    "\n",
    "and the empirical unemployment multiplier\n",
    "\n",
    "                $M = \\frac{m}{1- u + \\frac{g}{y}\\frac{\\eta}{1-\\eta}\\frac{\\tau}{u}m}.$                         [![Generic badge](https://img.shields.io/badge/MS19-Eq%20A11-purple?logo=read-the-docs)](https://www.pascalmichaillat.org/6.html)\n"
   ]
  },
  {
   "cell_type": "code",
   "execution_count": 20,
   "id": "da8c8655-7c1d-4acd-9823-fe976d662241",
   "metadata": {},
   "outputs": [],
   "source": [
    "m = lambda G, x:(1 - eta)*u(x)*(1 - u(x))*dlnxdlng(G, x)*Y(x)/G \n",
    "M = lambda G, x:m(G, x)/(1 - u(x) + G/Y(x)*eta*tau(x)/(1 - eta)/u(x)*m(G, x))"
   ]
  },
  {
   "cell_type": "markdown",
   "id": "d2498324-6df0-434c-9df3-84c9196377ba",
   "metadata": {},
   "source": [
    "### Equilibrium Tightness and Public Spending\n",
    "\n",
    "To determine equilibrium under different aggregate demand/government spending, we need to find where aggreagte demand is equal to aggregate supply, which happens when \n",
    "\n",
    "                $\\frac{dU}{dc} - G = (1+\\tau)\\frac{p(G)}{\\alpha}$                       [![Generic badge](https://img.shields.io/badge/MS19-Eq%2013-purple?logo=read-the-docs)](https://www.pascalmichaillat.org/6.html)"
   ]
  },
  {
   "cell_type": "code",
   "execution_count": 21,
   "id": "0c98d29e-7b82-4891-b6b3-7d4cdb77e08f",
   "metadata": {},
   "outputs": [],
   "source": [
    "findeq = lambda G, x, alpha:abs(dUdc(G/(Y(x) - G)) - ((1 + tau(x))*p(G)/alpha))"
   ]
  },
  {
   "cell_type": "markdown",
   "id": "3f8f4879-4142-4f68-a633-666ae6130b69",
   "metadata": {},
   "source": [
    "We can now proceed to run our simulations."
   ]
  }
 ],
 "metadata": {
  "kernelspec": {
   "display_name": "Python 3",
   "language": "python",
   "name": "python3"
  },
  "language_info": {
   "codemirror_mode": {
    "name": "ipython",
    "version": 3
   },
   "file_extension": ".py",
   "mimetype": "text/x-python",
   "name": "python",
   "nbconvert_exporter": "python",
   "pygments_lexer": "ipython3",
   "version": "3.9.5"
  }
 },
 "nbformat": 4,
 "nbformat_minor": 5
}

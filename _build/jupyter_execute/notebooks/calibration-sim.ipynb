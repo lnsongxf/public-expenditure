{
 "cells": [
  {
   "cell_type": "markdown",
   "id": "f2a5b9f4-bb03-4b59-99c5-3e04da94f6b0",
   "metadata": {},
   "source": [
    "# Additional Calibration\n",
    "\n",
    "This section implements additional calibration of the supply and demand side of the matching model. The additional calibration calculates additional parameters such as target macroeconomic variables, price rigidities, and different elasticities on the supply and demand sides that are needed for the simulations. \n",
    "\n",
    "First, we read in the calibrated parameters."
   ]
  },
  {
   "cell_type": "code",
   "execution_count": 6,
   "id": "b2c1a402-a1c9-4f36-a1b6-f5bf74d10965",
   "metadata": {},
   "outputs": [
    {
     "ename": "TypeError",
     "evalue": "unhashable type: 'list'",
     "output_type": "error",
     "traceback": [
      "\u001b[1;31m---------------------------------------------------------------------------\u001b[0m",
      "\u001b[1;31mTypeError\u001b[0m                                 Traceback (most recent call last)",
      "\u001b[1;32m<ipython-input-6-45f76379ec01>\u001b[0m in \u001b[0;36m<module>\u001b[1;34m\u001b[0m\n\u001b[0;32m      1\u001b[0m \u001b[0mget_ipython\u001b[0m\u001b[1;33m(\u001b[0m\u001b[1;33m)\u001b[0m\u001b[1;33m.\u001b[0m\u001b[0mrun_line_magic\u001b[0m\u001b[1;33m(\u001b[0m\u001b[1;34m'store'\u001b[0m\u001b[1;33m,\u001b[0m \u001b[1;34m'-r params'\u001b[0m\u001b[1;33m)\u001b[0m\u001b[1;33m\u001b[0m\u001b[1;33m\u001b[0m\u001b[0m\n\u001b[0;32m      2\u001b[0m \u001b[0mparams\u001b[0m\u001b[1;33m\u001b[0m\u001b[1;33m\u001b[0m\u001b[0m\n\u001b[1;32m----> 3\u001b[1;33m \u001b[0ma\u001b[0m\u001b[1;33m,\u001b[0m \u001b[0mb\u001b[0m \u001b[1;33m=\u001b[0m \u001b[0mparams\u001b[0m\u001b[1;33m[\u001b[0m\u001b[1;33m[\u001b[0m\u001b[1;34m's'\u001b[0m\u001b[1;33m,\u001b[0m \u001b[1;34m'u_bar'\u001b[0m\u001b[1;33m]\u001b[0m\u001b[1;33m]\u001b[0m\u001b[1;33m\u001b[0m\u001b[1;33m\u001b[0m\u001b[0m\n\u001b[0m",
      "\u001b[1;31mTypeError\u001b[0m: unhashable type: 'list'"
     ]
    }
   ],
   "source": [
    "%store -r params\n",
    "params"
   ]
  },
  {
   "cell_type": "markdown",
   "id": "cdb8facd-01f1-4d78-bc0e-1b3b35ea9f8a",
   "metadata": {},
   "source": [
    "## Additional Parameters\n",
    "We want to first calculate the additional parameters needed for the simulations. \n",
    "1. $\\bar{Y}$ : average output\n",
    "1. $\\gamma$ : preference parameter\n",
    "1. $k$ : productive capacity, which can also be endogenized by adding a labor market where firms hire workers"
   ]
  },
  {
   "cell_type": "code",
   "execution_count": 9,
   "id": "f46435b7-c588-4453-90fe-e68de121be6c",
   "metadata": {},
   "outputs": [],
   "source": [
    "k = 1 # normalization\n",
    "Y_bar = k*(1 - params['u_bar'])\n",
    "gamma = 1/(1 + 1/params['GC_bar']) "
   ]
  },
  {
   "cell_type": "code",
   "execution_count": 11,
   "id": "1d5bd618-07d2-4c67-87fa-f00a841c84d7",
   "metadata": {},
   "outputs": [],
   "source": [
    "GY_bar = GY_func(params['GC_bar'])\n",
    "CY_bar = CY_func(params['GC_bar'])\n",
    "G_bar = GY_bar*Y_bar\n",
    "C_bar = CY_bar*Y_bar"
   ]
  },
  {
   "cell_type": "markdown",
   "id": "0e2670c2-d9da-43ff-8078-1ab5dca49319",
   "metadata": {},
   "source": [
    "We can also calculate the price rigidity $r$. At the efficient level, we have that\n",
    "\n",
    "                $M = \\frac{r}{\\gamma r + (1-\\gamma)\\epsilon},$              [![Generic badge](https://img.shields.io/badge/MS19-Eq%20A4-purple?logo=read-the-docs)](https://www.pascalmichaillat.org/6.html)  \n",
    "\n",
    "which implies that:\n",
    "\n",
    "                $r = \\frac{(1-\\gamma)\\epsilon M}{1 - \\gamma M} = \\frac{\\overline{C/Y}\\epsilon M}{1 - \\overline{G/Y} M}.$"
   ]
  },
  {
   "cell_type": "code",
   "execution_count": 12,
   "id": "865b47c6-f061-4c3e-8141-7d36c1188194",
   "metadata": {},
   "outputs": [],
   "source": [
    "r = (params['M_bar']*params['epsilon']*CY_bar)/(1 - params['M_bar']*GY_bar)"
   ]
  },
  {
   "cell_type": "code",
   "execution_count": null,
   "id": "c3a89a39-c456-49a0-bd5e-5e0e50696452",
   "metadata": {},
   "outputs": [],
   "source": [
    "dUdc_bar = dUdc(GC_bar)\n",
    "p0 = dUdc_bar**r/(1 + tau_bar) "
   ]
  },
  {
   "cell_type": "code",
   "execution_count": 14,
   "id": "73de4baa-b0ff-4c49-a113-24bc2222056c",
   "metadata": {},
   "outputs": [],
   "source": [
    "u = lambda x:s/(s + f(x))  # unemployment rate\n",
    "Y = lambda x:(1 - u(x))*k  # output\n",
    "dlnydlnx = lambda x:(1-eta)*u(x) - eta*tau(x) #elasticity of output to tightness"
   ]
  },
  {
   "cell_type": "markdown",
   "id": "d2498324-6df0-434c-9df3-84c9196377ba",
   "metadata": {},
   "source": [
    "### Equilibrium Tightness and Public Spending\n",
    "\n",
    "To determine equilibrium under different aggregate demand/government spending, we need to find where aggreagte demand is equal to aggregate supply, which happens when \n",
    "\n",
    "                $\\frac{dU}{dc} - G = (1+\\tau)\\frac{p(G)}{\\alpha}$                       [![Generic badge](https://img.shields.io/badge/MS19-Eq%2013-purple?logo=read-the-docs)](https://www.pascalmichaillat.org/6.html)"
   ]
  },
  {
   "cell_type": "code",
   "execution_count": 21,
   "id": "0c98d29e-7b82-4891-b6b3-7d4cdb77e08f",
   "metadata": {},
   "outputs": [],
   "source": [
    "findeq = lambda G, x, alpha:abs(dUdc(G/(Y(x) - G)) - ((1 + tau(x))*p(G)/alpha))"
   ]
  },
  {
   "cell_type": "markdown",
   "id": "3f8f4879-4142-4f68-a633-666ae6130b69",
   "metadata": {},
   "source": [
    "We can now proceed to run our simulations."
   ]
  }
 ],
 "metadata": {
  "kernelspec": {
   "display_name": "Python 3",
   "language": "python",
   "name": "python3"
  },
  "language_info": {
   "codemirror_mode": {
    "name": "ipython",
    "version": 3
   },
   "file_extension": ".py",
   "mimetype": "text/x-python",
   "name": "python",
   "nbconvert_exporter": "python",
   "pygments_lexer": "ipython3",
   "version": "3.9.5"
  }
 },
 "nbformat": 4,
 "nbformat_minor": 5
}
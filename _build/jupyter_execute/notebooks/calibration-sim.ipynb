{
 "cells": [
  {
   "cell_type": "markdown",
   "id": "f2a5b9f4-bb03-4b59-99c5-3e04da94f6b0",
   "metadata": {},
   "source": [
    "# Additional Calibration\n",
    "\n",
    "This section implements additional parameters needed for business cycle simulation. \n",
    "\n",
    "Before we start, we read in the calibrated parameters and the helper functions."
   ]
  },
  {
   "cell_type": "code",
   "execution_count": 11,
   "id": "b2c1a402-a1c9-4f36-a1b6-f5bf74d10965",
   "metadata": {},
   "outputs": [
    {
     "data": {
      "text/plain": [
       "{'s': 0.03557894736842106,\n",
       " 'u_bar': 0.05974999999999999,\n",
       " 'x_bar': 0.557752047505985,\n",
       " 'GC_bar': 0.19191729280673472,\n",
       " 'M_bar': 0.5,\n",
       " 'M_bar_l': 0,\n",
       " 'M_bar_h': 2,\n",
       " 'epsilon': 1,\n",
       " 'epsilon_h': 1.5,\n",
       " 'epsilon_l': 0.5,\n",
       " 'eta': 0.6,\n",
       " 'eta_l': 0.5,\n",
       " 'eta_h': 0.7,\n",
       " 'omega': 0.7071671173494025,\n",
       " 'rho': 1.080804575426955,\n",
       " 'tau': 0.03873194401199106,\n",
       " 'm_bar': 0.5100528390820994,\n",
       " 'z0': 2.827830175507158,\n",
       " 'z1': 2.2609135556386306,\n",
       " 'GY_bar': 0.16101561237928397,\n",
       " 'k': 1,\n",
       " 'Y_bar': 0.94025,\n",
       " 'gamma': 0.16101561237928397,\n",
       " 'r': 0.4562215934340785,\n",
       " 'p0': 0.9627122818016041}"
      ]
     },
     "execution_count": 11,
     "metadata": {},
     "output_type": "execute_result"
    }
   ],
   "source": [
    "%store -r params\n",
    "%run helpers.ipynb\n",
    "params"
   ]
  },
  {
   "cell_type": "markdown",
   "id": "cdb8facd-01f1-4d78-bc0e-1b3b35ea9f8a",
   "metadata": {},
   "source": [
    "## Calibration of $\\bar{Y}$\n",
    "\n",
    "First, we calculate average output. When calculating output, we use the following equation: \n",
    "\n",
    "                $Y(x, k) = \\frac{f(x)}{s+f(x)}k = (1-u(x))\\cdot k,$                [![Generic badge](https://img.shields.io/badge/MS19-Eq%201-purple?logo=read-the-docs)](https://www.pascalmichaillat.org/6.html)    \n",
    "\n",
    "with the normalization $k = 1$\n",
    "\n",
    "1. $\\gamma$ : preference parameter\n",
    "1. $k$ : productive capacity, which can also be endogenized by adding a labor market where firms hire workers"
   ]
  },
  {
   "cell_type": "code",
   "execution_count": 12,
   "id": "f46435b7-c588-4453-90fe-e68de121be6c",
   "metadata": {},
   "outputs": [],
   "source": [
    "params['k'] = 1\n",
    "params['Y_bar'] = params['k']*(1 - params['u_bar'])"
   ]
  },
  {
   "cell_type": "markdown",
   "id": "f6211603-e64e-4eee-8979-8805ceeefb24",
   "metadata": {},
   "source": [
    "## Calibration of $\\gamma$\n",
    "\n",
    "We now calibrate the preference parameter $\\gamma$. When the Samuelson rule holds:\n",
    "\n",
    "                $(g/c)^* = \\frac{\\gamma}{1-\\gamma}.$                [![Generic badge](https://img.shields.io/badge/MS19-Eq%20A1-purple?logo=read-the-docs)](https://www.pascalmichaillat.org/6.html)    \n"
   ]
  },
  {
   "cell_type": "code",
   "execution_count": 13,
   "id": "a24d7dbc-70a0-47c6-9136-13861f3afec9",
   "metadata": {},
   "outputs": [],
   "source": [
    "params['gamma'] = 1/(1 + 1/params['GC_bar']) "
   ]
  },
  {
   "cell_type": "markdown",
   "id": "0e2670c2-d9da-43ff-8078-1ab5dca49319",
   "metadata": {},
   "source": [
    "## Calibration of $r$\n",
    "\n",
    "$r$ is the price rigidity.  At the efficient level, we have that\n",
    "\n",
    "                $M = \\frac{r}{\\gamma r + (1-\\gamma)\\epsilon},$                [![Generic badge](https://img.shields.io/badge/MS19-Eq%20A4-purple?logo=read-the-docs)](https://www.pascalmichaillat.org/6.html)    \n",
    "\n",
    "\n",
    "which implies that:\n",
    "\n",
    "                $r = \\frac{(1-\\gamma)\\epsilon M}{1 - \\gamma M} = \\frac{\\overline{C/Y}\\epsilon M}{1 - \\overline{G/Y} M}.$                "
   ]
  },
  {
   "cell_type": "code",
   "execution_count": 14,
   "id": "c3a89a39-c456-49a0-bd5e-5e0e50696452",
   "metadata": {},
   "outputs": [],
   "source": [
    "CY_bar = CY_func(GC=params['GC_bar'])\n",
    "params['r'] = (params['M_bar']*params['epsilon']*CY_bar)/(1 - params['M_bar']*params['GY_bar'])"
   ]
  },
  {
   "cell_type": "markdown",
   "id": "d8c7540b-723f-4443-ac18-9e531b0c51a3",
   "metadata": {},
   "source": [
    "## Calibration of $p_0$\n",
    "We also need to calibrate the initial price level $p_0$ for the price mechanism. \n",
    "\n",
    "Looking at private demand, we have: \n",
    "\n",
    "                $\\mathcal{U}_c = (1+\\tau(x))p\\alpha$.                [![Generic badge](https://img.shields.io/badge/MS19-Eq%2013-purple?logo=read-the-docs)](https://www.pascalmichaillat.org/6.html)    \n",
    "\n",
    "Thus, at the efficient level with $\\alpha = 1$:\n",
    "\n",
    "                $p_0 = \\frac{\\overline{\\mathcal{U}_c}}{1+\\bar\\tau}$. "
   ]
  },
  {
   "cell_type": "code",
   "execution_count": 15,
   "id": "98649f81-3860-406e-98f5-f6b855e9f561",
   "metadata": {},
   "outputs": [],
   "source": [
    "dUdc_bar = dUdc_func(gc=params['GC_bar'], **params)\n",
    "params['p0'] = dUdc_bar**params['r']/(1 + params['tau']) "
   ]
  },
  {
   "cell_type": "markdown",
   "id": "3f8f4879-4142-4f68-a633-666ae6130b69",
   "metadata": {},
   "source": [
    "We now store the updated parameters and proceed to run our simulations."
   ]
  },
  {
   "cell_type": "code",
   "execution_count": 16,
   "id": "b62e014b-dad4-4a16-af53-5ea638a567ff",
   "metadata": {},
   "outputs": [
    {
     "name": "stdout",
     "output_type": "stream",
     "text": [
      "Stored 'params_full' (dict)\n"
     ]
    }
   ],
   "source": [
    "params_full = params\n",
    "%store params_full"
   ]
  }
 ],
 "metadata": {
  "kernelspec": {
   "display_name": "Python 3",
   "language": "python",
   "name": "python3"
  },
  "language_info": {
   "codemirror_mode": {
    "name": "ipython",
    "version": 3
   },
   "file_extension": ".py",
   "mimetype": "text/x-python",
   "name": "python",
   "nbconvert_exporter": "python",
   "pygments_lexer": "ipython3",
   "version": "3.9.5"
  }
 },
 "nbformat": 4,
 "nbformat_minor": 5
}
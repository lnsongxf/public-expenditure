{
 "cells": [
  {
   "cell_type": "code",
   "execution_count": 1,
   "id": "1da1bc62-819c-453e-b3b3-ec7a773320ad",
   "metadata": {},
   "outputs": [],
   "source": [
    "# %load setup.py\n",
    "import numpy as np\n",
    "import matplotlib.pyplot as plt\n",
    "import pandas as pd"
   ]
  },
  {
   "cell_type": "markdown",
   "id": "bb7ee791-730c-42d4-a404-88e101470bd7",
   "metadata": {},
   "source": [
    "# Calibration\n",
    "\n",
    "\n",
    "In this notebook, we will calibrate the parameters based on U.S data between 2001 and 2019.\n",
    "\n",
    "We will fetch the data from FRED. To do this, we will use the `fredapi` package. "
   ]
  },
  {
   "cell_type": "code",
   "execution_count": 2,
   "id": "3d84e711-6c24-4ee7-afdd-87962c48088a",
   "metadata": {},
   "outputs": [],
   "source": [
    "from fredapi import Fred\n",
    "# API key needs to be taken out when deployed\n",
    "fred = Fred(api_key='30adf5295a539a48e57fe367896a60e9')"
   ]
  },
  {
   "cell_type": "markdown",
   "id": "8aa66b59-43c6-419e-b54b-b27a2f04ac79",
   "metadata": {},
   "source": [
    "Our calibration period goes from 2001 to 2019."
   ]
  },
  {
   "cell_type": "code",
   "execution_count": 3,
   "id": "79ebdd53-ff10-4c38-b2cd-58a1735bc265",
   "metadata": {},
   "outputs": [],
   "source": [
    "start_date = '2001-01-01'\n",
    "end_date = '2019-12-31'"
   ]
  },
  {
   "cell_type": "markdown",
   "id": "2cf1b1c0-6bd5-4219-8534-bbd0e828e10c",
   "metadata": {},
   "source": [
    "## Calibration of $s$\n",
    "\n",
    "$s$ is the job separation rate. We will calibrate it as the average value of the US separation data over our sample period. "
   ]
  },
  {
   "cell_type": "code",
   "execution_count": 4,
   "id": "b5270fcd-fa16-4d76-b6ca-a0010c164333",
   "metadata": {},
   "outputs": [],
   "source": [
    "s_ts = fred.get_series('JTSTSR', frequency='q', observation_start=start_date, observation_end=end_date)"
   ]
  },
  {
   "cell_type": "markdown",
   "id": "86ea2b15-f04f-4643-bc3d-90339aa75a26",
   "metadata": {},
   "source": [
    "Here is what the U.S job separation rate looks like over our sample period."
   ]
  },
  {
   "cell_type": "code",
   "execution_count": 5,
   "id": "2c5d8b05-afa8-4efc-a664-13626310f45b",
   "metadata": {},
   "outputs": [
    {
     "data": {
      "text/plain": [
       "[Text(0.5, 0, 'Year'), Text(0, 0.5, 'x'), (0.0, 7.0)]"
      ]
     },
     "execution_count": 5,
     "metadata": {},
     "output_type": "execute_result"
    },
    {
     "data": {
      "image/png": "[encoded data removed]",
      "text/plain": [
       "<Figure size 432x288 with 1 Axes>"
      ]
     },
     "metadata": {
      "needs_background": "light"
     },
     "output_type": "display_data"
    }
   ],
   "source": [
    "s_ax = s_ts.plot(title=\"U.S Job Separation Rate between 2001 and 2019\", marker='.')\n",
    "s_ax.set(xlabel='Year', ylabel='x', ylim=(0, 7))"
   ]
  },
  {
   "cell_type": "markdown",
   "id": "9b6b3b71-f2ef-441f-80b6-88d9fb5f77f4",
   "metadata": {},
   "source": [
    "We can now calibrate $s$ for our model:"
   ]
  },
  {
   "cell_type": "code",
   "execution_count": 6,
   "id": "9662269e-9b8e-44f5-9a6c-9523dd50d568",
   "metadata": {},
   "outputs": [
    {
     "data": {
      "text/plain": [
       "0.03557894736842105"
      ]
     },
     "execution_count": 6,
     "metadata": {},
     "output_type": "execute_result"
    }
   ],
   "source": [
    "s = s_ts.mean()/100\n",
    "s"
   ]
  },
  {
   "cell_type": "markdown",
   "id": "0d4e027a-14a3-4afd-a02f-a717b3d1fdaa",
   "metadata": {},
   "source": [
    "## Calibration of $\\bar{u}$\n",
    "\n",
    "We now calibrate $\\bar{u}$, which is the steady-state unemployment rate. We calibrate it as the average value of the US unemployment rate over our sample period."
   ]
  },
  {
   "cell_type": "code",
   "execution_count": 7,
   "id": "f22b9049-4c50-4275-800d-c04c6b7da489",
   "metadata": {},
   "outputs": [],
   "source": [
    "u_ts = fred.get_series('UNRATE', frequency='q', observation_start=start_date, observation_end=end_date)"
   ]
  },
  {
   "cell_type": "markdown",
   "id": "743ddb27-bf12-4360-aa68-71708d2494d1",
   "metadata": {},
   "source": [
    "This is what unemployment rate in the U.S looks like over our sample period:"
   ]
  },
  {
   "cell_type": "code",
   "execution_count": 8,
   "id": "eb02790b-dcd2-439e-8d97-ca162620aab7",
   "metadata": {},
   "outputs": [
    {
     "data": {
      "text/plain": [
       "[Text(0.5, 0, 'Year'), Text(0, 0.5, 'u'), (0.0, 10.0)]"
      ]
     },
     "execution_count": 8,
     "metadata": {},
     "output_type": "execute_result"
    },
    {
     "data": {
      "image/png": "[encoded data removed]",
      "text/plain": [
       "<Figure size 432x288 with 1 Axes>"
      ]
     },
     "metadata": {
      "needs_background": "light"
     },
     "output_type": "display_data"
    }
   ],
   "source": [
    "u_ax = u_ts.plot(title=\"U.S Unemployment Rate between 2001 and 2019\", marker='.')\n",
    "u_ax.set(xlabel='Year', ylabel='u', ylim=(0, 10))"
   ]
  },
  {
   "cell_type": "markdown",
   "id": "7620dc36-f3c4-4a61-be41-384345488515",
   "metadata": {},
   "source": [
    "Taking the average gives us the calibrated value of $\\bar{u}$:"
   ]
  },
  {
   "cell_type": "code",
   "execution_count": 9,
   "id": "81a08e29-7cec-48fe-a844-878b7e817142",
   "metadata": {},
   "outputs": [
    {
     "data": {
      "text/plain": [
       "0.059750000000000004"
      ]
     },
     "execution_count": 9,
     "metadata": {},
     "output_type": "execute_result"
    }
   ],
   "source": [
    "u_bar = u_ts.mean()/100\n",
    "u_bar"
   ]
  },
  {
   "cell_type": "markdown",
   "id": "f29b3b4c-1288-447c-9120-ef09c1954126",
   "metadata": {},
   "source": [
    "## Calibration of $\\bar{x}$\n",
    "\n",
    "We will now claibrate $\\bar{x}$, which is the steady-state labor market tightness. We will calibrate it as the average value of the US labor market tightness over our sample period.\n",
    "\n",
    "Note that labor market tightness is defined as:\n",
    "\n",
    "$$x(t) = \\frac{v(t)}{k-Y(t)},$$\n",
    "\n",
    "where $v$ denotes the vacancy level, $k$ the productive capacity of households, and $Y$ output. Therefore, $k - Y(t)$ is simply the unemployment level, since output comes from services provided by households. "
   ]
  },
  {
   "cell_type": "code",
   "execution_count": 10,
   "id": "4cfd8660-3a2d-42bb-ab7d-cce966729a13",
   "metadata": {},
   "outputs": [],
   "source": [
    "v_ts = fred.get_series('JTSJOL', frequency='q', observation_start=start_date, observation_end=end_date)\n",
    "ul_ts = fred.get_series('UNEMPLOY', frequency='q', observation_start=start_date, observation_end=end_date)\n",
    "x_ts = v_ts/ul_ts"
   ]
  },
  {
   "cell_type": "markdown",
   "id": "694fc4fd-3ab0-45f2-a4fc-f2c1f3614505",
   "metadata": {},
   "source": [
    "Here is what the labor market tightness looks like over our sample period."
   ]
  },
  {
   "cell_type": "code",
   "execution_count": 11,
   "id": "7c37c052-3f08-4033-a5be-35fef0257b86",
   "metadata": {},
   "outputs": [
    {
     "data": {
      "text/plain": [
       "[Text(0.5, 0, 'Year'), Text(0, 0.5, 'x'), (0.0, 1.2)]"
      ]
     },
     "execution_count": 11,
     "metadata": {},
     "output_type": "execute_result"
    },
    {
     "data": {
      "image/png": "[encoded data removed]",
      "text/plain": [
       "<Figure size 432x288 with 1 Axes>"
      ]
     },
     "metadata": {
      "needs_background": "light"
     },
     "output_type": "display_data"
    }
   ],
   "source": [
    "x_ax = x_ts.plot(title=\"U.S Labor Market Tightness between 2001 and 2019\", marker='.')\n",
    "x_ax.set(xlabel='Year', ylabel='x', ylim=(0, 1.2))"
   ]
  },
  {
   "cell_type": "markdown",
   "id": "49cbdb57-6299-452e-8d92-f25adc49aae1",
   "metadata": {},
   "source": [
    "We can now calculate the steady-state labor market tightness $\\bar{x}$:"
   ]
  },
  {
   "cell_type": "code",
   "execution_count": 12,
   "id": "32b2332e-4ec8-44bd-b6c2-52d68c257e84",
   "metadata": {},
   "outputs": [
    {
     "data": {
      "text/plain": [
       "0.557752047505985"
      ]
     },
     "execution_count": 12,
     "metadata": {},
     "output_type": "execute_result"
    }
   ],
   "source": [
    "x_bar = x_ts.mean()\n",
    "x_bar"
   ]
  },
  {
   "cell_type": "markdown",
   "id": "70a20f02-110b-46f8-83a3-586176773a0b",
   "metadata": {},
   "source": [
    "## Calibration of $\\overline{G/C}$\n",
    "\n",
    "$\\overline{G/C}$ is the steady-state ratio between public and private employment. We will calibrate it as the average value of the ratio between public and private employment in the U.S over our sample period. "
   ]
  },
  {
   "cell_type": "code",
   "execution_count": 13,
   "id": "06adca30-9308-4980-b611-08e9edec45c3",
   "metadata": {},
   "outputs": [],
   "source": [
    "G_ts = fred.get_series('USGOVT', frequency='q', observation_start=start_date, observation_end=end_date)\n",
    "C_ts = fred.get_series('USPRIV', frequency='q', observation_start=start_date, observation_end=end_date)\n",
    "GC_ts = G_ts/C_ts"
   ]
  },
  {
   "cell_type": "markdown",
   "id": "f09b4b06-3e62-4bb0-b934-f8eb09d2284e",
   "metadata": {},
   "source": [
    "This is what the ratio between public and private employment looks like over our sample period:"
   ]
  },
  {
   "cell_type": "code",
   "execution_count": 14,
   "id": "a8c9fc27-6ca8-49c7-83d4-2876cb418f5d",
   "metadata": {},
   "outputs": [
    {
     "data": {
      "text/plain": [
       "[Text(0.5, 0, 'Year'), Text(0, 0.5, 'G/C'), (0.0, 0.4)]"
      ]
     },
     "execution_count": 14,
     "metadata": {},
     "output_type": "execute_result"
    },
    {
     "data": {
      "image/png": "[encoded data removed]",
      "text/plain": [
       "<Figure size 432x288 with 1 Axes>"
      ]
     },
     "metadata": {
      "needs_background": "light"
     },
     "output_type": "display_data"
    }
   ],
   "source": [
    "GC_ax = GC_ts.plot(title=\"U.S Public to Private Employment Ratio between 2001 and 2019\", marker='.')\n",
    "GC_ax.set(xlabel='Year', ylabel='G/C', ylim=(0, 0.4))"
   ]
  },
  {
   "cell_type": "markdown",
   "id": "8bb3cfa8-9955-4029-b1d9-a1ddab6e2603",
   "metadata": {},
   "source": [
    "We now calibrate the steady-state ratio $\\overline{G/C}$"
   ]
  },
  {
   "cell_type": "code",
   "execution_count": 15,
   "id": "ef6078c5-09b0-4d65-86fd-5316edd473b4",
   "metadata": {},
   "outputs": [
    {
     "data": {
      "text/plain": [
       "0.19191729280673472"
      ]
     },
     "execution_count": 15,
     "metadata": {},
     "output_type": "execute_result"
    }
   ],
   "source": [
    "GC_bar = GC_ts.mean()\n",
    "GC_bar"
   ]
  },
  {
   "cell_type": "markdown",
   "id": "d09867ab-4969-4491-afd3-9dbeb1005e86",
   "metadata": {},
   "source": [
    "## Calibration of $\\bar{M}$ \n",
    "\n",
    "The parameter $\\bar{M}$ is the average unemployment multiplier, which is the same as the output multiplier. The unemployment multiplier is estimated by measuring the percentage-point change in the unemployment rate when public expenditure increases by $1\\%$ of GDP. \n",
    "\n",
    "Monacelli et al. ([2010](http://dx.doi.org/10.1016/j.jmoneco.2010.05.009), pp. 533–536) estimate a structural vector autoregression (SVAR) on U.S. data and find unemployment multipliers between $0.2$ and $0.6$. Ramey ([2013](http://doi.org/10.7208/chicago/9780226018584.003.0002), pp.40–42) estimates SVARs on U.S. data with various identification schemes and sample periods and finds unemployment multipliers between $0.2$ and $0.5$, except in one specification where the multiplier is $1$.\n",
    "\n",
    "The multiplier entering our formula could be larger if multipliers are larger when unemployment is higher, as suggested by recent research on state-dependent multipliers. For instance, estimating regime-switching SVARs on U.S. data, Auerbach and Gorodnichenko ([2012](http://doi.org/10.1257/pol.4.2.1), table 1) find that while the output multiplier is $0.6$ in expansions and $1$ on average, it is as high as $2.5$ in recessions.\n",
    "\n",
    "Thus, we will use a range of unemployment multipliers with lower bound $0$, upper bound $2$, and median $1$."
   ]
  },
  {
   "cell_type": "code",
   "execution_count": 16,
   "id": "439b5bf4-78db-425d-ba37-2836ffa06293",
   "metadata": {},
   "outputs": [],
   "source": [
    "M_bar_h, M_bar_l = 2, 0\n",
    "M_bar = 1"
   ]
  },
  {
   "cell_type": "markdown",
   "id": "b30b5a0e-dc16-477e-a6b9-572c5892aeb2",
   "metadata": {},
   "source": [
    "## Calibration of $\\epsilon$\n",
    "\n",
    "The parameter $\\epsilon$ is the elasticity of substitution between public and private consumption. Amano and Wirjanto ([1997](https://doi.org/10.1162/003465397557187), [1998](https://doi.org/10.1006/redy.1998.0021)) estimate the elasticity of substitution between public and private consumption to be 0.9 and 1.56. Here, we consider three values: $\\epsilon = 0.5, \\epsilon = 1$ and $\\epsilon = 1.5.$ You can also play with the parameter values of $\\epsilon$."
   ]
  },
  {
   "cell_type": "code",
   "execution_count": 17,
   "id": "3d87f512-67c1-4604-b608-a628a9b60ac5",
   "metadata": {},
   "outputs": [],
   "source": [
    "epsilon_h, epsilon_l = 1.5, 0.5\n",
    "epsilon = 1"
   ]
  },
  {
   "cell_type": "markdown",
   "id": "edf7fcfa-8820-459b-a076-d2c9f9c5f9dd",
   "metadata": {},
   "source": [
    "## Calibration of $\\eta$    [![Generic badge](https://img.shields.io/badge/MS18a-p.%20D7-purple?logo=read-the-docs)](https://www.pascalmichaillat.org/5.html) \n",
    "\n",
    "The parameter $\\eta$ is the matching elasticity, which is the elasticity of the matching function with respect to unemployment. A vast literature has attempted to estimate $\\eta$. In their survey, Petrongolo\n",
    "and Pissarides (2001, p. 424) conclude that the estimates of $\\eta$ fall between 0.5 and 0.7. Here, we will set $\\eta$ to be $0.6$, with an upper bound of $0.7$ and a lower bound of $0.5$.\n",
    "\n",
    "Check the badge above for reference to a more detailed discussion. "
   ]
  },
  {
   "cell_type": "code",
   "execution_count": 18,
   "id": "0b1cf453-47f0-48f3-a8f6-e641d21a72c2",
   "metadata": {},
   "outputs": [],
   "source": [
    "eta_h, eta_l = 0.7, 0.5\n",
    "eta = 0.6"
   ]
  },
  {
   "cell_type": "markdown",
   "id": "1efeae86-61ca-44e6-830a-98e08333a2db",
   "metadata": {},
   "source": [
    " ## Calibration of $\\omega$    [![Generic badge](https://img.shields.io/badge/MS18a-p.%20G28-purple?logo=read-the-docs)](https://www.pascalmichaillat.org/5.html) \n",
    "\n",
    " \n",
    "The parameter $\\omega$ denotes matching efficacy. \n",
    "\n",
    "We calibrate $\\omega$ with the following equation: \n",
    "\n",
    "                $\\omega = \\bar{x}^{\\eta - 1}\\cdot \\frac{s\\cdot (1-\\bar{u})}{\\bar{u}\\cdot e}, $              [![Generic badge](https://img.shields.io/badge/MS19-Eq%203-purple?logo=read-the-docs)](https://www.pascalmichaillat.org/6.html)  \n",
    "     \n",
    "where $e = 1$ is the normalized average job-search effort."
   ]
  },
  {
   "cell_type": "code",
   "execution_count": 19,
   "id": "b0bceea5-c16c-4f07-a3d2-440d3a44c664",
   "metadata": {},
   "outputs": [
    {
     "data": {
      "text/plain": [
       "0.7071671173494022"
      ]
     },
     "execution_count": 19,
     "metadata": {},
     "output_type": "execute_result"
    }
   ],
   "source": [
    "omega = x_bar**(eta - 1)*s*(1 - u_bar)/u_bar\n",
    "omega"
   ]
  },
  {
   "cell_type": "markdown",
   "id": "822f4f67-0b5a-4647-bde7-7a0c7347489c",
   "metadata": {},
   "source": [
    "## Calibration of $\\rho$\n",
    "\n",
    "To calibrate $\\rho$, we use the following relationship between the recruiter-producer ratio ($\\tau$) and labor market tightness ($x$):\n",
    "\n",
    "                $\\tau(x) = \\frac{\\rho s}{q(x) - \\rho s}, $              [![Generic badge](https://img.shields.io/badge/MS19-Eq%203-purple?logo=read-the-docs)](https://www.pascalmichaillat.org/6.html)  \n",
    "                \n",
    "where\n",
    "\n",
    "                $q(x(t)) = \\frac{h(t)}{v(t)}=\\omega x(t)^{-\\eta}.$         [![Generic badge](https://img.shields.io/badge/MS19-p.%201305-purple?logo=read-the-docs)](https://www.pascalmichaillat.org/6.html)  \n",
    "                \n",
    "This gives us that:\n",
    "\n",
    "                $\\rho = \\frac{\\omega x^{-\\eta}\\tau}{(1+\\tau)s}.$\n",
    "                \n",
    "Note that the relationship above holds for all $\\tau$'s and $x$'s, we can find $\\rho$ if we know what they are at the efficient level. \n",
    "\n",
    "When labor market tightness is efficient, we have:\n",
    "\n",
    "                $(1-\\eta)\\bar{u}-\\eta\\bar{\\tau} = 0, $            [![Generic badge](https://img.shields.io/badge/MS19-Eq%205-purple?logo=read-the-docs)](https://www.pascalmichaillat.org/6.html)  \n",
    "\n",
    "which can be re-arranged into:\n",
    "\n",
    "                $\\bar{\\tau} = \\frac{(1-\\eta)\\bar{u}}{\\eta}.$ \n",
    "\n",
    "With this, we first calculate $\\bar{\\tau}$ and find that it is around $4\\%$."
   ]
  },
  {
   "cell_type": "code",
   "execution_count": 20,
   "id": "f1684712-f3c2-446c-98ec-d68c40846782",
   "metadata": {},
   "outputs": [
    {
     "data": {
      "text/plain": [
       "0.039833333333333346"
      ]
     },
     "execution_count": 20,
     "metadata": {},
     "output_type": "execute_result"
    }
   ],
   "source": [
    "tau_bar = (1 - eta)*u_bar/eta\n",
    "tau_bar"
   ]
  },
  {
   "cell_type": "markdown",
   "id": "68e80c25-9583-41f8-a4d7-d66d498c238a",
   "metadata": {},
   "source": [
    "We can now calibrate $\\rho$:"
   ]
  },
  {
   "cell_type": "code",
   "execution_count": 21,
   "id": "d9a1c3df-4050-43bd-85bb-7401809e6aac",
   "metadata": {},
   "outputs": [
    {
     "data": {
      "text/plain": [
       "1.080804575426955"
      ]
     },
     "execution_count": 21,
     "metadata": {},
     "output_type": "execute_result"
    }
   ],
   "source": [
    "rho = omega*x_bar**(-1*eta)*tau_bar/((1 + tau_bar)*s)\n",
    "rho"
   ]
  },
  {
   "cell_type": "markdown",
   "id": "e6943d8f-60a0-445c-a81f-7c8b06b9a985",
   "metadata": {},
   "source": [
    "## Calibration of $\\tau$\n",
    "\n",
    "As mentioned earlier, $\\tau$ is the recruiter-producer ratio. Recall\n",
    "\n",
    "                $\\tau(x) = \\frac{\\rho s}{q(x) - \\rho s}, $              [![Generic badge](https://img.shields.io/badge/MS19-Eq%203-purple?logo=read-the-docs)](https://www.pascalmichaillat.org/6.html) \n",
    "                \n",
    "where\n",
    "\n",
    "                $q(x(t)) = \\frac{h(t)}{v(t)}=\\omega x(t)^{-\\eta}.$         [![Generic badge](https://img.shields.io/badge/MS19-p.%201305-purple?logo=read-the-docs)](https://www.pascalmichaillat.org/6.html)  \n",
    "\n",
    "We can now calibrate $\\tau$.\n",
    "           "
   ]
  },
  {
   "cell_type": "code",
   "execution_count": 22,
   "id": "733c4429-ecba-4770-b3be-5dc55de615e0",
   "metadata": {},
   "outputs": [],
   "source": [
    "q = lambda x:omega*x**(-eta)\n",
    "tau_ts = rho*s / (q(x_ts) - rho*s)"
   ]
  },
  {
   "cell_type": "markdown",
   "id": "6cc6bb30-edbd-423f-b86a-90ddfa53e48d",
   "metadata": {},
   "source": [
    "This is what $\\tau$ looks like over our sample period:"
   ]
  },
  {
   "cell_type": "code",
   "execution_count": 23,
   "id": "f01165da-28d6-4007-95cf-b073811dfac4",
   "metadata": {},
   "outputs": [
    {
     "data": {
      "text/plain": [
       "[Text(0.5, 0, 'Year'), Text(0, 0.5, '$\\\\tau$'), (0.0, 0.1)]"
      ]
     },
     "execution_count": 23,
     "metadata": {},
     "output_type": "execute_result"
    },
    {
     "data": {
      "image/png": "[encoded data removed]",
      "text/plain": [
       "<Figure size 432x288 with 1 Axes>"
      ]
     },
     "metadata": {
      "needs_background": "light"
     },
     "output_type": "display_data"
    }
   ],
   "source": [
    "tau_ax = tau_ts.plot(title=\"U.S Recruiter to Producer Ratio between 2001 and 2019\", marker='.')\n",
    "tau_ax.set(xlabel='Year', ylabel=r'$\\tau$', ylim=(0, 0.1))"
   ]
  },
  {
   "cell_type": "markdown",
   "id": "e017e4bc-4d64-4cc9-8604-126eac4c2b8d",
   "metadata": {},
   "source": [
    "## Calculating $z_0$ and $z_1$"
   ]
  },
  {
   "cell_type": "markdown",
   "id": "5e9a8368-9bfa-4159-ae45-113f2497e762",
   "metadata": {},
   "source": [
    "## Calculating $m$"
   ]
  },
  {
   "cell_type": "markdown",
   "id": "3357c929",
   "metadata": {},
   "source": [
    "# Calculating Optimal Stimulus\n",
    "\n",
    "We will calculate optimal stimulus with the following equation:\n",
    "\n",
    "                $\\frac{g/c - (g/c)^*}{(g/c)^*} \\approx \\frac{z_0 \\epsilon m}{1 + z_1 z_0\\epsilon m^2}\\cdot \\frac{u_0 - u^*}{u^*}$          [![Generic badge](https://img.shields.io/badge/MS19-Eq%2023-purple?logo=read-the-docs)](https://www.pascalmichaillat.org/6.html)  \n",
    "\n"
   ]
  },
  {
   "cell_type": "code",
   "execution_count": null,
   "id": "4fc6ab35-024a-4879-b90c-01fd71f505c7",
   "metadata": {},
   "outputs": [],
   "source": []
  }
 ],
 "metadata": {
  "kernelspec": {
   "display_name": "Python 3",
   "language": "python",
   "name": "python3"
  },
  "language_info": {
   "codemirror_mode": {
    "name": "ipython",
    "version": 3
   },
   "file_extension": ".py",
   "mimetype": "text/x-python",
   "name": "python",
   "nbconvert_exporter": "python",
   "pygments_lexer": "ipython3",
   "version": "3.8.3"
  }
 },
 "nbformat": 4,
 "nbformat_minor": 5
}

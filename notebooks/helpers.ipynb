{
 "cells": [
  {
   "cell_type": "markdown",
   "metadata": {},
   "source": [
    "# Helper Functions\n",
    "\n",
    "This section serves as a directory of the functions that are used in our calculations. "
   ]
  },
  {
   "cell_type": "markdown",
   "metadata": {},
   "source": [
    "## Model Parameters"
   ]
  },
  {
   "cell_type": "markdown",
   "metadata": {},
   "source": [
    " ### Calculation of $\\omega$   [![Generic badge](https://img.shields.io/badge/LMS18a-p.%20G28-purple?logo=read-the-docs)](https://www.pascalmichaillat.org/5.html) \n",
    "\n",
    " \n",
    "The parameter $\\omega$ denotes matching efficacy in the matching function. \n",
    "\n",
    "We calculate $\\omega$ by using the following equation: \n",
    "\n",
    "                $\\omega = \\bar{x}^{\\eta - 1}\\cdot \\frac{s\\cdot (1-\\bar{u})}{\\bar{u}\\cdot e}, $            [![Generic badge](https://img.shields.io/badge/MS19-Eq%203-purple?logo=read-the-docs)](https://www.pascalmichaillat.org/6.html)  \n",
    "     \n",
    "where $e$ is the average job-search effort, which is normalized to $1$. "
   ]
  },
  {
   "cell_type": "code",
   "execution_count": 1,
   "metadata": {},
   "outputs": [],
   "source": [
    "def omega_func(eta, x_bar, u_bar, e=1):\n",
    "    return x_bar**(eta - 1)*s*(1 - u_bar)/(u_bar*e)"
   ]
  },
  {
   "cell_type": "markdown",
   "metadata": {},
   "source": [
    "### Calculation of $\\rho$\n",
    "\n",
    "To calculate $\\rho$, we use the following relationship between the recruiter-producer ratio ($\\tau$) and labor market tightness ($x$):\n",
    "\n",
    "                $\\tau(x) = \\frac{\\rho s}{q(x) - \\rho s}. $              [![Generic badge](https://img.shields.io/badge/MS19-Eq%203-purple?logo=read-the-docs)](https://www.pascalmichaillat.org/6.html)  \n",
    "                \n",
    "This gives us that:\n",
    "\n",
    "                $\\rho = \\frac{\\omega x^{-\\eta}\\tau}{(1+\\tau)s}.$\n",
    "                "
   ]
  },
  {
   "cell_type": "code",
   "execution_count": 2,
   "metadata": {},
   "outputs": [],
   "source": [
    "def rho_func(eta, s, u, x, omega, tau):\n",
    "    return omega*x**(-1*eta)*tau/((1 + tau)*s)"
   ]
  },
  {
   "cell_type": "markdown",
   "metadata": {},
   "source": [
    "### Calculation of $\\bar{\\tau}$\n",
    "When labor market tightness is efficient, we have:\n",
    "\n",
    "                $(1-\\eta)\\bar{u}-\\eta\\bar{\\tau} = 0, $            [![Generic badge](https://img.shields.io/badge/MS19-Eq%205-purple?logo=read-the-docs)](https://www.pascalmichaillat.org/6.html)  \n",
    "\n",
    "which can be re-arranged into:\n",
    "\n",
    "                $\\bar{\\tau} = \\frac{(1-\\eta)\\bar{u}}{\\eta}.$ "
   ]
  },
  {
   "cell_type": "code",
   "execution_count": 3,
   "metadata": {},
   "outputs": [],
   "source": [
    "def tau_bar_func(eta, u_bar):\n",
    "    return (1 - eta)*u_bar/eta"
   ]
  },
  {
   "cell_type": "markdown",
   "metadata": {},
   "source": [
    "### Calculation of q\n",
    "\n",
    "The buying rate $q$, as a function of labor market tightness $x$, is:\n",
    "\n",
    "                $q(x(t)) = \\frac{h(t)}{v(t)}=\\omega x(t)^{-\\eta}.$        [![Generic badge](https://img.shields.io/badge/MS19-p.%201305-purple?logo=read-the-docs)](https://www.pascalmichaillat.org/6.html)  \n",
    "                "
   ]
  },
  {
   "cell_type": "code",
   "execution_count": 4,
   "metadata": {},
   "outputs": [],
   "source": [
    "def q_func(x, omega, eta):\n",
    "    return omega*x**(-eta)"
   ]
  },
  {
   "cell_type": "markdown",
   "metadata": {},
   "source": [
    "### Calculation of $\\tau$\n",
    "$\\tau$ is the recruiter-producer ratio, where\n",
    "\n",
    "                $\\tau(x) = \\frac{\\rho s}{q(x) - \\rho s}. $              [![Generic badge](https://img.shields.io/badge/MS19-Eq%203-purple?logo=read-the-docs)](https://www.pascalmichaillat.org/6.html) "
   ]
  },
  {
   "cell_type": "code",
   "execution_count": 5,
   "metadata": {},
   "outputs": [],
   "source": [
    "def tau_func(s, rho, q):\n",
    "    return s*rho/(q - s*rho)"
   ]
  },
  {
   "cell_type": "markdown",
   "metadata": {},
   "source": [
    "### Calculation of Output Identity\n",
    "\n",
    "Since output consists of government spending and consumption, we have the following identities:"
   ]
  },
  {
   "cell_type": "code",
   "execution_count": 6,
   "metadata": {},
   "outputs": [],
   "source": [
    "GY_func = lambda GC:GC/(1 + GC) # G/Y\n",
    "CY_func = lambda GC:1 - GY(GC)  # C/Y\n",
    "GC_func = lambda GY:GY/(1 - GY) # G/C"
   ]
  },
  {
   "cell_type": "markdown",
   "metadata": {},
   "source": [
    "### Calculation of $m$\n",
    "\n",
    "$m$ is the theoretical unemployment multiplier, which measures the response of unemployment to changes in public consumption. $m$ is calculated by using the following equation:\n",
    "\n",
    "                $ m = \\frac{(1-u)\\cdot M}{1- \\frac{G}{Y}\\cdot \\frac{\\eta}{1-\\eta}\\cdot \\frac{\\tau}{u}\\cdot M},$          [![Generic badge](https://img.shields.io/badge/MS19-Eq%2026-purple?logo=read-the-docs)](https://www.pascalmichaillat.org/6.html)"
   ]
  },
  {
   "cell_type": "code",
   "execution_count": 7,
   "metadata": {},
   "outputs": [],
   "source": [
    "def m_func(M, eta, u, GY, tau):\n",
    "    return (1 - u)*M/(1 - GY*eta/(1 - eta)*tau*u*M)"
   ]
  },
  {
   "cell_type": "markdown",
   "metadata": {},
   "source": [
    "### Calculation of $z_0$ and $z_1$\r\n",
    "\r\n",
    "$z_0$ and $z_1$ can be calculated by using the following equations:\r\n",
    "\r\n",
    "                $z_0 = \\frac{1}{(1-\\eta)(1-\\bar{u})^2},$         [![Generic badge](https://img.shields.io/badge/MS19-p.%201315-purple?logo=read-the-docs)](https://www.pascalmichaillat.org/6.html)  \r\n",
    "\r\n",
    "and \r\n",
    "\r\n",
    "\r\n",
    "                $z_1 = \\frac{\\overline{g/y}\\cdot \\overline{c/y}}{\\bar{u}}.$           [![Generic badge](https://img.shields.io/badge/MS19-p.%201316-purple?logo=read-the-docs)](https://www.pascalmichaillat.org/6.html)  "
   ]
  },
  {
   "cell_type": "code",
   "execution_count": 8,
   "metadata": {},
   "outputs": [],
   "source": [
    "def z0_func(eta, u_bar):\n",
    "    return 1/((1 - eta)*(1 - u_bar)**2)\n",
    "def z1_func(GY_bar, u_bar):\n",
    "    return GY_bar*(1 - GY_bar)/u_bar"
   ]
  }
 ],
 "metadata": {
  "interpreter": {
   "hash": "93b1c24310634affd0d01f492f804b3051b097ca32d8a50f2e9cfb889b742a8f"
  },
  "kernelspec": {
   "display_name": "Python 3.9.5 64-bit",
   "name": "python3"
  },
  "language_info": {
   "name": "python",
   "version": ""
  }
 },
 "nbformat": 4,
 "nbformat_minor": 5
}
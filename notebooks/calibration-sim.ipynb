{
 "cells": [
  {
   "cell_type": "markdown",
   "id": "f2a5b9f4-bb03-4b59-99c5-3e04da94f6b0",
   "metadata": {},
   "source": [
    "# Additional Calibration\n",
    "\n",
    "This section implements additional calibration of the supply and demand side of the matching model. The additional calibration calculates additional parameters such as target macroeconomic variables, price rigidities, and different elasticities on the supply and demand sides that are needed for the simulations. \n",
    "\n",
    "First, we read in the calibrated parameters and the helper functions."
   ]
  },
  {
   "cell_type": "code",
   "execution_count": 26,
   "id": "b2c1a402-a1c9-4f36-a1b6-f5bf74d10965",
   "metadata": {},
   "outputs": [
    {
     "data": {
      "text/plain": [
       "{'s': 0.03557894736842106,\n",
       " 'u_bar': 0.05974999999999999,\n",
       " 'x_bar': 0.557752047505985,\n",
       " 'GC_bar': 0.19191729280673472,\n",
       " 'M_bar': 0.5,\n",
       " 'M_bar_l': 0,\n",
       " 'M_bar_h': 2,\n",
       " 'epsilon': 1,\n",
       " 'epsilon_h': 1.5,\n",
       " 'epsilon_l': 0.5,\n",
       " 'eta': 0.6,\n",
       " 'eta_l': 0.5,\n",
       " 'eta_h': 0.7,\n",
       " 'omega': 0.7071671173494025,\n",
       " 'rho': 1.080804575426955,\n",
       " 'tau': 0.03873194401199106,\n",
       " 'm_bar': 0.5100528390820994,\n",
       " 'z0': 2.827830175507158,\n",
       " 'z1': 2.2609135556386306,\n",
       " 'k': 1,\n",
       " 'Y_bar': 0.94025,\n",
       " 'gamma': 0.16101561237928397,\n",
       " 'r': 0.4562215934340785,\n",
       " 'p0': 0.9627122818016041}"
      ]
     },
     "execution_count": 26,
     "metadata": {},
     "output_type": "execute_result"
    }
   ],
   "source": [
    "%store -r params\n",
    "%run helpers.ipynb\n",
    "params"
   ]
  },
  {
   "cell_type": "markdown",
   "id": "cdb8facd-01f1-4d78-bc0e-1b3b35ea9f8a",
   "metadata": {},
   "source": [
    "## Additional Parameters\n",
    "We want to first calculate the additional parameters needed for the simulations. \n",
    "1. $\\bar{Y}$ : average output\n",
    "1. $\\gamma$ : preference parameter\n",
    "1. $k$ : productive capacity, which can also be endogenized by adding a labor market where firms hire workers"
   ]
  },
  {
   "cell_type": "code",
   "execution_count": 27,
   "id": "f46435b7-c588-4453-90fe-e68de121be6c",
   "metadata": {},
   "outputs": [],
   "source": [
    "params['k'] = 1 # normalization\n",
    "params['Y_bar'] = params['k']*(1 - params['u_bar'])\n",
    "params['gamma'] = 1/(1 + 1/params['GC_bar']) "
   ]
  },
  {
   "cell_type": "code",
   "execution_count": 28,
   "id": "1d5bd618-07d2-4c67-87fa-f00a841c84d7",
   "metadata": {},
   "outputs": [],
   "source": [
    "params['GY_bar'] = GY_func(GC=params['GC_bar'])\n",
    "CY_bar = CY_func(GC=params['GC_bar'])"
   ]
  },
  {
   "cell_type": "markdown",
   "id": "0e2670c2-d9da-43ff-8078-1ab5dca49319",
   "metadata": {},
   "source": [
    "We also want to calculate the price rigidity $r$. "
   ]
  },
  {
   "cell_type": "code",
   "execution_count": 29,
   "id": "c3a89a39-c456-49a0-bd5e-5e0e50696452",
   "metadata": {},
   "outputs": [],
   "source": [
    "params['r'] = (params['M_bar']*params['epsilon']*CY_bar)/(1 - params['M_bar']*GY_bar)"
   ]
  },
  {
   "cell_type": "markdown",
   "id": "d8c7540b-723f-4443-ac18-9e531b0c51a3",
   "metadata": {},
   "source": [
    "As well as the initial price level $p_0$:"
   ]
  },
  {
   "cell_type": "code",
   "execution_count": 30,
   "id": "98649f81-3860-406e-98f5-f6b855e9f561",
   "metadata": {},
   "outputs": [],
   "source": [
    "dUdc_bar = dUdc_func(gc=params['GC_bar'], **params)\n",
    "params['p0'] = dUdc_bar**params['r']/(1 + params['tau']) "
   ]
  },
  {
   "cell_type": "markdown",
   "id": "3f8f4879-4142-4f68-a633-666ae6130b69",
   "metadata": {},
   "source": [
    "We now store the updated parameters and proceed to run our simulations."
   ]
  },
  {
   "cell_type": "code",
   "execution_count": 31,
   "id": "b62e014b-dad4-4a16-af53-5ea638a567ff",
   "metadata": {},
   "outputs": [
    {
     "name": "stdout",
     "output_type": "stream",
     "text": [
      "Stored 'params_full' (dict)\n"
     ]
    }
   ],
   "source": [
    "params_full = params\n",
    "%store params_full"
   ]
  }
 ],
 "metadata": {
  "kernelspec": {
   "display_name": "Python 3",
   "language": "python",
   "name": "python3"
  },
  "language_info": {
   "codemirror_mode": {
    "name": "ipython",
    "version": 3
   },
   "file_extension": ".py",
   "mimetype": "text/x-python",
   "name": "python",
   "nbconvert_exporter": "python",
   "pygments_lexer": "ipython3",
   "version": "3.9.5"
  }
 },
 "nbformat": 4,
 "nbformat_minor": 5
}

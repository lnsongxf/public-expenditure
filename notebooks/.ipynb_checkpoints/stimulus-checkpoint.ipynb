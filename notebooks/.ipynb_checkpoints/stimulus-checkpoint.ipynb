{
 "cells": [
  {
   "cell_type": "markdown",
   "id": "6a026908-4215-4171-89fb-e0d79b662469",
   "metadata": {},
   "source": [
    "# Optimal Stimulus\n",
    "\n",
    "This section computes the optimal level of public expenditure for any given current unemployment rate by using the sufficient-statistics formula. Before we start, we set up the libraries and read in the helper functions. "
   ]
  },
  {
   "cell_type": "code",
   "execution_count": 8,
   "id": "1da1bc62-819c-453e-b3b3-ec7a773320ad",
   "metadata": {},
   "outputs": [],
   "source": [
    "# %load ../py/setup.py\n",
    "import numpy as np\n",
    "import matplotlib.pyplot as plt\n",
    "import pandas as pd\n",
    "import matplotlib.ticker as mtick\n",
    "import plotly.io as pio\n",
    "import plotly.express as px\n",
    "import plotly.offline as py\n",
    "%run helpers.ipynb"
   ]
  },
  {
   "cell_type": "markdown",
   "id": "3357c929",
   "metadata": {},
   "source": [
    "## Calculating Optimal Stimulus\n",
    "\n",
    "First, we load the calibrated parameter values from our previous section. "
   ]
  },
  {
   "cell_type": "code",
   "execution_count": 9,
   "id": "3b5d9509-b66d-425d-86b3-9ba314efd89d",
   "metadata": {
    "tags": [
     "hide-output"
    ]
   },
   "outputs": [
    {
     "data": {
      "text/plain": [
       "{'s': 0.035578947368421,\n",
       " 'u_bar': 0.0597499999999999,\n",
       " 'x_bar': 0.557752047505985,\n",
       " 'GC_bar': 0.1919172928067347,\n",
       " 'M_bar': 0.5,\n",
       " 'M_bar_l': 0.0,\n",
       " 'M_bar_h': 2.0,\n",
       " 'epsilon': 1.0,\n",
       " 'epsilon_h': 1.5,\n",
       " 'epsilon_l': 0.5,\n",
       " 'eta': 0.6,\n",
       " 'eta_l': 0.5,\n",
       " 'eta_h': 0.7,\n",
       " 'omega': 0.7071671173494025,\n",
       " 'rho': 1.080804575426955,\n",
       " 'tau': 0.038731944011991,\n",
       " 'm_bar': 0.5100528390820994,\n",
       " 'z0': 2.827830175507158,\n",
       " 'z1': 2.2609135556386306,\n",
       " 'GY_bar': 0.1610156123792839}"
      ]
     },
     "execution_count": 9,
     "metadata": {},
     "output_type": "execute_result"
    }
   ],
   "source": [
    "params = pd.read_csv('output/params_suffstat.csv')\n",
    "params = dict(params.values)\n",
    "params"
   ]
  },
  {
   "cell_type": "markdown",
   "id": "032d6070-0d85-4d49-86ca-5dd7cbf14d69",
   "metadata": {},
   "source": [
    "We want to find out what the optimal stimulus is for any deviation from the steady state. Here, we set $u_0 = 9\\%$, which means we want to calculate the optimal stimulus when current unemployment rate is around $3$ percentage points higher than the steady-state value. Feel free to change this value to see how optimal stimulus changes. \n",
    "\n",
    "We also set $\\eta = 0.6$ and calculate $m$'s for a given range of $M$'s:"
   ]
  },
  {
   "cell_type": "code",
   "execution_count": 10,
   "id": "9694d3eb-a09c-40e4-90fd-e24d92fd9b0d",
   "metadata": {},
   "outputs": [],
   "source": [
    "u0 = 0.09\n",
    "M_vals = np.linspace(start=params['M_bar_l'], stop=params['M_bar_h'], num=101)\n",
    "m_vals = m_func(which='M', M=M_vals, u=params['u_bar'], GY=GY_func(params['GC_bar']), **params)"
   ]
  },
  {
   "cell_type": "markdown",
   "id": "b8bb4872-5b16-40ff-a4c9-be37c2da07b8",
   "metadata": {},
   "source": [
    "We now calculate optimal stimulus with the following equation:\n",
    "\n",
    "                $\\frac{g/c - (g/c)^*}{(g/c)^*} \\approx \\frac{z_0 \\epsilon m}{1 + z_1 z_0\\epsilon m^2}\\cdot \\frac{u_0 - \\bar{u}}{\\bar{u}}.$          [![Generic badge](https://img.shields.io/badge/MS19-Eq%2023-purple?logo=read-the-docs)](https://www.pascalmichaillat.org/6.html)  \n",
    "\n",
    "For convenience, we define the following wrapper, which calculates optimal stimulus as a percentage of GDP for different $\\epsilon$'s from the LHS of the equation above using accounting identities:"
   ]
  },
  {
   "cell_type": "code",
   "execution_count": 11,
   "id": "bb759179-d290-4ab7-9f88-ed31b3669a1d",
   "metadata": {},
   "outputs": [],
   "source": [
    "stim_func = lambda epsilon:GY_func((suffstat_func(m=m_vals, z0=params['z0'], z1=params['z1'],\n",
    "                                                  epsilon=epsilon, u0=u0, u_bar=params['u_bar']) + 1)*params['GC_bar']) - GY_func(params['GC_bar'])"
   ]
  },
  {
   "cell_type": "markdown",
   "id": "f5ea7226-c46d-4d08-bb45-08f5c2a80ab3",
   "metadata": {},
   "source": [
    "Below is what optimal stimulus spending looks like for different unemployment multipliers and elasticities of substitution between public and private consumption. For a more detailed discussion of the implications of this graph, go to page 1325 of [Michaillat and Saez (2019](https://www.pascalmichaillat.org/6.html))."
   ]
  },
  {
   "cell_type": "code",
   "execution_count": 12,
   "id": "e4237d0e-17e5-4acb-aec0-e09192ef7387",
   "metadata": {
    "tags": [
     "hide-input"
    ]
   },
   "outputs": [
    {
     "data": {
      "application/vnd.plotly.v1+json": {
       "config": {
        "plotlyServerURL": "https://plot.ly"
       },
       "data": [
        {
         "hovertemplate": "ϵ=1.5<br>Unemployment Multiplier=%{x}<br>Optimal stimulus spending (% of GDP)=%{y}<extra></extra>",
         "legendgroup": "1.5",
         "line": {
          "color": "#636efa",
          "dash": "solid"
         },
         "mode": "lines",
         "name": "1.5",
         "orientation": "v",
         "showlegend": true,
         "type": "scatter",
         "x": [
          0,
          0.02,
          0.04,
          0.06,
          0.08,
          0.1,
          0.12,
          0.14,
          0.16,
          0.18,
          0.2,
          0.22,
          0.24,
          0.26,
          0.28,
          0.3,
          0.32,
          0.34,
          0.36,
          0.38,
          0.4,
          0.42,
          0.44,
          0.46,
          0.48,
          0.5,
          0.52,
          0.54,
          0.56,
          0.58,
          0.6,
          0.62,
          0.64,
          0.66,
          0.68,
          0.7000000000000001,
          0.72,
          0.74,
          0.76,
          0.78,
          0.8,
          0.8200000000000001,
          0.84,
          0.86,
          0.88,
          0.9,
          0.92,
          0.9400000000000001,
          0.96,
          0.98,
          1,
          1.02,
          1.04,
          1.06,
          1.08,
          1.1,
          1.12,
          1.1400000000000001,
          1.16,
          1.18,
          1.2,
          1.22,
          1.24,
          1.26,
          1.28,
          1.3,
          1.32,
          1.34,
          1.36,
          1.3800000000000001,
          1.4000000000000001,
          1.42,
          1.44,
          1.46,
          1.48,
          1.5,
          1.52,
          1.54,
          1.56,
          1.58,
          1.6,
          1.62,
          1.6400000000000001,
          1.6600000000000001,
          1.68,
          1.7,
          1.72,
          1.74,
          1.76,
          1.78,
          1.8,
          1.82,
          1.84,
          1.86,
          1.8800000000000001,
          1.9000000000000001,
          1.92,
          1.94,
          1.96,
          1.98,
          2
         ],
         "xaxis": "x",
         "y": [
          0,
          0.005418706574033455,
          0.01069275680104756,
          0.015722768220632316,
          0.02042392811881527,
          0.024730125172682943,
          0.028595939273412946,
          0.031996554518863324,
          0.03492597146677687,
          0.03739406680199048,
          0.03942307785499871,
          0.04104401087719495,
          0.04229333609921046,
          0.043210185421677566,
          0.043834141135690785,
          0.04420361073753887,
          0.04435472526144582,
          0.044320670796671596,
          0.04413135645933339,
          0.043813328818249564,
          0.043389856098491886,
          0.04288112091675944,
          0.04230447514345373,
          0.04167472337859021,
          0.04100441199333388,
          0.04030410875953577,
          0.03958266405463215,
          0.03884744886958849,
          0.03810456774494875,
          0.0373590466523806,
          0.036614997004302124,
          0.03587575762968889,
          0.0351440168638143,
          0.034421916983190276,
          0.03371114315948165,
          0.03301299896667462,
          0.03232847029407984,
          0.03165827931987611,
          0.03100293000219978,
          0.030362746356973863,
          0.02973790461900197,
          0.02912846022766241,
          0.028534370441322537,
          0.0279555132647355,
          0.027391703269943196,
          0.026842704802058193,
          0.026308242985092184,
          0.02578801287814153,
          0.025281687077215648,
          0.024788922011432124,
          0.024309363142977353,
          0.023842649247063336,
          0.02338841592016977,
          0.022946298441335056,
          0.02251593409146646,
          0.022096964018985477,
          0.021689034726119022,
          0.0212917992383643,
          0.02090491800974273,
          0.020528059608117627,
          0.020160901217831373,
          0.019803128991004865,
          0.019454438273866392,
          0.019114533730281047,
          0.018783129381117897,
          0.018459948575111434,
          0.018144723904360033,
          0.017837197075484645,
          0.017537118745681396,
          0.017244248331391543,
          0.01695835379603866,
          0.016679211422206963,
          0.016406605572727023,
          0.016140328444369606,
          0.01588017981720105,
          0.01562596680211073,
          0.015377503588560076,
          0.015134611194217718,
          0.014897117217818917,
          0.014664855596314558,
          0.014437666367146385,
          0.014215395436292105,
          0.013997894352564128,
          0.013785020088511929,
          0.013576634828166817,
          0.01337260576177568,
          0.013172804887594397,
          0.012977108820750094,
          0.012785398609129889,
          0.012597559556213056,
          0.012413481050731617,
          0.01223305640301739,
          0.012056182687874367,
          0.011882760593800112,
          0.011712694278367963,
          0.011545891229575472,
          0.011382262132958426,
          0.011221720744267888,
          0.011064183767506786,
          0.010909570738123542,
          0.010757803911162461
         ],
         "yaxis": "y"
        },
        {
         "hovertemplate": "ϵ=1.0<br>Unemployment Multiplier=%{x}<br>Optimal stimulus spending (% of GDP)=%{y}<extra></extra>",
         "legendgroup": "1.0",
         "line": {
          "color": "#EF553B",
          "dash": "solid"
         },
         "mode": "lines",
         "name": "1.0",
         "orientation": "v",
         "showlegend": true,
         "type": "scatter",
         "x": [
          0,
          0.02,
          0.04,
          0.06,
          0.08,
          0.1,
          0.12,
          0.14,
          0.16,
          0.18,
          0.2,
          0.22,
          0.24,
          0.26,
          0.28,
          0.3,
          0.32,
          0.34,
          0.36,
          0.38,
          0.4,
          0.42,
          0.44,
          0.46,
          0.48,
          0.5,
          0.52,
          0.54,
          0.56,
          0.58,
          0.6,
          0.62,
          0.64,
          0.66,
          0.68,
          0.7000000000000001,
          0.72,
          0.74,
          0.76,
          0.78,
          0.8,
          0.8200000000000001,
          0.84,
          0.86,
          0.88,
          0.9,
          0.92,
          0.9400000000000001,
          0.96,
          0.98,
          1,
          1.02,
          1.04,
          1.06,
          1.08,
          1.1,
          1.12,
          1.1400000000000001,
          1.16,
          1.18,
          1.2,
          1.22,
          1.24,
          1.26,
          1.28,
          1.3,
          1.32,
          1.34,
          1.36,
          1.3800000000000001,
          1.4000000000000001,
          1.42,
          1.44,
          1.46,
          1.48,
          1.5,
          1.52,
          1.54,
          1.56,
          1.58,
          1.6,
          1.62,
          1.6400000000000001,
          1.6600000000000001,
          1.68,
          1.7,
          1.72,
          1.74,
          1.76,
          1.78,
          1.8,
          1.82,
          1.84,
          1.86,
          1.8800000000000001,
          1.9000000000000001,
          1.92,
          1.94,
          1.96,
          1.98,
          2
         ],
         "xaxis": "x",
         "y": [
          0,
          0.0036243562627293335,
          0.007191122502054864,
          0.010653511233971458,
          0.013968776272973493,
          0.017099875521031732,
          0.02001666434010349,
          0.0226965579387223,
          0.025124667685899216,
          0.02729347262363732,
          0.02920212592556884,
          0.03085551399367406,
          0.032263185177284576,
          0.03343825054570798,
          0.034396336622105894,
          0.0351546449145978,
          0.03573114953937173,
          0.03614394467897861,
          0.0364107390632932,
          0.03654848504223421,
          0.03657312444405378,
          0.03649943131353328,
          0.036340931813314103,
          0.03610988318652683,
          0.03581729604381445,
          0.035472986868924805,
          0.03508565021854396,
          0.03466294244036219,
          0.03421157076034184,
          0.03373738327122805,
          0.03324545670370871,
          0.03274017991428205,
          0.03222533182356199,
          0.031704153130344415,
          0.031179411552104574,
          0.03065346063834562,
          0.030128292400182194,
          0.029605584122796347,
          0.029086739796861022,
          0.028572926636155405,
          0.028065107153198016,
          0.02756406725163424,
          0.027070440769833504,
          0.026584730879379848,
          0.026107328708199484,
          0.02563852952324361,
          0.025178546773472393,
          0.02472752426132732,
          0.024285546680516246,
          0.02385264873005588,
          0.02342882298922419,
          0.023014026715343694,
          0.02260818770603351,
          0.022211209349579902,
          0.021822974971194842,
          0.021443351568966734,
          0.021072193021067553,
          0.020709342835074807,
          0.020354636500927947,
          0.020007903500900426,
          0.019668969022890392,
          0.019337655417180744,
          0.019013783431476527,
          0.01869717325439199,
          0.0183876453935386,
          0.018085021410878227,
          0.017789124534983325,
          0.017499780167226198,
          0.01721681629664845,
          0.01694006383629365,
          0.016669356892079712,
          0.016404532973809866,
          0.016145433156637023,
          0.01589190220018563,
          0.015643788631570177,
          0.015400944797712951,
          0.015163226891637294,
          0.014930494956783696,
          0.014702612872847659,
          0.014479448326165212,
          0.01426087276725782,
          0.01404676135779298,
          0.013836992908903667,
          0.013631449812540664,
          0.013430017967298508,
          0.013232586699950116,
          0.013039048683749499,
          0.012849299854409024,
          0.012663239324523096,
          0.01248076929709524,
          0.012301794978725411,
          0.012126224492926996,
          0.011953968793967706,
          0.011784941581563624,
          0.011619059216698646,
          0.011456240638793164,
          0.011296407284404009,
          0.011139483007600454,
          0.010985394002130555,
          0.010834068725465357,
          0.01068543782478415
         ],
         "yaxis": "y"
        },
        {
         "hovertemplate": "ϵ=0.5<br>Unemployment Multiplier=%{x}<br>Optimal stimulus spending (% of GDP)=%{y}<extra></extra>",
         "legendgroup": "0.5",
         "line": {
          "color": "#00cc96",
          "dash": "solid"
         },
         "mode": "lines",
         "name": "0.5",
         "orientation": "v",
         "showlegend": true,
         "type": "scatter",
         "x": [
          0,
          0.02,
          0.04,
          0.06,
          0.08,
          0.1,
          0.12,
          0.14,
          0.16,
          0.18,
          0.2,
          0.22,
          0.24,
          0.26,
          0.28,
          0.3,
          0.32,
          0.34,
          0.36,
          0.38,
          0.4,
          0.42,
          0.44,
          0.46,
          0.48,
          0.5,
          0.52,
          0.54,
          0.56,
          0.58,
          0.6,
          0.62,
          0.64,
          0.66,
          0.68,
          0.7000000000000001,
          0.72,
          0.74,
          0.76,
          0.78,
          0.8,
          0.8200000000000001,
          0.84,
          0.86,
          0.88,
          0.9,
          0.92,
          0.9400000000000001,
          0.96,
          0.98,
          1,
          1.02,
          1.04,
          1.06,
          1.08,
          1.1,
          1.12,
          1.1400000000000001,
          1.16,
          1.18,
          1.2,
          1.22,
          1.24,
          1.26,
          1.28,
          1.3,
          1.32,
          1.34,
          1.36,
          1.3800000000000001,
          1.4000000000000001,
          1.42,
          1.44,
          1.46,
          1.48,
          1.5,
          1.52,
          1.54,
          1.56,
          1.58,
          1.6,
          1.62,
          1.6400000000000001,
          1.6600000000000001,
          1.68,
          1.7,
          1.72,
          1.74,
          1.76,
          1.78,
          1.8,
          1.82,
          1.84,
          1.86,
          1.8800000000000001,
          1.9000000000000001,
          1.92,
          1.94,
          1.96,
          1.98,
          2
         ],
         "xaxis": "x",
         "y": [
          0,
          0.0018181599700829998,
          0.003627425156191938,
          0.00541544674955477,
          0.007170186021757091,
          0.008880182689191607,
          0.010534799634960929,
          0.012124433261678141,
          0.013640681257103299,
          0.015076462568112153,
          0.016426087576353776,
          0.01768527953636015,
          0.0188511510067412,
          0.01992214108719767,
          0.020897920668354386,
          0.02177927359573756,
          0.022567961704865525,
          0.023266581214211907,
          0.02387841710696556,
          0.024407301036698997,
          0.02485747709010111,
          0.025233478542717264,
          0.02554001763377911,
          0.02578188941761106,
          0.025963889949907254,
          0.026090748444645456,
          0.02616707258348744,
          0.026197305856214242,
          0.026185695634707046,
          0.02613627060909643,
          0.026052826218632502,
          0.02593891676961546,
          0.025797853029655676,
          0.025632704206380336,
          0.025446303347667315,
          0.025241255330823803,
          0.025019946733720905,
          0.02478455699775861,
          0.024537070398353122,
          0.024279288432343782,
          0.02401284231314188,
          0.023739205334032898,
          0.023459704918621593,
          0.023175534226032024,
          0.02288776321827049,
          0.022597349129290123,
          0.022305146300854894,
          0.02201191537031258,
          0.021718331810770375,
          0.02142499383572924,
          0.0211324296886905,
          0.020841104344188677,
          0.020551425650651878,
          0.02026374994786284,
          0.01997838719294462,
          0.019695605629018897,
          0.01941563603020599,
          0.019138675555657625,
          0.018864891243971615,
          0.018594423177762276,
          0.018327387346438434,
          0.01806387823344413,
          0.01780397115240176,
          0.017547724354800925,
          0.01729518093013091,
          0.017046370517677267,
          0.016801310847610024,
          0.01656000912749106,
          0.016322463288920952,
          0.016088663107741152,
          0.015858591209992723,
          0.015632223974718612,
          0.015409532343667515,
          0.015190482547016076,
          0.014975036753365534,
          0.014763153651483202,
          0.01455478897054277,
          0.014349895944968383,
          0.014148425729395758,
          0.01395032776872751,
          0.01375555012777549,
          0.013564039784543236,
          0.013375742890803483,
          0.013190605003268019,
          0.013008571288320725,
          0.012829586702994111,
          0.012653596154602847,
          0.012480544641210178,
          0.012310377374888853,
          0.012143039889542212,
          0.011978478134877318,
          0.011816638557963777,
          0.011657468173670443,
          0.011500914625142189,
          0.011346926235365457,
          0.011195452050765803,
          0.011046441877687219,
          0.010899846312518086,
          0.010755616766153109,
          0.010613705483410812,
          0.010474065557964901
         ],
         "yaxis": "y"
        }
       ],
       "layout": {
        "autosize": true,
        "legend": {
         "title": {
          "text": "ϵ"
         },
         "tracegroupgap": 0
        },
        "margin": {
         "t": 60
        },
        "template": {
         "data": {
          "bar": [
           {
            "error_x": {
             "color": "#2a3f5f"
            },
            "error_y": {
             "color": "#2a3f5f"
            },
            "marker": {
             "line": {
              "color": "#E5ECF6",
              "width": 0.5
             },
             "pattern": {
              "fillmode": "overlay",
              "size": 10,
              "solidity": 0.2
             }
            },
            "type": "bar"
           }
          ],
          "barpolar": [
           {
            "marker": {
             "line": {
              "color": "#E5ECF6",
              "width": 0.5
             },
             "pattern": {
              "fillmode": "overlay",
              "size": 10,
              "solidity": 0.2
             }
            },
            "type": "barpolar"
           }
          ],
          "carpet": [
           {
            "aaxis": {
             "endlinecolor": "#2a3f5f",
             "gridcolor": "white",
             "linecolor": "white",
             "minorgridcolor": "white",
             "startlinecolor": "#2a3f5f"
            },
            "baxis": {
             "endlinecolor": "#2a3f5f",
             "gridcolor": "white",
             "linecolor": "white",
             "minorgridcolor": "white",
             "startlinecolor": "#2a3f5f"
            },
            "type": "carpet"
           }
          ],
          "choropleth": [
           {
            "colorbar": {
             "outlinewidth": 0,
             "ticks": ""
            },
            "type": "choropleth"
           }
          ],
          "contour": [
           {
            "colorbar": {
             "outlinewidth": 0,
             "ticks": ""
            },
            "colorscale": [
             [
              0,
              "#0d0887"
             ],
             [
              0.1111111111111111,
              "#46039f"
             ],
             [
              0.2222222222222222,
              "#7201a8"
             ],
             [
              0.3333333333333333,
              "#9c179e"
             ],
             [
              0.4444444444444444,
              "#bd3786"
             ],
             [
              0.5555555555555556,
              "#d8576b"
             ],
             [
              0.6666666666666666,
              "#ed7953"
             ],
             [
              0.7777777777777778,
              "#fb9f3a"
             ],
             [
              0.8888888888888888,
              "#fdca26"
             ],
             [
              1,
              "#f0f921"
             ]
            ],
            "type": "contour"
           }
          ],
          "contourcarpet": [
           {
            "colorbar": {
             "outlinewidth": 0,
             "ticks": ""
            },
            "type": "contourcarpet"
           }
          ],
          "heatmap": [
           {
            "colorbar": {
             "outlinewidth": 0,
             "ticks": ""
            },
            "colorscale": [
             [
              0,
              "#0d0887"
             ],
             [
              0.1111111111111111,
              "#46039f"
             ],
             [
              0.2222222222222222,
              "#7201a8"
             ],
             [
              0.3333333333333333,
              "#9c179e"
             ],
             [
              0.4444444444444444,
              "#bd3786"
             ],
             [
              0.5555555555555556,
              "#d8576b"
             ],
             [
              0.6666666666666666,
              "#ed7953"
             ],
             [
              0.7777777777777778,
              "#fb9f3a"
             ],
             [
              0.8888888888888888,
              "#fdca26"
             ],
             [
              1,
              "#f0f921"
             ]
            ],
            "type": "heatmap"
           }
          ],
          "heatmapgl": [
           {
            "colorbar": {
             "outlinewidth": 0,
             "ticks": ""
            },
            "colorscale": [
             [
              0,
              "#0d0887"
             ],
             [
              0.1111111111111111,
              "#46039f"
             ],
             [
              0.2222222222222222,
              "#7201a8"
             ],
             [
              0.3333333333333333,
              "#9c179e"
             ],
             [
              0.4444444444444444,
              "#bd3786"
             ],
             [
              0.5555555555555556,
              "#d8576b"
             ],
             [
              0.6666666666666666,
              "#ed7953"
             ],
             [
              0.7777777777777778,
              "#fb9f3a"
             ],
             [
              0.8888888888888888,
              "#fdca26"
             ],
             [
              1,
              "#f0f921"
             ]
            ],
            "type": "heatmapgl"
           }
          ],
          "histogram": [
           {
            "marker": {
             "pattern": {
              "fillmode": "overlay",
              "size": 10,
              "solidity": 0.2
             }
            },
            "type": "histogram"
           }
          ],
          "histogram2d": [
           {
            "colorbar": {
             "outlinewidth": 0,
             "ticks": ""
            },
            "colorscale": [
             [
              0,
              "#0d0887"
             ],
             [
              0.1111111111111111,
              "#46039f"
             ],
             [
              0.2222222222222222,
              "#7201a8"
             ],
             [
              0.3333333333333333,
              "#9c179e"
             ],
             [
              0.4444444444444444,
              "#bd3786"
             ],
             [
              0.5555555555555556,
              "#d8576b"
             ],
             [
              0.6666666666666666,
              "#ed7953"
             ],
             [
              0.7777777777777778,
              "#fb9f3a"
             ],
             [
              0.8888888888888888,
              "#fdca26"
             ],
             [
              1,
              "#f0f921"
             ]
            ],
            "type": "histogram2d"
           }
          ],
          "histogram2dcontour": [
           {
            "colorbar": {
             "outlinewidth": 0,
             "ticks": ""
            },
            "colorscale": [
             [
              0,
              "#0d0887"
             ],
             [
              0.1111111111111111,
              "#46039f"
             ],
             [
              0.2222222222222222,
              "#7201a8"
             ],
             [
              0.3333333333333333,
              "#9c179e"
             ],
             [
              0.4444444444444444,
              "#bd3786"
             ],
             [
              0.5555555555555556,
              "#d8576b"
             ],
             [
              0.6666666666666666,
              "#ed7953"
             ],
             [
              0.7777777777777778,
              "#fb9f3a"
             ],
             [
              0.8888888888888888,
              "#fdca26"
             ],
             [
              1,
              "#f0f921"
             ]
            ],
            "type": "histogram2dcontour"
           }
          ],
          "mesh3d": [
           {
            "colorbar": {
             "outlinewidth": 0,
             "ticks": ""
            },
            "type": "mesh3d"
           }
          ],
          "parcoords": [
           {
            "line": {
             "colorbar": {
              "outlinewidth": 0,
              "ticks": ""
             }
            },
            "type": "parcoords"
           }
          ],
          "pie": [
           {
            "automargin": true,
            "type": "pie"
           }
          ],
          "scatter": [
           {
            "marker": {
             "colorbar": {
              "outlinewidth": 0,
              "ticks": ""
             }
            },
            "type": "scatter"
           }
          ],
          "scatter3d": [
           {
            "line": {
             "colorbar": {
              "outlinewidth": 0,
              "ticks": ""
             }
            },
            "marker": {
             "colorbar": {
              "outlinewidth": 0,
              "ticks": ""
             }
            },
            "type": "scatter3d"
           }
          ],
          "scattercarpet": [
           {
            "marker": {
             "colorbar": {
              "outlinewidth": 0,
              "ticks": ""
             }
            },
            "type": "scattercarpet"
           }
          ],
          "scattergeo": [
           {
            "marker": {
             "colorbar": {
              "outlinewidth": 0,
              "ticks": ""
             }
            },
            "type": "scattergeo"
           }
          ],
          "scattergl": [
           {
            "marker": {
             "colorbar": {
              "outlinewidth": 0,
              "ticks": ""
             }
            },
            "type": "scattergl"
           }
          ],
          "scattermapbox": [
           {
            "marker": {
             "colorbar": {
              "outlinewidth": 0,
              "ticks": ""
             }
            },
            "type": "scattermapbox"
           }
          ],
          "scatterpolar": [
           {
            "marker": {
             "colorbar": {
              "outlinewidth": 0,
              "ticks": ""
             }
            },
            "type": "scatterpolar"
           }
          ],
          "scatterpolargl": [
           {
            "marker": {
             "colorbar": {
              "outlinewidth": 0,
              "ticks": ""
             }
            },
            "type": "scatterpolargl"
           }
          ],
          "scatterternary": [
           {
            "marker": {
             "colorbar": {
              "outlinewidth": 0,
              "ticks": ""
             }
            },
            "type": "scatterternary"
           }
          ],
          "surface": [
           {
            "colorbar": {
             "outlinewidth": 0,
             "ticks": ""
            },
            "colorscale": [
             [
              0,
              "#0d0887"
             ],
             [
              0.1111111111111111,
              "#46039f"
             ],
             [
              0.2222222222222222,
              "#7201a8"
             ],
             [
              0.3333333333333333,
              "#9c179e"
             ],
             [
              0.4444444444444444,
              "#bd3786"
             ],
             [
              0.5555555555555556,
              "#d8576b"
             ],
             [
              0.6666666666666666,
              "#ed7953"
             ],
             [
              0.7777777777777778,
              "#fb9f3a"
             ],
             [
              0.8888888888888888,
              "#fdca26"
             ],
             [
              1,
              "#f0f921"
             ]
            ],
            "type": "surface"
           }
          ],
          "table": [
           {
            "cells": {
             "fill": {
              "color": "#EBF0F8"
             },
             "line": {
              "color": "white"
             }
            },
            "header": {
             "fill": {
              "color": "#C8D4E3"
             },
             "line": {
              "color": "white"
             }
            },
            "type": "table"
           }
          ]
         },
         "layout": {
          "annotationdefaults": {
           "arrowcolor": "#2a3f5f",
           "arrowhead": 0,
           "arrowwidth": 1
          },
          "autotypenumbers": "strict",
          "coloraxis": {
           "colorbar": {
            "outlinewidth": 0,
            "ticks": ""
           }
          },
          "colorscale": {
           "diverging": [
            [
             0,
             "#8e0152"
            ],
            [
             0.1,
             "#c51b7d"
            ],
            [
             0.2,
             "#de77ae"
            ],
            [
             0.3,
             "#f1b6da"
            ],
            [
             0.4,
             "#fde0ef"
            ],
            [
             0.5,
             "#f7f7f7"
            ],
            [
             0.6,
             "#e6f5d0"
            ],
            [
             0.7,
             "#b8e186"
            ],
            [
             0.8,
             "#7fbc41"
            ],
            [
             0.9,
             "#4d9221"
            ],
            [
             1,
             "#276419"
            ]
           ],
           "sequential": [
            [
             0,
             "#0d0887"
            ],
            [
             0.1111111111111111,
             "#46039f"
            ],
            [
             0.2222222222222222,
             "#7201a8"
            ],
            [
             0.3333333333333333,
             "#9c179e"
            ],
            [
             0.4444444444444444,
             "#bd3786"
            ],
            [
             0.5555555555555556,
             "#d8576b"
            ],
            [
             0.6666666666666666,
             "#ed7953"
            ],
            [
             0.7777777777777778,
             "#fb9f3a"
            ],
            [
             0.8888888888888888,
             "#fdca26"
            ],
            [
             1,
             "#f0f921"
            ]
           ],
           "sequentialminus": [
            [
             0,
             "#0d0887"
            ],
            [
             0.1111111111111111,
             "#46039f"
            ],
            [
             0.2222222222222222,
             "#7201a8"
            ],
            [
             0.3333333333333333,
             "#9c179e"
            ],
            [
             0.4444444444444444,
             "#bd3786"
            ],
            [
             0.5555555555555556,
             "#d8576b"
            ],
            [
             0.6666666666666666,
             "#ed7953"
            ],
            [
             0.7777777777777778,
             "#fb9f3a"
            ],
            [
             0.8888888888888888,
             "#fdca26"
            ],
            [
             1,
             "#f0f921"
            ]
           ]
          },
          "colorway": [
           "#636efa",
           "#EF553B",
           "#00cc96",
           "#ab63fa",
           "#FFA15A",
           "#19d3f3",
           "#FF6692",
           "#B6E880",
           "#FF97FF",
           "#FECB52"
          ],
          "font": {
           "color": "#2a3f5f"
          },
          "geo": {
           "bgcolor": "white",
           "lakecolor": "white",
           "landcolor": "#E5ECF6",
           "showlakes": true,
           "showland": true,
           "subunitcolor": "white"
          },
          "hoverlabel": {
           "align": "left"
          },
          "hovermode": "closest",
          "mapbox": {
           "style": "light"
          },
          "paper_bgcolor": "white",
          "plot_bgcolor": "#E5ECF6",
          "polar": {
           "angularaxis": {
            "gridcolor": "white",
            "linecolor": "white",
            "ticks": ""
           },
           "bgcolor": "#E5ECF6",
           "radialaxis": {
            "gridcolor": "white",
            "linecolor": "white",
            "ticks": ""
           }
          },
          "scene": {
           "xaxis": {
            "backgroundcolor": "#E5ECF6",
            "gridcolor": "white",
            "gridwidth": 2,
            "linecolor": "white",
            "showbackground": true,
            "ticks": "",
            "zerolinecolor": "white"
           },
           "yaxis": {
            "backgroundcolor": "#E5ECF6",
            "gridcolor": "white",
            "gridwidth": 2,
            "linecolor": "white",
            "showbackground": true,
            "ticks": "",
            "zerolinecolor": "white"
           },
           "zaxis": {
            "backgroundcolor": "#E5ECF6",
            "gridcolor": "white",
            "gridwidth": 2,
            "linecolor": "white",
            "showbackground": true,
            "ticks": "",
            "zerolinecolor": "white"
           }
          },
          "shapedefaults": {
           "line": {
            "color": "#2a3f5f"
           }
          },
          "ternary": {
           "aaxis": {
            "gridcolor": "white",
            "linecolor": "white",
            "ticks": ""
           },
           "baxis": {
            "gridcolor": "white",
            "linecolor": "white",
            "ticks": ""
           },
           "bgcolor": "#E5ECF6",
           "caxis": {
            "gridcolor": "white",
            "linecolor": "white",
            "ticks": ""
           }
          },
          "title": {
           "x": 0.05
          },
          "xaxis": {
           "automargin": true,
           "gridcolor": "white",
           "linecolor": "white",
           "ticks": "",
           "title": {
            "standoff": 15
           },
           "zerolinecolor": "white",
           "zerolinewidth": 2
          },
          "yaxis": {
           "automargin": true,
           "gridcolor": "white",
           "linecolor": "white",
           "ticks": "",
           "title": {
            "standoff": 15
           },
           "zerolinecolor": "white",
           "zerolinewidth": 2
          }
         }
        },
        "xaxis": {
         "anchor": "y",
         "autorange": true,
         "domain": [
          0,
          1
         ],
         "range": [
          0,
          2
         ],
         "title": {
          "text": "Unemployment Multiplier"
         },
         "type": "linear"
        },
        "yaxis": {
         "anchor": "x",
         "autorange": true,
         "domain": [
          0,
          1
         ],
         "range": [
          -0.0024641514034136566,
          0.046818876664859475
         ],
         "title": {
          "text": "Optimal stimulus spending (% of GDP)"
         },
         "type": "linear"
        }
       }
      },
      "image/png": "[encoded data removed]",
      "text/html": [
       "<div>                            <div id=\"31a0f0a8-3a43-465c-be50-f709c59e99c9\" class=\"plotly-graph-div\" style=\"height:525px; width:100%;\"></div>            <script type=\"text/javascript\">                require([\"plotly\"], function(Plotly) {                    window.PLOTLYENV=window.PLOTLYENV || {};                                    if (document.getElementById(\"31a0f0a8-3a43-465c-be50-f709c59e99c9\")) {                    Plotly.newPlot(                        \"31a0f0a8-3a43-465c-be50-f709c59e99c9\",                        [{\"hovertemplate\":\"\\u03f5=1.5<br>Unemployment Multiplier=%{x}<br>Optimal stimulus spending (% of GDP)=%{y}<extra></extra>\",\"legendgroup\":\"1.5\",\"line\":{\"color\":\"#636efa\",\"dash\":\"solid\"},\"mode\":\"lines\",\"name\":\"1.5\",\"orientation\":\"v\",\"showlegend\":true,\"type\":\"scatter\",\"x\":[0.0,0.02,0.04,0.06,0.08,0.1,0.12,0.14,0.16,0.18,0.2,0.22,0.24,0.26,0.28,0.3,0.32,0.34,0.36,0.38,0.4,0.42,0.44,0.46,0.48,0.5,0.52,0.54,0.56,0.58,0.6,0.62,0.64,0.66,0.68,0.7000000000000001,0.72,0.74,0.76,0.78,0.8,0.8200000000000001,0.84,0.86,0.88,0.9,0.92,0.9400000000000001,0.96,0.98,1.0,1.02,1.04,1.06,1.08,1.1,1.12,1.1400000000000001,1.16,1.18,1.2,1.22,1.24,1.26,1.28,1.3,1.32,1.34,1.36,1.3800000000000001,1.4000000000000001,1.42,1.44,1.46,1.48,1.5,1.52,1.54,1.56,1.58,1.6,1.62,1.6400000000000001,1.6600000000000001,1.68,1.7,1.72,1.74,1.76,1.78,1.8,1.82,1.84,1.86,1.8800000000000001,1.9000000000000001,1.92,1.94,1.96,1.98,2.0],\"xaxis\":\"x\",\"y\":[0.0,0.005418706574033455,0.01069275680104756,0.015722768220632316,0.02042392811881527,0.024730125172682943,0.028595939273412946,0.031996554518863324,0.03492597146677687,0.03739406680199048,0.03942307785499871,0.04104401087719495,0.04229333609921046,0.043210185421677566,0.043834141135690785,0.04420361073753887,0.04435472526144582,0.044320670796671596,0.04413135645933339,0.043813328818249564,0.043389856098491886,0.04288112091675944,0.04230447514345373,0.04167472337859021,0.04100441199333388,0.04030410875953577,0.03958266405463215,0.03884744886958849,0.03810456774494875,0.0373590466523806,0.036614997004302124,0.03587575762968889,0.0351440168638143,0.034421916983190276,0.03371114315948165,0.03301299896667462,0.03232847029407984,0.03165827931987611,0.03100293000219978,0.030362746356973863,0.02973790461900197,0.02912846022766241,0.028534370441322537,0.0279555132647355,0.027391703269943196,0.026842704802058193,0.026308242985092184,0.02578801287814153,0.025281687077215648,0.024788922011432124,0.024309363142977353,0.023842649247063336,0.02338841592016977,0.022946298441335056,0.02251593409146646,0.022096964018985477,0.021689034726119022,0.0212917992383643,0.02090491800974273,0.020528059608117627,0.020160901217831373,0.019803128991004865,0.019454438273866392,0.019114533730281047,0.018783129381117897,0.018459948575111434,0.018144723904360033,0.017837197075484645,0.017537118745681396,0.017244248331391543,0.01695835379603866,0.016679211422206963,0.016406605572727023,0.016140328444369606,0.01588017981720105,0.01562596680211073,0.015377503588560076,0.015134611194217718,0.014897117217818917,0.014664855596314558,0.014437666367146385,0.014215395436292105,0.013997894352564128,0.013785020088511929,0.013576634828166817,0.01337260576177568,0.013172804887594397,0.012977108820750094,0.012785398609129889,0.012597559556213056,0.012413481050731617,0.01223305640301739,0.012056182687874367,0.011882760593800112,0.011712694278367963,0.011545891229575472,0.011382262132958426,0.011221720744267888,0.011064183767506786,0.010909570738123542,0.010757803911162461],\"yaxis\":\"y\"},{\"hovertemplate\":\"\\u03f5=1.0<br>Unemployment Multiplier=%{x}<br>Optimal stimulus spending (% of GDP)=%{y}<extra></extra>\",\"legendgroup\":\"1.0\",\"line\":{\"color\":\"#EF553B\",\"dash\":\"solid\"},\"mode\":\"lines\",\"name\":\"1.0\",\"orientation\":\"v\",\"showlegend\":true,\"type\":\"scatter\",\"x\":[0.0,0.02,0.04,0.06,0.08,0.1,0.12,0.14,0.16,0.18,0.2,0.22,0.24,0.26,0.28,0.3,0.32,0.34,0.36,0.38,0.4,0.42,0.44,0.46,0.48,0.5,0.52,0.54,0.56,0.58,0.6,0.62,0.64,0.66,0.68,0.7000000000000001,0.72,0.74,0.76,0.78,0.8,0.8200000000000001,0.84,0.86,0.88,0.9,0.92,0.9400000000000001,0.96,0.98,1.0,1.02,1.04,1.06,1.08,1.1,1.12,1.1400000000000001,1.16,1.18,1.2,1.22,1.24,1.26,1.28,1.3,1.32,1.34,1.36,1.3800000000000001,1.4000000000000001,1.42,1.44,1.46,1.48,1.5,1.52,1.54,1.56,1.58,1.6,1.62,1.6400000000000001,1.6600000000000001,1.68,1.7,1.72,1.74,1.76,1.78,1.8,1.82,1.84,1.86,1.8800000000000001,1.9000000000000001,1.92,1.94,1.96,1.98,2.0],\"xaxis\":\"x\",\"y\":[0.0,0.0036243562627293335,0.007191122502054864,0.010653511233971458,0.013968776272973493,0.017099875521031732,0.02001666434010349,0.0226965579387223,0.025124667685899216,0.02729347262363732,0.02920212592556884,0.03085551399367406,0.032263185177284576,0.03343825054570798,0.034396336622105894,0.0351546449145978,0.03573114953937173,0.03614394467897861,0.0364107390632932,0.03654848504223421,0.03657312444405378,0.03649943131353328,0.036340931813314103,0.03610988318652683,0.03581729604381445,0.035472986868924805,0.03508565021854396,0.03466294244036219,0.03421157076034184,0.03373738327122805,0.03324545670370871,0.03274017991428205,0.03222533182356199,0.031704153130344415,0.031179411552104574,0.03065346063834562,0.030128292400182194,0.029605584122796347,0.029086739796861022,0.028572926636155405,0.028065107153198016,0.02756406725163424,0.027070440769833504,0.026584730879379848,0.026107328708199484,0.02563852952324361,0.025178546773472393,0.02472752426132732,0.024285546680516246,0.02385264873005588,0.02342882298922419,0.023014026715343694,0.02260818770603351,0.022211209349579902,0.021822974971194842,0.021443351568966734,0.021072193021067553,0.020709342835074807,0.020354636500927947,0.020007903500900426,0.019668969022890392,0.019337655417180744,0.019013783431476527,0.01869717325439199,0.0183876453935386,0.018085021410878227,0.017789124534983325,0.017499780167226198,0.01721681629664845,0.01694006383629365,0.016669356892079712,0.016404532973809866,0.016145433156637023,0.01589190220018563,0.015643788631570177,0.015400944797712951,0.015163226891637294,0.014930494956783696,0.014702612872847659,0.014479448326165212,0.01426087276725782,0.01404676135779298,0.013836992908903667,0.013631449812540664,0.013430017967298508,0.013232586699950116,0.013039048683749499,0.012849299854409024,0.012663239324523096,0.01248076929709524,0.012301794978725411,0.012126224492926996,0.011953968793967706,0.011784941581563624,0.011619059216698646,0.011456240638793164,0.011296407284404009,0.011139483007600454,0.010985394002130555,0.010834068725465357,0.01068543782478415],\"yaxis\":\"y\"},{\"hovertemplate\":\"\\u03f5=0.5<br>Unemployment Multiplier=%{x}<br>Optimal stimulus spending (% of GDP)=%{y}<extra></extra>\",\"legendgroup\":\"0.5\",\"line\":{\"color\":\"#00cc96\",\"dash\":\"solid\"},\"mode\":\"lines\",\"name\":\"0.5\",\"orientation\":\"v\",\"showlegend\":true,\"type\":\"scatter\",\"x\":[0.0,0.02,0.04,0.06,0.08,0.1,0.12,0.14,0.16,0.18,0.2,0.22,0.24,0.26,0.28,0.3,0.32,0.34,0.36,0.38,0.4,0.42,0.44,0.46,0.48,0.5,0.52,0.54,0.56,0.58,0.6,0.62,0.64,0.66,0.68,0.7000000000000001,0.72,0.74,0.76,0.78,0.8,0.8200000000000001,0.84,0.86,0.88,0.9,0.92,0.9400000000000001,0.96,0.98,1.0,1.02,1.04,1.06,1.08,1.1,1.12,1.1400000000000001,1.16,1.18,1.2,1.22,1.24,1.26,1.28,1.3,1.32,1.34,1.36,1.3800000000000001,1.4000000000000001,1.42,1.44,1.46,1.48,1.5,1.52,1.54,1.56,1.58,1.6,1.62,1.6400000000000001,1.6600000000000001,1.68,1.7,1.72,1.74,1.76,1.78,1.8,1.82,1.84,1.86,1.8800000000000001,1.9000000000000001,1.92,1.94,1.96,1.98,2.0],\"xaxis\":\"x\",\"y\":[0.0,0.0018181599700829998,0.003627425156191938,0.00541544674955477,0.007170186021757091,0.008880182689191607,0.010534799634960929,0.012124433261678141,0.013640681257103299,0.015076462568112153,0.016426087576353776,0.01768527953636015,0.0188511510067412,0.01992214108719767,0.020897920668354386,0.02177927359573756,0.022567961704865525,0.023266581214211907,0.02387841710696556,0.024407301036698997,0.02485747709010111,0.025233478542717264,0.02554001763377911,0.02578188941761106,0.025963889949907254,0.026090748444645456,0.02616707258348744,0.026197305856214242,0.026185695634707046,0.02613627060909643,0.026052826218632502,0.02593891676961546,0.025797853029655676,0.025632704206380336,0.025446303347667315,0.025241255330823803,0.025019946733720905,0.02478455699775861,0.024537070398353122,0.024279288432343782,0.02401284231314188,0.023739205334032898,0.023459704918621593,0.023175534226032024,0.02288776321827049,0.022597349129290123,0.022305146300854894,0.02201191537031258,0.021718331810770375,0.02142499383572924,0.0211324296886905,0.020841104344188677,0.020551425650651878,0.02026374994786284,0.01997838719294462,0.019695605629018897,0.01941563603020599,0.019138675555657625,0.018864891243971615,0.018594423177762276,0.018327387346438434,0.01806387823344413,0.01780397115240176,0.017547724354800925,0.01729518093013091,0.017046370517677267,0.016801310847610024,0.01656000912749106,0.016322463288920952,0.016088663107741152,0.015858591209992723,0.015632223974718612,0.015409532343667515,0.015190482547016076,0.014975036753365534,0.014763153651483202,0.01455478897054277,0.014349895944968383,0.014148425729395758,0.01395032776872751,0.01375555012777549,0.013564039784543236,0.013375742890803483,0.013190605003268019,0.013008571288320725,0.012829586702994111,0.012653596154602847,0.012480544641210178,0.012310377374888853,0.012143039889542212,0.011978478134877318,0.011816638557963777,0.011657468173670443,0.011500914625142189,0.011346926235365457,0.011195452050765803,0.011046441877687219,0.010899846312518086,0.010755616766153109,0.010613705483410812,0.010474065557964901],\"yaxis\":\"y\"}],                        {\"legend\":{\"title\":{\"text\":\"\\u03f5\"},\"tracegroupgap\":0},\"margin\":{\"t\":60},\"template\":{\"data\":{\"bar\":[{\"error_x\":{\"color\":\"#2a3f5f\"},\"error_y\":{\"color\":\"#2a3f5f\"},\"marker\":{\"line\":{\"color\":\"#E5ECF6\",\"width\":0.5},\"pattern\":{\"fillmode\":\"overlay\",\"size\":10,\"solidity\":0.2}},\"type\":\"bar\"}],\"barpolar\":[{\"marker\":{\"line\":{\"color\":\"#E5ECF6\",\"width\":0.5},\"pattern\":{\"fillmode\":\"overlay\",\"size\":10,\"solidity\":0.2}},\"type\":\"barpolar\"}],\"carpet\":[{\"aaxis\":{\"endlinecolor\":\"#2a3f5f\",\"gridcolor\":\"white\",\"linecolor\":\"white\",\"minorgridcolor\":\"white\",\"startlinecolor\":\"#2a3f5f\"},\"baxis\":{\"endlinecolor\":\"#2a3f5f\",\"gridcolor\":\"white\",\"linecolor\":\"white\",\"minorgridcolor\":\"white\",\"startlinecolor\":\"#2a3f5f\"},\"type\":\"carpet\"}],\"choropleth\":[{\"colorbar\":{\"outlinewidth\":0,\"ticks\":\"\"},\"type\":\"choropleth\"}],\"contour\":[{\"colorbar\":{\"outlinewidth\":0,\"ticks\":\"\"},\"colorscale\":[[0.0,\"#0d0887\"],[0.1111111111111111,\"#46039f\"],[0.2222222222222222,\"#7201a8\"],[0.3333333333333333,\"#9c179e\"],[0.4444444444444444,\"#bd3786\"],[0.5555555555555556,\"#d8576b\"],[0.6666666666666666,\"#ed7953\"],[0.7777777777777778,\"#fb9f3a\"],[0.8888888888888888,\"#fdca26\"],[1.0,\"#f0f921\"]],\"type\":\"contour\"}],\"contourcarpet\":[{\"colorbar\":{\"outlinewidth\":0,\"ticks\":\"\"},\"type\":\"contourcarpet\"}],\"heatmap\":[{\"colorbar\":{\"outlinewidth\":0,\"ticks\":\"\"},\"colorscale\":[[0.0,\"#0d0887\"],[0.1111111111111111,\"#46039f\"],[0.2222222222222222,\"#7201a8\"],[0.3333333333333333,\"#9c179e\"],[0.4444444444444444,\"#bd3786\"],[0.5555555555555556,\"#d8576b\"],[0.6666666666666666,\"#ed7953\"],[0.7777777777777778,\"#fb9f3a\"],[0.8888888888888888,\"#fdca26\"],[1.0,\"#f0f921\"]],\"type\":\"heatmap\"}],\"heatmapgl\":[{\"colorbar\":{\"outlinewidth\":0,\"ticks\":\"\"},\"colorscale\":[[0.0,\"#0d0887\"],[0.1111111111111111,\"#46039f\"],[0.2222222222222222,\"#7201a8\"],[0.3333333333333333,\"#9c179e\"],[0.4444444444444444,\"#bd3786\"],[0.5555555555555556,\"#d8576b\"],[0.6666666666666666,\"#ed7953\"],[0.7777777777777778,\"#fb9f3a\"],[0.8888888888888888,\"#fdca26\"],[1.0,\"#f0f921\"]],\"type\":\"heatmapgl\"}],\"histogram\":[{\"marker\":{\"pattern\":{\"fillmode\":\"overlay\",\"size\":10,\"solidity\":0.2}},\"type\":\"histogram\"}],\"histogram2d\":[{\"colorbar\":{\"outlinewidth\":0,\"ticks\":\"\"},\"colorscale\":[[0.0,\"#0d0887\"],[0.1111111111111111,\"#46039f\"],[0.2222222222222222,\"#7201a8\"],[0.3333333333333333,\"#9c179e\"],[0.4444444444444444,\"#bd3786\"],[0.5555555555555556,\"#d8576b\"],[0.6666666666666666,\"#ed7953\"],[0.7777777777777778,\"#fb9f3a\"],[0.8888888888888888,\"#fdca26\"],[1.0,\"#f0f921\"]],\"type\":\"histogram2d\"}],\"histogram2dcontour\":[{\"colorbar\":{\"outlinewidth\":0,\"ticks\":\"\"},\"colorscale\":[[0.0,\"#0d0887\"],[0.1111111111111111,\"#46039f\"],[0.2222222222222222,\"#7201a8\"],[0.3333333333333333,\"#9c179e\"],[0.4444444444444444,\"#bd3786\"],[0.5555555555555556,\"#d8576b\"],[0.6666666666666666,\"#ed7953\"],[0.7777777777777778,\"#fb9f3a\"],[0.8888888888888888,\"#fdca26\"],[1.0,\"#f0f921\"]],\"type\":\"histogram2dcontour\"}],\"mesh3d\":[{\"colorbar\":{\"outlinewidth\":0,\"ticks\":\"\"},\"type\":\"mesh3d\"}],\"parcoords\":[{\"line\":{\"colorbar\":{\"outlinewidth\":0,\"ticks\":\"\"}},\"type\":\"parcoords\"}],\"pie\":[{\"automargin\":true,\"type\":\"pie\"}],\"scatter\":[{\"marker\":{\"colorbar\":{\"outlinewidth\":0,\"ticks\":\"\"}},\"type\":\"scatter\"}],\"scatter3d\":[{\"line\":{\"colorbar\":{\"outlinewidth\":0,\"ticks\":\"\"}},\"marker\":{\"colorbar\":{\"outlinewidth\":0,\"ticks\":\"\"}},\"type\":\"scatter3d\"}],\"scattercarpet\":[{\"marker\":{\"colorbar\":{\"outlinewidth\":0,\"ticks\":\"\"}},\"type\":\"scattercarpet\"}],\"scattergeo\":[{\"marker\":{\"colorbar\":{\"outlinewidth\":0,\"ticks\":\"\"}},\"type\":\"scattergeo\"}],\"scattergl\":[{\"marker\":{\"colorbar\":{\"outlinewidth\":0,\"ticks\":\"\"}},\"type\":\"scattergl\"}],\"scattermapbox\":[{\"marker\":{\"colorbar\":{\"outlinewidth\":0,\"ticks\":\"\"}},\"type\":\"scattermapbox\"}],\"scatterpolar\":[{\"marker\":{\"colorbar\":{\"outlinewidth\":0,\"ticks\":\"\"}},\"type\":\"scatterpolar\"}],\"scatterpolargl\":[{\"marker\":{\"colorbar\":{\"outlinewidth\":0,\"ticks\":\"\"}},\"type\":\"scatterpolargl\"}],\"scatterternary\":[{\"marker\":{\"colorbar\":{\"outlinewidth\":0,\"ticks\":\"\"}},\"type\":\"scatterternary\"}],\"surface\":[{\"colorbar\":{\"outlinewidth\":0,\"ticks\":\"\"},\"colorscale\":[[0.0,\"#0d0887\"],[0.1111111111111111,\"#46039f\"],[0.2222222222222222,\"#7201a8\"],[0.3333333333333333,\"#9c179e\"],[0.4444444444444444,\"#bd3786\"],[0.5555555555555556,\"#d8576b\"],[0.6666666666666666,\"#ed7953\"],[0.7777777777777778,\"#fb9f3a\"],[0.8888888888888888,\"#fdca26\"],[1.0,\"#f0f921\"]],\"type\":\"surface\"}],\"table\":[{\"cells\":{\"fill\":{\"color\":\"#EBF0F8\"},\"line\":{\"color\":\"white\"}},\"header\":{\"fill\":{\"color\":\"#C8D4E3\"},\"line\":{\"color\":\"white\"}},\"type\":\"table\"}]},\"layout\":{\"annotationdefaults\":{\"arrowcolor\":\"#2a3f5f\",\"arrowhead\":0,\"arrowwidth\":1},\"autotypenumbers\":\"strict\",\"coloraxis\":{\"colorbar\":{\"outlinewidth\":0,\"ticks\":\"\"}},\"colorscale\":{\"diverging\":[[0,\"#8e0152\"],[0.1,\"#c51b7d\"],[0.2,\"#de77ae\"],[0.3,\"#f1b6da\"],[0.4,\"#fde0ef\"],[0.5,\"#f7f7f7\"],[0.6,\"#e6f5d0\"],[0.7,\"#b8e186\"],[0.8,\"#7fbc41\"],[0.9,\"#4d9221\"],[1,\"#276419\"]],\"sequential\":[[0.0,\"#0d0887\"],[0.1111111111111111,\"#46039f\"],[0.2222222222222222,\"#7201a8\"],[0.3333333333333333,\"#9c179e\"],[0.4444444444444444,\"#bd3786\"],[0.5555555555555556,\"#d8576b\"],[0.6666666666666666,\"#ed7953\"],[0.7777777777777778,\"#fb9f3a\"],[0.8888888888888888,\"#fdca26\"],[1.0,\"#f0f921\"]],\"sequentialminus\":[[0.0,\"#0d0887\"],[0.1111111111111111,\"#46039f\"],[0.2222222222222222,\"#7201a8\"],[0.3333333333333333,\"#9c179e\"],[0.4444444444444444,\"#bd3786\"],[0.5555555555555556,\"#d8576b\"],[0.6666666666666666,\"#ed7953\"],[0.7777777777777778,\"#fb9f3a\"],[0.8888888888888888,\"#fdca26\"],[1.0,\"#f0f921\"]]},\"colorway\":[\"#636efa\",\"#EF553B\",\"#00cc96\",\"#ab63fa\",\"#FFA15A\",\"#19d3f3\",\"#FF6692\",\"#B6E880\",\"#FF97FF\",\"#FECB52\"],\"font\":{\"color\":\"#2a3f5f\"},\"geo\":{\"bgcolor\":\"white\",\"lakecolor\":\"white\",\"landcolor\":\"#E5ECF6\",\"showlakes\":true,\"showland\":true,\"subunitcolor\":\"white\"},\"hoverlabel\":{\"align\":\"left\"},\"hovermode\":\"closest\",\"mapbox\":{\"style\":\"light\"},\"paper_bgcolor\":\"white\",\"plot_bgcolor\":\"#E5ECF6\",\"polar\":{\"angularaxis\":{\"gridcolor\":\"white\",\"linecolor\":\"white\",\"ticks\":\"\"},\"bgcolor\":\"#E5ECF6\",\"radialaxis\":{\"gridcolor\":\"white\",\"linecolor\":\"white\",\"ticks\":\"\"}},\"scene\":{\"xaxis\":{\"backgroundcolor\":\"#E5ECF6\",\"gridcolor\":\"white\",\"gridwidth\":2,\"linecolor\":\"white\",\"showbackground\":true,\"ticks\":\"\",\"zerolinecolor\":\"white\"},\"yaxis\":{\"backgroundcolor\":\"#E5ECF6\",\"gridcolor\":\"white\",\"gridwidth\":2,\"linecolor\":\"white\",\"showbackground\":true,\"ticks\":\"\",\"zerolinecolor\":\"white\"},\"zaxis\":{\"backgroundcolor\":\"#E5ECF6\",\"gridcolor\":\"white\",\"gridwidth\":2,\"linecolor\":\"white\",\"showbackground\":true,\"ticks\":\"\",\"zerolinecolor\":\"white\"}},\"shapedefaults\":{\"line\":{\"color\":\"#2a3f5f\"}},\"ternary\":{\"aaxis\":{\"gridcolor\":\"white\",\"linecolor\":\"white\",\"ticks\":\"\"},\"baxis\":{\"gridcolor\":\"white\",\"linecolor\":\"white\",\"ticks\":\"\"},\"bgcolor\":\"#E5ECF6\",\"caxis\":{\"gridcolor\":\"white\",\"linecolor\":\"white\",\"ticks\":\"\"}},\"title\":{\"x\":0.05},\"xaxis\":{\"automargin\":true,\"gridcolor\":\"white\",\"linecolor\":\"white\",\"ticks\":\"\",\"title\":{\"standoff\":15},\"zerolinecolor\":\"white\",\"zerolinewidth\":2},\"yaxis\":{\"automargin\":true,\"gridcolor\":\"white\",\"linecolor\":\"white\",\"ticks\":\"\",\"title\":{\"standoff\":15},\"zerolinecolor\":\"white\",\"zerolinewidth\":2}}},\"xaxis\":{\"anchor\":\"y\",\"domain\":[0.0,1.0],\"title\":{\"text\":\"Unemployment Multiplier\"}},\"yaxis\":{\"anchor\":\"x\",\"domain\":[0.0,1.0],\"title\":{\"text\":\"Optimal stimulus spending (% of GDP)\"}}},                        {\"responsive\": true}                    ).then(function(){\n",
       "                            \n",
       "var gd = document.getElementById('31a0f0a8-3a43-465c-be50-f709c59e99c9');\n",
       "var x = new MutationObserver(function (mutations, observer) {{\n",
       "        var display = window.getComputedStyle(gd).display;\n",
       "        if (!display || display === 'none') {{\n",
       "            console.log([gd, 'removed!']);\n",
       "            Plotly.purge(gd);\n",
       "            observer.disconnect();\n",
       "        }}\n",
       "}});\n",
       "\n",
       "// Listen for the removal of the full notebook cells\n",
       "var notebookContainer = gd.closest('#notebook-container');\n",
       "if (notebookContainer) {{\n",
       "    x.observe(notebookContainer, {childList: true});\n",
       "}}\n",
       "\n",
       "// Listen for the clearing of the current output cell\n",
       "var outputEl = gd.closest('.output');\n",
       "if (outputEl) {{\n",
       "    x.observe(outputEl, {childList: true});\n",
       "}}\n",
       "\n",
       "                        })                };                });            </script>        </div>"
      ]
     },
     "metadata": {},
     "output_type": "display_data"
    }
   ],
   "source": [
    "stim_vals = stim_func(epsilon=params['epsilon'])\n",
    "stim_vals_h = stim_func(epsilon=params['epsilon_h'])\n",
    "stim_vals_l = stim_func(epsilon=params['epsilon_l'])\n",
    "stim = pd.DataFrame(data={'M':M_vals,\n",
    "                          params[\"epsilon_h\"]:stim_vals_h, \n",
    "                          params[\"epsilon\"]:stim_vals,\n",
    "                          params[\"epsilon_l\"]:stim_vals_l})\n",
    "stim = stim.melt(id_vars=['M'], var_name='ϵ', value_name='G/Y')\n",
    "fig = px.line(stim, x=\"M\", y='G/Y', color='ϵ', \n",
    "              labels={\"M\": \"Unemployment Multiplier\",\n",
    "                      \"G/Y\": \"Optimal stimulus spending (% of GDP)\"})\n",
    "fig"
   ]
  },
  {
   "cell_type": "markdown",
   "id": "07597154-7bd1-4843-b7cb-5a2447997db4",
   "metadata": {},
   "source": [
    "## Storing Optimal Stimulus\n",
    "\n",
    "We now store the optimal stimulus for your custom $u_0$. "
   ]
  },
  {
   "cell_type": "code",
   "execution_count": 13,
   "id": "f00e82eb-2f3e-4908-be6b-0daa1dd66470",
   "metadata": {},
   "outputs": [],
   "source": [
    "stim.to_csv('output/stim.csv', index=False)"
   ]
  }
 ],
 "metadata": {
  "kernelspec": {
   "display_name": "Python 3",
   "language": "python",
   "name": "python3"
  },
  "language_info": {
   "codemirror_mode": {
    "name": "ipython",
    "version": 3
   },
   "file_extension": ".py",
   "mimetype": "text/x-python",
   "name": "python",
   "nbconvert_exporter": "python",
   "pygments_lexer": "ipython3",
   "version": "3.9.5"
  }
 },
 "nbformat": 4,
 "nbformat_minor": 5
}
